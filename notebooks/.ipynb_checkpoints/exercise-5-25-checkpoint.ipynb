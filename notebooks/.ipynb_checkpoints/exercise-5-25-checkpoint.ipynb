{
 "cells": [
  {
   "cell_type": "markdown",
   "id": "d28ce0e9-965a-4244-ad32-cf357d9e62c8",
   "metadata": {},
   "source": [
    "# Exercise 5.25\n",
    "\n",
    "**Reference:** Robert, C. (2007). The Bayesian choice: from decision-theoretic foundations to computational implementation. Springer Science & Business Media.\n",
    "\n",
    "**Exemple 5.3.13:** Consider $x \\sim B(n, p)$, when the hypothesis to be tested is $H_0 : p = 1/2$ and $H_1 : p \\neq 1/2$. The p-value associated with the likelihood ratio\n",
    "\n",
    "$$\\frac{f(x|1/2)}{\\sup_p f (x|p)} = \\frac{(1/2)^n}{\\left(\\frac{x}{n}\\right)\\left(1 - \\frac{x}{n}\\right)^{n-x}} \\propto x^{-x}(n-x)^{(n-x)}\n",
    "$$\n",
    "\n",
    "is the function\n",
    "\n",
    "$$\n",
    "\\tilde{p}(x) = P_{1/2}\\left(X^X(n - X)^{(n-X)} \\le x^x(n - x)^{(n−x)}\\right),\n",
    "$$\n",
    "where $X \\sim B(n, 1/2).$. \n",
    "\n",
    "For the p-value $\\tilde{p}$ defined in Example 5.3.13, determine the values of $\\tilde{p}(x)$\n",
    "for $n = 15$ and compare with\n",
    "\n",
    "$$p(x) = P_{1/2}[f(X|1/2) > f (x|1/2)].$$"
   ]
  },
  {
   "cell_type": "code",
   "execution_count": 11,
   "id": "843528ed-fdd3-43ea-97a6-ab50b1066637",
   "metadata": {},
   "outputs": [],
   "source": [
    "import numpy as np\n",
    "import matplotlib.pyplot as plt"
   ]
  },
  {
   "cell_type": "markdown",
   "id": "73e138df-f703-4943-b66c-6018fffe2f6a",
   "metadata": {},
   "source": [
    "Defining the functions given in the exercise."
   ]
  },
  {
   "cell_type": "code",
   "execution_count": 36,
   "id": "6e4253eb-dc99-4640-bf5a-c4072e0bd112",
   "metadata": {},
   "outputs": [],
   "source": [
    "# distribuition of x|p\n",
    "f = lambda n, x, p: p**x*(1-p)**(n-x)\n",
    "\n",
    "# p_value function for each x\n",
    "def p_value(x, **kwargs): \n",
    "    n = kwargs.get(\"n\", 10)\n",
    "    mc_sample = kwargs.get(\"size\", 10000)\n",
    "    # approximate p_value using Monte Carlo\n",
    "    X = np.random.binomial(n = n, p = 1/2, size = mc_sample)\n",
    "    p_tilde = np.mean(X**X*(n-X)**(n-X) <= x**x*(n-x)**(n-x))\n",
    "    return p_tilde\n",
    "\n",
    "# p function given in the exercise. \n",
    "def prob_likelihood(x, **kwargs):\n",
    "    n = kwargs.get(\"n\", 10)\n",
    "    mc_sample = kwargs.get(\"size\", 10000)\n",
    "    # approximate p_value using Monte Carlo\n",
    "    X = np.random.binomial(n = n, p = 1/2, size = mc_sample)\n",
    "    p = np.mean(f(n,X,1/2) > f(n,x,1/2))\n",
    "    return p"
   ]
  },
  {
   "cell_type": "code",
   "execution_count": 37,
   "id": "534f472c-7023-4df2-a08d-9efe7358ce39",
   "metadata": {},
   "outputs": [],
   "source": [
    "X = np.random.binomial(n = n, p = 1/2)"
   ]
  },
  {
   "cell_type": "markdown",
   "id": "09bf7df2-2557-4399-83e7-66d444cf2ae2",
   "metadata": {},
   "source": [
    "Defining the data."
   ]
  },
  {
   "cell_type": "code",
   "execution_count": 38,
   "id": "8e201c4d-478f-4282-a3fe-af48b40b9f5e",
   "metadata": {},
   "outputs": [],
   "source": [
    "n = 15\n",
    "x = np.array(range(0,16))"
   ]
  },
  {
   "cell_type": "markdown",
   "id": "d8b274ba-57c7-4896-a99a-168516b5ab4f",
   "metadata": {},
   "source": [
    "Comparing the results. "
   ]
  },
  {
   "cell_type": "code",
   "execution_count": 41,
   "id": "fb93e737-5556-4061-92d5-bfd1bd1226ee",
   "metadata": {},
   "outputs": [
    {
     "data": {
      "image/png": "[encoded data removed]",
      "text/plain": [
       "<Figure size 432x288 with 1 Axes>"
      ]
     },
     "metadata": {
      "needs_background": "light"
     },
     "output_type": "display_data"
    }
   ],
   "source": [
    "p_tilde = np.array([p_value(x_i, n = n) for x_i in x])\n",
    "p = np.array([prob_likelihood(x_i, n = n) for x_i in x])\n",
    "\n",
    "pos = np.arange(len(p_tilde))  # the label locations\n",
    "width = 0.35  # the width of the bars\n",
    "\n",
    "fig, ax = plt.subplots()\n",
    "rects1 = ax.bar(pos - width/2, p_tilde, width, label=r'$\\tilde{p}(x)$')\n",
    "rects2 = ax.bar(pos + width/2, p, width, label=r'$p(x)$')\n",
    "\n",
    "# Add some text for labels, title and custom x-axis tick labels, etc.\n",
    "ax.set_ylabel('Probabilities')\n",
    "ax.set_title('Comparting two probabilities')\n",
    "ax.legend()\n",
    "fig.tight_layout()\n",
    "\n",
    "plt.show()"
   ]
  },
  {
   "cell_type": "markdown",
   "id": "92e7965b-ad56-4c85-9494-4e45add191d7",
   "metadata": {},
   "source": [
    "Of course $p(x) \\equiv 0$, because $f(x|1/2) = 2^{-n}$ for every $x$> In special, $f(X|1/2)$ does not depend on $X$. "
   ]
  }
 ],
 "metadata": {
  "kernelspec": {
   "display_name": "Python 3.7.3 64-bit ('base')",
   "language": "python",
   "name": "python37364bitbase6782713bed674ed7a26121bd52530782"
  },
  "language_info": {
   "codemirror_mode": {
    "name": "ipython",
    "version": 3
   },
   "file_extension": ".py",
   "mimetype": "text/x-python",
   "name": "python",
   "nbconvert_exporter": "python",
   "pygments_lexer": "ipython3",
   "version": "3.7.1"
  }
 },
 "nbformat": 4,
 "nbformat_minor": 5
}
