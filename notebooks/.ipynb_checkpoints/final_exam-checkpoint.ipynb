{
 "cells": [
  {
   "cell_type": "markdown",
   "id": "02ee3452-bef4-42c6-a65e-e20f7c03b2fb",
   "metadata": {},
   "source": [
    "# Final assignment \n",
    "\n",
    "This notebook develops the practice part of the final assignment. The writing part can be found [here](https://github.com/lucasmoschen/phd-bayesian-statistics/blob/main/notes/final_assignment/A2.pdf).\n",
    "\n",
    "## Inferring population sizes - practice\n",
    "\n",
    "Consider the problem of inferring the population sizes of major herbivores. In the first case, one is interested in estimating the number of impala (*Aepyceros melampus*) herds in the Kruger National Park, in northeastern South Africa. In an initial survey collected the following numbers of herds: $\\boldsymbol{x}_{\\text{impala}} = \\{15, 20, 21, 23, 26\\}$. Another scientific question is the number of individual waterbuck (*Kobus ellipsiprymnus*) in the same park. The observed numbers of waterbuck in separate sightings were $\\boldsymbol{x}_{\\text{waterbuck}} = \\{53, 57, 66, 67, 72\\}$ and may be regarded (for simplicity) as independent and identically distributed.\n",
    "\n",
    "Impala           |  Waterbuck\n",
    ":-------------------------:|:-------------------------:\n",
    "![impala](../notes/final_assignment/figures/impala.jpeg)|![waterbuck](../notes/final_assignment/figures/waterbuck.jpeg)\n",
    "Two antelope species whose population sizes we want to estimate.\n",
    "\n",
    "For each data set, sketch the marginal posterior distributions $p_1(N \\mid \\boldsymbol{x})$, $p_2(N \\mid \\boldsymbol{x})$ and $p_3(N \\mid \\boldsymbol{x})$. Moreover, under each posterior,  provide (i) the Bayes estimator under quadratic loss and under the relative quadratic loss and (ii) a 95\\% credibility interval for $N$.\n",
    "\n",
    "Discuss the differences and similarities between these distributions and estimates: do the prior modelling choices substantially impact the final inferences? If so, how?"
   ]
  },
  {
   "cell_type": "code",
   "execution_count": 15,
   "id": "626583bb-f9b3-4725-b754-79d91fec0b97",
   "metadata": {},
   "outputs": [],
   "source": [
    "import numpy as np \n",
    "import pystan as ps\n",
    "import matplotlib.pyplot as plt\n",
    "\n",
    "import pymc3 as pm\n",
    "import arviz as az\n",
    "\n",
    "from scipy.special import beta, comb"
   ]
  },
  {
   "cell_type": "markdown",
   "id": "b694fd90-330c-4452-b00d-c0c33ed65c42",
   "metadata": {},
   "source": [
    "### Raftery approach\n",
    "\n",
    "We define the model for the Raftery approach. "
   ]
  },
  {
   "cell_type": "code",
   "execution_count": 6,
   "id": "8be67588-c102-4359-8867-b8d8962efa96",
   "metadata": {
    "jupyter": {
     "source_hidden": true
    },
    "tags": []
   },
   "outputs": [],
   "source": [
    "model_raftery = \"\"\"\n",
    "data{\n",
    "    int<lower = 0> n;\n",
    "    int x_obs[n];\n",
    "    \n",
    "    real<lower = 0> a;\n",
    "    real<lower = 0> b;\n",
    "    real<lower = 0> alpha;\n",
    "    real<lower = 0> beta;\n",
    "}\n",
    "transformed data{\n",
    "    real S = sum(x_obs);\n",
    "}\n",
    "parameters{ \n",
    "    real<lower = 0, upper = 1> theta;\n",
    "    real<lower = max(x_obs)> N; \n",
    "}\n",
    "transformed parameters{\n",
    "    real lPbar = 0.0;\n",
    "    for(j in 1:n) lPbar += lchoose(N, x_obs[j]);\n",
    "}\n",
    "model{\n",
    "    target += lPbar + lgamma(alpha + N) - lgamma(N+1);\n",
    "    target += (a+S-1-N)*log(theta) + (b+n*N -S - 1)*log(1-theta); \n",
    "    target += -(alpha+N)*log(beta + 1/theta);\n",
    "}\n",
    "generated quantities{\n",
    "    real MME1 = 1/N;\n",
    "    real MME2 = 1/N^2;\n",
    "}\n",
    "\"\"\""
   ]
  },
  {
   "cell_type": "code",
   "execution_count": 7,
   "id": "6ad6a1b2-101b-4a0a-bf78-830bba19fb5d",
   "metadata": {
    "tags": []
   },
   "outputs": [
    {
     "name": "stderr",
     "output_type": "stream",
     "text": [
      "INFO:pystan:COMPILING THE C++ CODE FOR MODEL anon_model_696db612137e19e852243acc471e9eb6 NOW.\n"
     ]
    }
   ],
   "source": [
    "sm_raft = ps.StanModel(model_code = model_raftery)"
   ]
  },
  {
   "cell_type": "markdown",
   "id": "164db851-5fa5-4700-a17c-13cd5d25786a",
   "metadata": {},
   "source": [
    "### Raftery + uniformative\n",
    "\n",
    "The model is the same as previous, but with $\\alpha = \\beta = 0$ and $a = b = 1$. \n",
    "\n",
    "### Geometric independent approach\n",
    "\n",
    "We define the model for the Geometric and independent approach. "
   ]
  },
  {
   "cell_type": "code",
   "execution_count": 195,
   "id": "3908ca16-1ed4-4aff-96aa-324be0793ef3",
   "metadata": {
    "tags": []
   },
   "outputs": [],
   "source": [
    "model_geom = \"\"\"\n",
    "functions {\n",
    "  real geometric_real_lpdf(real N, real p){\n",
    "      return N*log(1 - p) + log(p);\n",
    "  }\n",
    "  real binomial_real_lpmf(int[] x, real n, real p){\n",
    "      real lpbar = 0.0;\n",
    "      for(j in 1:size(x)) lpbar += lchoose(n, x[j]);\n",
    "      return lpbar + sum(x)*log(p) + (size(x)*n - sum(x))*log(1 - p);\n",
    "  }\n",
    "}\n",
    "data{\n",
    "    int<lower = 0> n;\n",
    "    int x_obs[n];\n",
    "    \n",
    "    real<lower = 0> alpha1;\n",
    "    real<lower = 0> beta1;\n",
    "    real<lower = 0> alpha2;\n",
    "    real<lower = 0> beta2;\n",
    "}\n",
    "transformed data{\n",
    "    real S = sum(x_obs);\n",
    "}\n",
    "parameters{ \n",
    "    real<lower = max(x_obs)> N;\n",
    "    real<lower = 0, upper = 1> theta;\n",
    "    real<lower = 0, upper = 1> nu;\n",
    "}\n",
    "model{\n",
    "    theta ~ beta(alpha2, beta2);\n",
    "    nu ~ beta(alpha1, beta1);\n",
    "    \n",
    "    N ~ geometric_real(nu);\n",
    "    \n",
    "    x_obs ~ binomial_real(N, theta);\n",
    "}\n",
    "generated quantities{\n",
    "    real MME1 = 1/N;\n",
    "    real MME2 = 1/N^2;\n",
    "}\n",
    "\"\"\""
   ]
  },
  {
   "cell_type": "code",
   "execution_count": 196,
   "id": "9790fc73-7f70-4342-8bb0-5e6c35d7fd0f",
   "metadata": {},
   "outputs": [
    {
     "name": "stderr",
     "output_type": "stream",
     "text": [
      "INFO:pystan:COMPILING THE C++ CODE FOR MODEL anon_model_9e691702e0401c953a0af1c320f1d8c1 NOW.\n"
     ]
    }
   ],
   "source": [
    "sm_geomid = ps.StanModel(model_code=model_geom)"
   ]
  },
  {
   "cell_type": "markdown",
   "id": "adfb547e-af64-46ba-8c64-ef3546c3c701",
   "metadata": {},
   "source": [
    "### Geometric correlated approach \n",
    "\n",
    "We define the model for the Geometric and correlatedreallen approach. "
   ]
  },
  {
   "cell_type": "markdown",
   "id": "222f4df2-5fe9-4a88-b139-943649dc45dd",
   "metadata": {},
   "source": [
    "## Experimenting after defining the models \n",
    "\n",
    "Now we use the data to test the models \n",
    "\n",
    "### Data"
   ]
  },
  {
   "cell_type": "code",
   "execution_count": 10,
   "id": "607c4837-b01d-48c3-a512-b5b1cb0e1681",
   "metadata": {},
   "outputs": [],
   "source": [
    "impala = np.array([15,20,21,23,26])\n",
    "waterbuck = np.array([53,57,66,67,72])"
   ]
  },
  {
   "cell_type": "markdown",
   "id": "c2af8035-acca-4ef5-9417-39772d0ada89",
   "metadata": {},
   "source": [
    "### Impala data\n",
    "\n",
    "First we use the impala data to deal with the problems. "
   ]
  },
  {
   "cell_type": "code",
   "execution_count": 82,
   "id": "84fd23ce-7c42-45fd-bea1-0be26363429e",
   "metadata": {},
   "outputs": [],
   "source": [
    "raft_data = {\n",
    "    \"x_obs\": impala,\n",
    "    \"n\": impala.shape[0],\n",
    "    'a': a = 1, \n",
    "    'b': 1,\n",
    "    'alpha': 1,\n",
    "    'beta': 0.5,\n",
    "}\n",
    "\n",
    "fit_raftery = sm_raft.sampling(data=raft_data, iter=50000, chains=5,\n",
    "                               control=dict(adapt_delta=0.95))\n",
    "\n",
    "print(fit_raftery)"
   ]
  },
  {
   "cell_type": "code",
   "execution_count": null,
   "id": "d3d170a5-64d4-4c7d-a468-b9d4cec9a79e",
   "metadata": {},
   "outputs": [],
   "source": []
  },
  {
   "cell_type": "code",
   "execution_count": 95,
   "id": "93df57ef-ba4e-44f2-bcce-d1baba6759a7",
   "metadata": {},
   "outputs": [],
   "source": [
    "uninf_data = {\n",
    "    \"x_obs\": impala,\n",
    "    \"n\": impala.shape[0],\n",
    "    'a': 1, \n",
    "    'b': 1,\n",
    "    'alpha': 0,\n",
    "    'beta': 0,\n",
    "}\n",
    "\n",
    "fit_uninf = sm_raft.sampling(data=uninf_data, iter=50000, chains=5,\n",
    "                             control=dict(adapt_delta=0.95))\n",
    "\n",
    "print(fit_uninf)"
   ]
  },
  {
   "cell_type": "code",
   "execution_count": null,
   "id": "f793a04f-463f-41c1-916f-4843d41ace9b",
   "metadata": {},
   "outputs": [],
   "source": []
  },
  {
   "cell_type": "code",
   "execution_count": 197,
   "id": "756516aa-5545-403c-a8b6-571cb7157765",
   "metadata": {},
   "outputs": [
    {
     "name": "stdout",
     "output_type": "stream",
     "text": [
      "Inference for Stan model: anon_model_9e691702e0401c953a0af1c320f1d8c1.\n",
      "5 chains, each with iter=4000; warmup=2000; thin=1; \n",
      "post-warmup draws per chain=2000, total post-warmup draws=10000.\n",
      "\n",
      "        mean se_mean     sd   2.5%    25%    50%    75%  97.5%  n_eff   Rhat\n",
      "N      47.65    0.54  24.22  27.88  33.76   40.6  52.27 113.19   1982    1.0\n",
      "theta    0.5  3.3e-3   0.15   0.18    0.4   0.51   0.62   0.77   2164    1.0\n",
      "nu      0.07  7.1e-4   0.04   0.01   0.04   0.06   0.09   0.16   3190    1.0\n",
      "MME1    0.02  1.6e-4 7.2e-3 8.8e-3   0.02   0.02   0.03   0.04   2118    1.0\n",
      "MME2  6.3e-4  7.2e-6 3.3e-4 7.8e-5 3.7e-4 6.1e-4 8.8e-4 1.3e-3   2135    1.0\n",
      "lp__  -24.98    0.03   1.31 -28.37 -25.57 -24.65 -24.01 -23.48   2387    1.0\n",
      "\n",
      "Samples were drawn using NUTS at Sun Jun  6 17:08:23 2021.\n",
      "For each parameter, n_eff is a crude measure of effective sample size,\n",
      "and Rhat is the potential scale reduction factor on split chains (at \n",
      "convergence, Rhat=1).\n"
     ]
    }
   ],
   "source": [
    "geom_id_data = {\n",
    "    \"x_obs\": impala,\n",
    "    \"n\": impala.shape[0],\n",
    "    'alpha1': 2, \n",
    "    'alpha2': 1,\n",
    "    'beta1': 2,\n",
    "    'beta2': 1,\n",
    "}\n",
    "\n",
    "fit_geomid = sm_geomid.sampling(data=geom_id_data, iter=4000, chains=5,\n",
    "                                control=dict(adapt_delta=0.99))\n",
    "\n",
    "print(fit_geomid)"
   ]
  },
  {
   "cell_type": "code",
   "execution_count": 202,
   "id": "2d531f12-e10d-42f2-92eb-fb87f54075d6",
   "metadata": {},
   "outputs": [
    {
     "data": {
      "text/plain": [
       "[<matplotlib.lines.Line2D at 0x7f8d6d3f0080>]"
      ]
     },
     "execution_count": 202,
     "metadata": {},
     "output_type": "execute_result"
    },
    {
     "data": {
      "image/png": "[encoded data removed]",
      "text/plain": [
       "<Figure size 432x288 with 1 Axes>"
      ]
     },
     "metadata": {
      "needs_background": "light"
     },
     "output_type": "display_data"
    }
   ],
   "source": [
    "S = sum(impala)\n",
    "n = len(impala)\n",
    "xmax = max(impala)\n",
    "\n",
    "def p1_geom_unnorm(N, x_obs): \n",
    "    \n",
    "    result = np.prod([comb(N,i) for i in x_obs])\n",
    "    result *= beta(geom_id_data[\"alpha1\"] + 1, N + geom_id_data[\"beta1\"])\n",
    "    result *= beta(S+geom_id_data[\"alpha2\"], n*N - S + geom_id_data[\"beta2\"])\n",
    "    return result\n",
    "\n",
    "constant = 0 \n",
    "N = 26\n",
    "eps = 1\n",
    "while eps > 1e-16: #np.finfo(np.float64).eps: \n",
    "    eps = p1_geom_unnorm(N, impala)\n",
    "    constant += eps\n",
    "    N += 1\n",
    "    \n",
    "def p1_geom(N, x_obs): \n",
    "    \n",
    "    return p1_geom_unnorm(N, x_obs)/constant\n",
    "\n",
    "N_values = list(range(26,200))\n",
    "plt.plot(N_values, [p1_geom(N,impala) for N in N_values])"
   ]
  },
  {
   "cell_type": "code",
   "execution_count": 209,
   "id": "3c80bf89-f17c-4ad7-9022-de77aef7b98e",
   "metadata": {},
   "outputs": [
    {
     "data": {
      "text/plain": [
       "[<matplotlib.lines.Line2D at 0x7f8d6944b8d0>]"
      ]
     },
     "execution_count": 209,
     "metadata": {},
     "output_type": "execute_result"
    },
    {
     "data": {
      "image/png": "[encoded data removed]",
      "text/plain": [
       "<Figure size 432x288 with 1 Axes>"
      ]
     },
     "metadata": {
      "needs_background": "light"
     },
     "output_type": "display_data"
    }
   ],
   "source": [
    "fig, ax = plt.subplots()\n",
    "ax.hist(fit_geomid.extract()[\"N\"], bins= 100, density = True)\n",
    "ax.plot(N_values, [p1_geom(N,impala) for N in N_values])"
   ]
  },
  {
   "cell_type": "markdown",
   "id": "ed17b982-68f7-4ce4-8064-e3fb370533e6",
   "metadata": {},
   "source": [
    "# PyMC3 testes"
   ]
  },
  {
   "cell_type": "code",
   "execution_count": 167,
   "id": "252db6e3-4996-4ca9-b8e2-baaf09337f9c",
   "metadata": {
    "collapsed": true,
    "jupyter": {
     "outputs_hidden": true,
     "source_hidden": true
    },
    "tags": []
   },
   "outputs": [
    {
     "name": "stderr",
     "output_type": "stream",
     "text": [
      "INFO:pymc3:Multiprocess sampling (2 chains in 2 jobs)\n",
      "INFO:pymc3:CompoundStep\n",
      "INFO:pymc3:>NUTS: [nu, theta]\n",
      "INFO:pymc3:>Metropolis: [N]\n"
     ]
    },
    {
     "data": {
      "text/html": [
       "\n",
       "    <div>\n",
       "        <style>\n",
       "            /* Turns off some styling */\n",
       "            progress {\n",
       "                /* gets rid of default border in Firefox and Opera. */\n",
       "                border: none;\n",
       "                /* Needs to be in here for Safari polyfill so background images work as expected. */\n",
       "                background-size: auto;\n",
       "            }\n",
       "            .progress-bar-interrupted, .progress-bar-interrupted::-webkit-progress-bar {\n",
       "                background: #F44336;\n",
       "            }\n",
       "        </style>\n",
       "      <progress value='32000' class='' max='32000' style='width:300px; height:20px; vertical-align: middle;'></progress>\n",
       "      100.00% [32000/32000 00:29<00:00 Sampling 2 chains, 0 divergences]\n",
       "    </div>\n",
       "    "
      ],
      "text/plain": [
       "<IPython.core.display.HTML object>"
      ]
     },
     "metadata": {},
     "output_type": "display_data"
    },
    {
     "name": "stderr",
     "output_type": "stream",
     "text": [
      "INFO:pymc3:Sampling 2 chains for 8_000 tune and 8_000 draw iterations (16_000 + 16_000 draws total) took 29 seconds.\n",
      "INFO:pymc3:The rhat statistic is larger than 1.05 for some parameters. This indicates slight problems during sampling.\n",
      "ERROR:pymc3:The estimated number of effective samples is smaller than 200 for some parameters.\n"
     ]
    },
    {
     "data": {
      "text/html": [
       "<div>\n",
       "<style scoped>\n",
       "    .dataframe tbody tr th:only-of-type {\n",
       "        vertical-align: middle;\n",
       "    }\n",
       "\n",
       "    .dataframe tbody tr th {\n",
       "        vertical-align: top;\n",
       "    }\n",
       "\n",
       "    .dataframe thead th {\n",
       "        text-align: right;\n",
       "    }\n",
       "</style>\n",
       "<table border=\"1\" class=\"dataframe\">\n",
       "  <thead>\n",
       "    <tr style=\"text-align: right;\">\n",
       "      <th></th>\n",
       "      <th>mean</th>\n",
       "      <th>sd</th>\n",
       "      <th>hdi_3%</th>\n",
       "      <th>hdi_97%</th>\n",
       "      <th>mcse_mean</th>\n",
       "      <th>mcse_sd</th>\n",
       "      <th>ess_mean</th>\n",
       "      <th>ess_sd</th>\n",
       "      <th>ess_bulk</th>\n",
       "      <th>ess_tail</th>\n",
       "      <th>r_hat</th>\n",
       "    </tr>\n",
       "  </thead>\n",
       "  <tbody>\n",
       "    <tr>\n",
       "      <th>N</th>\n",
       "      <td>69.198</td>\n",
       "      <td>45.978</td>\n",
       "      <td>26.000</td>\n",
       "      <td>162.000</td>\n",
       "      <td>10.431</td>\n",
       "      <td>7.490</td>\n",
       "      <td>19.0</td>\n",
       "      <td>19.0</td>\n",
       "      <td>38.0</td>\n",
       "      <td>49.0</td>\n",
       "      <td>1.10</td>\n",
       "    </tr>\n",
       "    <tr>\n",
       "      <th>theta</th>\n",
       "      <td>0.408</td>\n",
       "      <td>0.187</td>\n",
       "      <td>0.090</td>\n",
       "      <td>0.711</td>\n",
       "      <td>0.030</td>\n",
       "      <td>0.021</td>\n",
       "      <td>39.0</td>\n",
       "      <td>39.0</td>\n",
       "      <td>39.0</td>\n",
       "      <td>61.0</td>\n",
       "      <td>1.06</td>\n",
       "    </tr>\n",
       "    <tr>\n",
       "      <th>nu</th>\n",
       "      <td>0.027</td>\n",
       "      <td>0.018</td>\n",
       "      <td>0.002</td>\n",
       "      <td>0.059</td>\n",
       "      <td>0.001</td>\n",
       "      <td>0.001</td>\n",
       "      <td>258.0</td>\n",
       "      <td>258.0</td>\n",
       "      <td>207.0</td>\n",
       "      <td>1883.0</td>\n",
       "      <td>1.01</td>\n",
       "    </tr>\n",
       "  </tbody>\n",
       "</table>\n",
       "</div>"
      ],
      "text/plain": [
       "         mean      sd  hdi_3%  hdi_97%  mcse_mean  mcse_sd  ess_mean  ess_sd  \\\n",
       "N      69.198  45.978  26.000  162.000     10.431    7.490      19.0    19.0   \n",
       "theta   0.408   0.187   0.090    0.711      0.030    0.021      39.0    39.0   \n",
       "nu      0.027   0.018   0.002    0.059      0.001    0.001     258.0   258.0   \n",
       "\n",
       "       ess_bulk  ess_tail  r_hat  \n",
       "N          38.0      49.0   1.10  \n",
       "theta      39.0      61.0   1.06  \n",
       "nu        207.0    1883.0   1.01  "
      ]
     },
     "metadata": {},
     "output_type": "display_data"
    }
   ],
   "source": [
    "with pm.Model() as model: \n",
    "    \n",
    "    theta = pm.Beta('theta', alpha=geom_id_data[\"alpha2\"], beta=geom_id_data[\"beta2\"])\n",
    "    nu = pm.Beta('nu', alpha=geom_id_data[\"alpha1\"], beta=geom_id_data[\"beta1\"])\n",
    "    \n",
    "    N = pm.Bound(pm.Geometric, lower = max(impala))(\"N\", p = nu)\n",
    "    \n",
    "    x = pm.Binomial(\"x\", n=N, p=theta, observed=impala)\n",
    "    \n",
    "    prior_checks = pm.sample_prior_predictive(samples=1000)\n",
    "    \n",
    "    trace = pm.sample(draws = 8000, tune=8000,\n",
    "                      nuts = {\"target_accept\": 0.96})\n",
    "    \n",
    "    display(az.summary(trace))"
   ]
  },
  {
   "cell_type": "code",
   "execution_count": 168,
   "id": "594615db-9ccc-4074-b2eb-abc643bea452",
   "metadata": {
    "collapsed": true,
    "jupyter": {
     "outputs_hidden": true,
     "source_hidden": true
    },
    "tags": []
   },
   "outputs": [
    {
     "data": {
      "image/png": "[encoded data removed]",
      "text/plain": [
       "<Figure size 432x288 with 1 Axes>"
      ]
     },
     "metadata": {
      "needs_background": "light"
     },
     "output_type": "display_data"
    }
   ],
   "source": [
    "plt.hist(trace[\"N\"], bins = 50)\n",
    "plt.show()"
   ]
  },
  {
   "cell_type": "code",
   "execution_count": 174,
   "id": "3c5ed6d4-aefa-4318-9976-f3f87153b4f7",
   "metadata": {
    "collapsed": true,
    "jupyter": {
     "outputs_hidden": true,
     "source_hidden": true
    },
    "tags": []
   },
   "outputs": [
    {
     "data": {
      "image/png": "[encoded data removed]",
      "text/plain": [
       "<Figure size 432x288 with 1 Axes>"
      ]
     },
     "metadata": {
      "needs_background": "light"
     },
     "output_type": "display_data"
    }
   ],
   "source": [
    "plt.hist(prior_checks['nu'], bins = 100)\n",
    "plt.show()"
   ]
  }
 ],
 "metadata": {
  "kernelspec": {
   "display_name": "Python 3.7.3 64-bit ('base')",
   "language": "python",
   "name": "python37364bitbase6782713bed674ed7a26121bd52530782"
  },
  "language_info": {
   "codemirror_mode": {
    "name": "ipython",
    "version": 3
   },
   "file_extension": ".py",
   "mimetype": "text/x-python",
   "name": "python",
   "nbconvert_exporter": "python",
   "pygments_lexer": "ipython3",
   "version": "3.7.1"
  }
 },
 "nbformat": 4,
 "nbformat_minor": 5
}
