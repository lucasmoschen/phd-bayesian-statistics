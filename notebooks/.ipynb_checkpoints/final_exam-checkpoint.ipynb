{
 "cells": [
  {
   "cell_type": "markdown",
   "id": "02ee3452-bef4-42c6-a65e-e20f7c03b2fb",
   "metadata": {},
   "source": [
    "# Final assignment \n",
    "\n",
    "This notebook develops the practice part of the final assignment. The writing part can be found [here](https://github.com/lucasmoschen/phd-bayesian-statistics/blob/main/notes/final_assignment/A2.pdf).\n",
    "\n",
    "## Inferring population sizes - practice\n",
    "\n",
    "Consider the problem of inferring the population sizes of major herbivores. In the first case, one is interested in estimating the number of impala (*Aepyceros melampus*) herds in the Kruger National Park, in northeastern South Africa. In an initial survey collected the following numbers of herds: $\\boldsymbol{x}_{\\text{impala}} = \\{15, 20, 21, 23, 26\\}$. Another scientific question is the number of individual waterbuck (*Kobus ellipsiprymnus*) in the same park. The observed numbers of waterbuck in separate sightings were $\\boldsymbol{x}_{\\text{waterbuck}} = \\{53, 57, 66, 67, 72\\}$ and may be regarded (for simplicity) as independent and identically distributed.\n",
    "\n",
    "Impala           |  Waterbuck\n",
    ":-------------------------:|:-------------------------:\n",
    "![impala](../notes/final_assignment/figures/impala.jpeg)|![waterbuck](../notes/final_assignment/figures/waterbuck.jpeg)\n",
    "Two antelope species whose population sizes we want to estimate.\n",
    "\n",
    "For each data set, sketch the marginal posterior distributions $p_1(N \\mid \\boldsymbol{x})$, $p_2(N \\mid \\boldsymbol{x})$ and $p_3(N \\mid \\boldsymbol{x})$. Moreover, under each posterior,  provide (i) the Bayes estimator under quadratic loss and under the relative quadratic loss and (ii) a 95\\% credibility interval for $N$.\n",
    "\n",
    "Discuss the differences and similarities between these distributions and estimates: do the prior modelling choices substantially impact the final inferences? If so, how?"
   ]
  },
  {
   "cell_type": "code",
   "execution_count": 138,
   "id": "626583bb-f9b3-4725-b754-79d91fec0b97",
   "metadata": {},
   "outputs": [],
   "source": [
    "import numpy as np \n",
    "import pystan as ps\n",
    "import matplotlib.pyplot as plt\n",
    "\n",
    "from scipy.special import beta, comb"
   ]
  },
  {
   "cell_type": "markdown",
   "id": "6070ebda-84b7-4856-954a-abd2178186f4",
   "metadata": {},
   "source": [
    "### Data"
   ]
  },
  {
   "cell_type": "code",
   "execution_count": 61,
   "id": "6aec3927-e0c2-4ba2-8efd-b568761acf40",
   "metadata": {},
   "outputs": [],
   "source": [
    "impala = np.array([15,20,21,23,26])\n",
    "\n",
    "a = 1\n",
    "b = 1\n",
    "alpha = 1\n",
    "beta = 0.5"
   ]
  },
  {
   "cell_type": "markdown",
   "id": "b694fd90-330c-4452-b00d-c0c33ed65c42",
   "metadata": {},
   "source": [
    "### Raftery approach"
   ]
  },
  {
   "cell_type": "markdown",
   "id": "a5149610-18d1-4cb4-ae0a-242ebb81a888",
   "metadata": {},
   "source": [
    "We define the model for the Raftery approach. "
   ]
  },
  {
   "cell_type": "code",
   "execution_count": 62,
   "id": "8be67588-c102-4359-8867-b8d8962efa96",
   "metadata": {
    "jupyter": {
     "source_hidden": true
    },
    "tags": []
   },
   "outputs": [],
   "source": [
    "model_raftery = \"\"\"\n",
    "data{\n",
    "    int<lower = 0> n;\n",
    "    int x_obs[n];\n",
    "    \n",
    "    real<lower = 0> a;\n",
    "    real<lower = 0> b;\n",
    "    real<lower = 0> alpha;\n",
    "    real<lower = 0> beta;\n",
    "}\n",
    "transformed data{\n",
    "    real S = sum(x_obs);\n",
    "}\n",
    "parameters{ \n",
    "    real<lower = 0, upper = 1> theta;\n",
    "    real<lower = max(x_obs)> N; \n",
    "}\n",
    "transformed parameters{\n",
    "    real lPbar = 0.0;\n",
    "    for(j in 1:n) lPbar += lchoose(N, x_obs[j]);\n",
    "}\n",
    "model{\n",
    "    target += lPbar + lgamma(alpha + N) - lgamma(N+1);\n",
    "    target += (a+S-1-N)*log(theta) + (b+n*N -S - 1)*log(1-theta); \n",
    "    target += -(alpha+N)*log(beta + 1/theta);\n",
    "}\n",
    "generated quantities{\n",
    "    real MME1 = 1/N;\n",
    "    real MME2 = 1/N^2;\n",
    "}\n",
    "\"\"\""
   ]
  },
  {
   "cell_type": "code",
   "execution_count": 63,
   "id": "6ad6a1b2-101b-4a0a-bf78-830bba19fb5d",
   "metadata": {
    "jupyter": {
     "source_hidden": true
    },
    "tags": []
   },
   "outputs": [
    {
     "name": "stderr",
     "output_type": "stream",
     "text": [
      "INFO:pystan:COMPILING THE C++ CODE FOR MODEL anon_model_696db612137e19e852243acc471e9eb6 NOW.\n"
     ]
    }
   ],
   "source": [
    "sm = ps.StanModel(model_code=model_raftery)"
   ]
  },
  {
   "cell_type": "code",
   "execution_count": 82,
   "id": "84fd23ce-7c42-45fd-bea1-0be26363429e",
   "metadata": {},
   "outputs": [],
   "source": [
    "raft_data = {\n",
    "    \"x_obs\": impala,\n",
    "    \"n\": impala.shape[0],\n",
    "    'a': a, \n",
    "    'b': b,\n",
    "    'alpha': alpha,\n",
    "    'beta': beta,\n",
    "}\n",
    "\n",
    "fit_raftery = sm.sampling(data=raft_data, iter=50000, chains=5,\n",
    "                          control=dict(adapt_delta=0.95))"
   ]
  },
  {
   "cell_type": "code",
   "execution_count": 85,
   "id": "f19afeb4-d103-49c9-8d33-2d5286bcd1e6",
   "metadata": {},
   "outputs": [
    {
     "name": "stdout",
     "output_type": "stream",
     "text": [
      "Inference for Stan model: anon_model_696db612137e19e852243acc471e9eb6.\n",
      "5 chains, each with iter=50000; warmup=25000; thin=1; \n",
      "post-warmup draws per chain=25000, total post-warmup draws=125000.\n",
      "\n",
      "        mean se_mean     sd   2.5%    25%    50%    75%  97.5%  n_eff   Rhat\n",
      "theta   0.37  1.4e-3   0.19   0.03   0.21   0.37   0.52   0.72  18207    1.0\n",
      "N     228.65   33.47 4743.4  28.99  39.13  54.05  93.85 724.86  20090    1.0\n",
      "lPbar 192.79    0.83 103.11  70.77 121.45  167.0 235.84 461.53  15555    1.0\n",
      "MME1    0.02  7.0e-5 9.4e-3 1.4e-3   0.01   0.02   0.03   0.03  17926    1.0\n",
      "MME2  4.2e-4  2.5e-6 3.5e-4 1.9e-6 1.1e-4 3.4e-4 6.5e-4 1.2e-3  19062    1.0\n",
      "lp__  -23.33  7.3e-3    1.1  -26.3 -23.76 -22.99 -22.54 -22.24  22472    1.0\n",
      "\n",
      "Samples were drawn using NUTS at Sat Jun  5 23:28:48 2021.\n",
      "For each parameter, n_eff is a crude measure of effective sample size,\n",
      "and Rhat is the potential scale reduction factor on split chains (at \n",
      "convergence, Rhat=1).\n"
     ]
    }
   ],
   "source": [
    "print(fit_raftery)"
   ]
  },
  {
   "cell_type": "markdown",
   "id": "fe224668-d1b5-4db2-acc7-7f5e1c0bbc39",
   "metadata": {},
   "source": [
    "### Raftery + uniformative\n",
    "\n",
    "The model is the same as previous, but with $\\alpha = \\beta = 0$ and $a = b = 1$. "
   ]
  },
  {
   "cell_type": "code",
   "execution_count": 95,
   "id": "93df57ef-ba4e-44f2-bcce-d1baba6759a7",
   "metadata": {},
   "outputs": [],
   "source": [
    "uninf_data = {\n",
    "    \"x_obs\": impala,\n",
    "    \"n\": impala.shape[0],\n",
    "    'a': 1, \n",
    "    'b': 1,\n",
    "    'alpha': 0,\n",
    "    'beta': 0,\n",
    "}\n",
    "\n",
    "fit_uninf = sm.sampling(data=raft_data, iter=50000, chains=5,\n",
    "                          control=dict(adapt_delta=0.95))"
   ]
  },
  {
   "cell_type": "code",
   "execution_count": 96,
   "id": "d5569434-8816-4b53-8ec9-4cf503022bc9",
   "metadata": {},
   "outputs": [
    {
     "data": {
      "text/plain": [
       "Inference for Stan model: anon_model_696db612137e19e852243acc471e9eb6.\n",
       "5 chains, each with iter=50000; warmup=25000; thin=1; \n",
       "post-warmup draws per chain=25000, total post-warmup draws=125000.\n",
       "\n",
       "        mean se_mean     sd   2.5%    25%    50%    75%  97.5%  n_eff   Rhat\n",
       "theta   0.32  1.5e-3    0.2   0.01   0.15   0.31   0.48   0.71  17854    1.0\n",
       "N     375.88   36.79 4915.2   29.8  44.15  68.12 137.68 1499.3  17850    1.0\n",
       "lPbar 225.16    1.03 120.94  76.07 139.17 196.82 280.32 538.63  13808    1.0\n",
       "MME1    0.02  7.1e-5 9.5e-3 6.7e-4 7.3e-3   0.01   0.02   0.03  17758    1.0\n",
       "MME2  3.2e-4  2.4e-6 3.2e-4 4.4e-7 5.3e-5 2.2e-4 5.1e-4 1.1e-3  18496    1.0\n",
       "lp__  -16.74  8.2e-3   1.13 -19.76 -17.18 -16.39 -15.93 -15.63  19035    1.0\n",
       "\n",
       "Samples were drawn using NUTS at Sat Jun  5 23:33:52 2021.\n",
       "For each parameter, n_eff is a crude measure of effective sample size,\n",
       "and Rhat is the potential scale reduction factor on split chains (at \n",
       "convergence, Rhat=1)."
      ]
     },
     "execution_count": 96,
     "metadata": {},
     "output_type": "execute_result"
    }
   ],
   "source": [
    "print(fit_uninf)"
   ]
  },
  {
   "cell_type": "markdown",
   "id": "67929f95-8bd8-4e25-a1b7-7b2e3a3b78f9",
   "metadata": {},
   "source": [
    "### Geometric independent approach"
   ]
  },
  {
   "cell_type": "code",
   "execution_count": 115,
   "id": "5aea81bc-5dbb-4128-99b1-59b37f2146b0",
   "metadata": {},
   "outputs": [],
   "source": [
    "model_geom = \"\"\"\n",
    "data{\n",
    "    int<lower = 0> n;\n",
    "    int x_obs[n];\n",
    "    \n",
    "    real<lower = 0> alpha1;\n",
    "    real<lower = 0> beta1;\n",
    "    real<lower = 0> alpha2;\n",
    "    real<lower = 0> beta2;\n",
    "}\n",
    "transformed data{\n",
    "    real S = sum(x_obs);\n",
    "}\n",
    "parameters{ \n",
    "    real<lower = max(x_obs)> N;\n",
    "}\n",
    "transformed parameters{\n",
    "     real lPbar = 0.0;\n",
    "     for(j in 1:n) lPbar += lchoose(N, x_obs[j]);\n",
    "}\n",
    "model{\n",
    "    target += lPbar + lgamma(alpha1+1) + lgamma(N+beta1) - lgamma(alpha1+beta1+N+1); \n",
    "    target += lgamma(S+alpha2) + lgamma(n*N-S+beta2) - lgamma(n*N+alpha2+beta2);\n",
    "}\n",
    "generated quantities{\n",
    "    real MME1 = 1/N;\n",
    "    real MME2 = 1/N^2;\n",
    "}\n",
    "\"\"\""
   ]
  },
  {
   "cell_type": "code",
   "execution_count": 117,
   "id": "6d22df19-960e-485d-bd56-c570c6d16086",
   "metadata": {},
   "outputs": [
    {
     "name": "stderr",
     "output_type": "stream",
     "text": [
      "INFO:pystan:COMPILING THE C++ CODE FOR MODEL anon_model_1a69c99613f695c5070572a031cca458 NOW.\n"
     ]
    }
   ],
   "source": [
    "sm = ps.StanModel(model_code=model_geom)"
   ]
  },
  {
   "cell_type": "code",
   "execution_count": 149,
   "id": "756516aa-5545-403c-a8b6-571cb7157765",
   "metadata": {},
   "outputs": [],
   "source": [
    "geom_id_data = {\n",
    "    \"x_obs\": impala,\n",
    "    \"n\": impala.shape[0],\n",
    "    'alpha1': 1, \n",
    "    'alpha2': 1,\n",
    "    'beta1': 1,\n",
    "    'beta2': 1,\n",
    "}\n",
    "\n",
    "fit_geomid = sm.sampling(data=geom_id_data, iter=2000, chains=5,\n",
    "                         control=dict(adapt_delta=0.95))"
   ]
  },
  {
   "cell_type": "code",
   "execution_count": 124,
   "id": "f77ead6d-a571-4c02-b1d0-73dd9adc9d76",
   "metadata": {},
   "outputs": [
    {
     "name": "stdout",
     "output_type": "stream",
     "text": [
      "Inference for Stan model: anon_model_1a69c99613f695c5070572a031cca458.\n",
      "5 chains, each with iter=2000; warmup=1000; thin=1; \n",
      "post-warmup draws per chain=1000, total post-warmup draws=5000.\n",
      "\n",
      "         mean se_mean     sd     2.5%      25%      50%     75%   97.5%  n_eff   Rhat\n",
      "N     4.0e153     nan    inf    26.55    29.57  2.3e153 7.9e153 1.3e154    nan    nan\n",
      "lPbar   2.2e4   1.1e4  1.8e4    52.24    74.61    3.7e4   3.7e4   3.7e4      3 241.63\n",
      "MME1     0.01    0.01   0.02 7.8e-155 1.3e-154 4.3e-154    0.03    0.04      3    9.7\n",
      "MME2   4.7e-4     nan 5.9e-4 6.1e-309 1.6e-308 1.8e-307  1.1e-3  1.4e-3    nan   5.16\n",
      "lp__   191.82  125.54 198.54   -52.74   -50.87   353.15  354.36  354.84      3 232.39\n",
      "\n",
      "Samples were drawn using NUTS at Sun Jun  6 00:16:20 2021.\n",
      "For each parameter, n_eff is a crude measure of effective sample size,\n",
      "and Rhat is the potential scale reduction factor on split chains (at \n",
      "convergence, Rhat=1).\n"
     ]
    }
   ],
   "source": [
    "print(fit_geomid)"
   ]
  },
  {
   "cell_type": "code",
   "execution_count": 125,
   "id": "280af90c-3963-4e02-817b-15afa7051e9e",
   "metadata": {},
   "outputs": [],
   "source": [
    "import pymc3 as pm"
   ]
  },
  {
   "cell_type": "code",
   "execution_count": 158,
   "id": "252db6e3-4996-4ca9-b8e2-baaf09337f9c",
   "metadata": {},
   "outputs": [
    {
     "name": "stderr",
     "output_type": "stream",
     "text": [
      "INFO:pymc3:Multiprocess sampling (2 chains in 2 jobs)\n",
      "INFO:pymc3:CompoundStep\n",
      "INFO:pymc3:>NUTS: [nu, theta]\n",
      "INFO:pymc3:>Metropolis: [N]\n"
     ]
    },
    {
     "data": {
      "text/html": [
       "\n",
       "    <div>\n",
       "        <style>\n",
       "            /* Turns off some styling */\n",
       "            progress {\n",
       "                /* gets rid of default border in Firefox and Opera. */\n",
       "                border: none;\n",
       "                /* Needs to be in here for Safari polyfill so background images work as expected. */\n",
       "                background-size: auto;\n",
       "            }\n",
       "            .progress-bar-interrupted, .progress-bar-interrupted::-webkit-progress-bar {\n",
       "                background: #F44336;\n",
       "            }\n",
       "        </style>\n",
       "      <progress value='24000' class='' max='24000' style='width:300px; height:20px; vertical-align: middle;'></progress>\n",
       "      100.00% [24000/24000 00:30<00:00 Sampling 2 chains, 0 divergences]\n",
       "    </div>\n",
       "    "
      ],
      "text/plain": [
       "<IPython.core.display.HTML object>"
      ]
     },
     "metadata": {},
     "output_type": "display_data"
    },
    {
     "name": "stderr",
     "output_type": "stream",
     "text": [
      "INFO:pymc3:Sampling 2 chains for 4_000 tune and 8_000 draw iterations (8_000 + 16_000 draws total) took 30 seconds.\n",
      "ERROR:pymc3:The estimated number of effective samples is smaller than 200 for some parameters.\n"
     ]
    },
    {
     "data": {
      "text/html": [
       "<div>\n",
       "<style scoped>\n",
       "    .dataframe tbody tr th:only-of-type {\n",
       "        vertical-align: middle;\n",
       "    }\n",
       "\n",
       "    .dataframe tbody tr th {\n",
       "        vertical-align: top;\n",
       "    }\n",
       "\n",
       "    .dataframe thead th {\n",
       "        text-align: right;\n",
       "    }\n",
       "</style>\n",
       "<table border=\"1\" class=\"dataframe\">\n",
       "  <thead>\n",
       "    <tr style=\"text-align: right;\">\n",
       "      <th></th>\n",
       "      <th>mean</th>\n",
       "      <th>sd</th>\n",
       "      <th>hdi_3%</th>\n",
       "      <th>hdi_97%</th>\n",
       "      <th>mcse_mean</th>\n",
       "      <th>mcse_sd</th>\n",
       "      <th>ess_mean</th>\n",
       "      <th>ess_sd</th>\n",
       "      <th>ess_bulk</th>\n",
       "      <th>ess_tail</th>\n",
       "      <th>r_hat</th>\n",
       "    </tr>\n",
       "  </thead>\n",
       "  <tbody>\n",
       "    <tr>\n",
       "      <th>N</th>\n",
       "      <td>57.896</td>\n",
       "      <td>28.500</td>\n",
       "      <td>26.000</td>\n",
       "      <td>113.000</td>\n",
       "      <td>3.885</td>\n",
       "      <td>2.762</td>\n",
       "      <td>54.0</td>\n",
       "      <td>54.0</td>\n",
       "      <td>55.0</td>\n",
       "      <td>157.0</td>\n",
       "      <td>1.04</td>\n",
       "    </tr>\n",
       "    <tr>\n",
       "      <th>theta</th>\n",
       "      <td>0.437</td>\n",
       "      <td>0.171</td>\n",
       "      <td>0.139</td>\n",
       "      <td>0.725</td>\n",
       "      <td>0.023</td>\n",
       "      <td>0.016</td>\n",
       "      <td>56.0</td>\n",
       "      <td>56.0</td>\n",
       "      <td>56.0</td>\n",
       "      <td>156.0</td>\n",
       "      <td>1.04</td>\n",
       "    </tr>\n",
       "    <tr>\n",
       "      <th>nu</th>\n",
       "      <td>0.044</td>\n",
       "      <td>0.039</td>\n",
       "      <td>0.000</td>\n",
       "      <td>0.114</td>\n",
       "      <td>0.002</td>\n",
       "      <td>0.002</td>\n",
       "      <td>261.0</td>\n",
       "      <td>261.0</td>\n",
       "      <td>202.0</td>\n",
       "      <td>1496.0</td>\n",
       "      <td>1.01</td>\n",
       "    </tr>\n",
       "  </tbody>\n",
       "</table>\n",
       "</div>"
      ],
      "text/plain": [
       "         mean      sd  hdi_3%  hdi_97%  mcse_mean  mcse_sd  ess_mean  ess_sd  \\\n",
       "N      57.896  28.500  26.000  113.000      3.885    2.762      54.0    54.0   \n",
       "theta   0.437   0.171   0.139    0.725      0.023    0.016      56.0    56.0   \n",
       "nu      0.044   0.039   0.000    0.114      0.002    0.002     261.0   261.0   \n",
       "\n",
       "       ess_bulk  ess_tail  r_hat  \n",
       "N          55.0     157.0   1.04  \n",
       "theta      56.0     156.0   1.04  \n",
       "nu        202.0    1496.0   1.01  "
      ]
     },
     "metadata": {},
     "output_type": "display_data"
    }
   ],
   "source": [
    "geom_id_data = {\n",
    "    \"x_obs\": impala,\n",
    "    \"n\": impala.shape[0],\n",
    "    'alpha1': 1, \n",
    "    'alpha2': 1,\n",
    "    'beta1': 1,\n",
    "    'beta2': 1,\n",
    "}\n",
    "\n",
    "with pm.Model() as model: \n",
    "    \n",
    "    theta = pm.Beta('theta', alpha=geom_id_data[\"alpha2\"], beta=geom_id_data[\"beta2\"])\n",
    "    nu = pm.Beta('nu', alpha=geom_id_data[\"alpha1\"], beta=geom_id_data[\"beta1\"])\n",
    "    \n",
    "    Bounded = pm.Bound(pm.Geometric, lower = max(impala))\n",
    "    N = Bounded(\"N\", p = nu/(nu+1))\n",
    "    \n",
    "    x = pm.Binomial(\"x\", n=N, p=theta, observed=impala)\n",
    "    \n",
    "    trace = pm.sample(draws = 8000, tune=4000, \n",
    "                      nuts = {\"target_accept\": 0.99})\n",
    "    \n",
    "    display(az.summary(trace))"
   ]
  },
  {
   "cell_type": "code",
   "execution_count": null,
   "id": "505ac94c-50f7-4c90-bd61-4fc52c044dca",
   "metadata": {},
   "outputs": [],
   "source": []
  },
  {
   "cell_type": "code",
   "execution_count": null,
   "id": "6094c585-cf0e-4d62-8c29-6894ce296ed2",
   "metadata": {},
   "outputs": [],
   "source": []
  }
 ],
 "metadata": {
  "kernelspec": {
   "display_name": "Python 3.7.3 64-bit ('base')",
   "language": "python",
   "name": "python37364bitbase6782713bed674ed7a26121bd52530782"
  },
  "language_info": {
   "codemirror_mode": {
    "name": "ipython",
    "version": 3
   },
   "file_extension": ".py",
   "mimetype": "text/x-python",
   "name": "python",
   "nbconvert_exporter": "python",
   "pygments_lexer": "ipython3",
   "version": "3.7.1"
  }
 },
 "nbformat": 4,
 "nbformat_minor": 5
}
