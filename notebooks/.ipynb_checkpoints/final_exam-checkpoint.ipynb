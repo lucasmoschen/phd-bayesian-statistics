{
 "cells": [
  {
   "cell_type": "markdown",
   "id": "02ee3452-bef4-42c6-a65e-e20f7c03b2fb",
   "metadata": {},
   "source": [
    "# Final assignment \n",
    "\n",
    "This notebook develops the practice part of the final assignment. The writing part can be found [here](https://github.com/lucasmoschen/phd-bayesian-statistics/blob/main/notes/final_assignment/A2.pdf).\n",
    "\n",
    "## Inferring population sizes - practice\n",
    "\n",
    "Consider the problem of inferring the population sizes of major herbivores. In the first case, one is interested in estimating the number of impala (*Aepyceros melampus*) herds in the Kruger National Park, in northeastern South Africa. In an initial survey collected the following numbers of herds: $\\boldsymbol{x}_{\\text{impala}} = \\{15, 20, 21, 23, 26\\}$. Another scientific question is the number of individual waterbuck (*Kobus ellipsiprymnus*) in the same park. The observed numbers of waterbuck in separate sightings were $\\boldsymbol{x}_{\\text{waterbuck}} = \\{53, 57, 66, 67, 72\\}$ and may be regarded (for simplicity) as independent and identically distributed.\n",
    "\n",
    "Impala           |  Waterbuck\n",
    ":-------------------------:|:-------------------------:\n",
    "![impala](../notes/final_assignment/figures/impala.jpeg)|![waterbuck](../notes/final_assignment/figures/waterbuck.jpeg)\n",
    "Two antelope species whose population sizes we want to estimate.\n",
    "\n",
    "For each data set, sketch the marginal posterior distributions $p_1(N \\mid \\boldsymbol{x})$, $p_2(N \\mid \\boldsymbol{x})$ and $p_3(N \\mid \\boldsymbol{x})$. Moreover, under each posterior,  provide (i) the Bayes estimator under quadratic loss and under the relative quadratic loss and (ii) a 95\\% credibility interval for $N$.\n",
    "\n",
    "Discuss the differences and similarities between these distributions and estimates: do the prior modelling choices substantially impact the final inferences? If so, how?"
   ]
  },
  {
   "cell_type": "code",
   "execution_count": 1,
   "id": "626583bb-f9b3-4725-b754-79d91fec0b97",
   "metadata": {},
   "outputs": [],
   "source": [
    "import numpy as np \n",
    "import pystan as ps\n",
    "import matplotlib.pyplot as plt\n",
    "import seaborn as sns\n",
    "sns.set()\n",
    "\n",
    "import pandas as pd\n",
    "pd.set_option(\"display.precision\", 2)\n",
    "\n",
    "\n",
    "import pymc3 as pm\n",
    "import arviz as az\n",
    "\n",
    "from scipy.special import beta, comb, gamma"
   ]
  },
  {
   "cell_type": "markdown",
   "id": "b694fd90-330c-4452-b00d-c0c33ed65c42",
   "metadata": {},
   "source": [
    "### Raftery approach\n",
    "\n",
    "We define the model for the Raftery approach. "
   ]
  },
  {
   "cell_type": "code",
   "execution_count": 2,
   "id": "8be67588-c102-4359-8867-b8d8962efa96",
   "metadata": {
    "jupyter": {
     "source_hidden": true
    },
    "tags": []
   },
   "outputs": [],
   "source": [
    "model_raftery = \"\"\"\n",
    "data{\n",
    "    int<lower = 0> n;\n",
    "    int x_obs[n];\n",
    "    \n",
    "    real<lower = 0> a;\n",
    "    real<lower = 0> b;\n",
    "    real<lower = 0> alpha;\n",
    "    real<lower = 0> beta;\n",
    "}\n",
    "transformed data{\n",
    "    real S = sum(x_obs);\n",
    "}\n",
    "parameters{ \n",
    "    real<lower = 0, upper = 1> theta;\n",
    "    real<lower = max(x_obs)> N; \n",
    "}\n",
    "transformed parameters{\n",
    "    real lPbar = 0.0;\n",
    "    for(j in 1:n) lPbar += lchoose(N, x_obs[j]);\n",
    "}\n",
    "model{\n",
    "    target += lPbar + lgamma(alpha + N) - lgamma(N+1);\n",
    "    target += (a+S-1-N)*log(theta) + (b+n*N -S - 1)*log(1-theta); \n",
    "    target += -(alpha+N)*log(beta + 1/theta);\n",
    "}\n",
    "generated quantities{\n",
    "    real MME1 = 1/N;\n",
    "    real MME2 = 1/N^2;\n",
    "}\n",
    "\"\"\""
   ]
  },
  {
   "cell_type": "code",
   "execution_count": 3,
   "id": "6ad6a1b2-101b-4a0a-bf78-830bba19fb5d",
   "metadata": {
    "tags": []
   },
   "outputs": [
    {
     "name": "stderr",
     "output_type": "stream",
     "text": [
      "INFO:pystan:COMPILING THE C++ CODE FOR MODEL anon_model_696db612137e19e852243acc471e9eb6 NOW.\n"
     ]
    }
   ],
   "source": [
    "sm_raft = ps.StanModel(model_code = model_raftery)"
   ]
  },
  {
   "cell_type": "markdown",
   "id": "164db851-5fa5-4700-a17c-13cd5d25786a",
   "metadata": {},
   "source": [
    "### Raftery + uniformative\n",
    "\n",
    "The model is the same as previous, but with $\\alpha = \\beta = 0$ and $a = b = 1$. \n",
    "\n",
    "### Geometric independent approach\n",
    "\n",
    "We define the model for the Geometric and independent approach. "
   ]
  },
  {
   "cell_type": "code",
   "execution_count": 4,
   "id": "3908ca16-1ed4-4aff-96aa-324be0793ef3",
   "metadata": {
    "jupyter": {
     "source_hidden": true
    },
    "tags": []
   },
   "outputs": [],
   "source": [
    "model_geom = \"\"\"\n",
    "functions {\n",
    "  real geometric_real_lpdf(real N, real p){\n",
    "      return N*log(1 - p) + log(p);\n",
    "  }\n",
    "  real binomial_real_lpmf(int[] x, real n, real p){\n",
    "      real lpbar = 0.0;\n",
    "      for(j in 1:size(x)) lpbar += lchoose(n, x[j]);\n",
    "      return lpbar + sum(x)*log(p) + (size(x)*n - sum(x))*log(1 - p);\n",
    "  }\n",
    "}\n",
    "data{\n",
    "    int<lower = 0> n;\n",
    "    int x_obs[n];\n",
    "    \n",
    "    real<lower = 0> alpha1;\n",
    "    real<lower = 0> beta1;\n",
    "    real<lower = 0> alpha2;\n",
    "    real<lower = 0> beta2;\n",
    "}\n",
    "parameters{ \n",
    "    real<lower = max(x_obs)> N;\n",
    "    real<lower = 0, upper = 1> theta;\n",
    "    real<lower = 0, upper = 1> nu;\n",
    "}\n",
    "model{\n",
    "    theta ~ beta(alpha2, beta2);\n",
    "    nu ~ beta(alpha1, beta1);\n",
    "    \n",
    "    N ~ geometric_real(nu);\n",
    "    \n",
    "    x_obs ~ binomial_real(N, theta);\n",
    "}\n",
    "generated quantities{\n",
    "    real MME1 = 1/N;\n",
    "    real MME2 = 1/N^2;\n",
    "}\n",
    "\"\"\""
   ]
  },
  {
   "cell_type": "code",
   "execution_count": 5,
   "id": "9790fc73-7f70-4342-8bb0-5e6c35d7fd0f",
   "metadata": {},
   "outputs": [
    {
     "name": "stderr",
     "output_type": "stream",
     "text": [
      "INFO:pystan:COMPILING THE C++ CODE FOR MODEL anon_model_3ba9cd05caf67271b6bbe300ba1e1d2a NOW.\n"
     ]
    }
   ],
   "source": [
    "sm_geom_id = ps.StanModel(model_code=model_geom)"
   ]
  },
  {
   "cell_type": "markdown",
   "id": "adfb547e-af64-46ba-8c64-ef3546c3c701",
   "metadata": {},
   "source": [
    "### Geometric correlated approach \n",
    "\n",
    "We define the model for the Geometric and correlatedreallen approach. "
   ]
  },
  {
   "cell_type": "code",
   "execution_count": 6,
   "id": "5bef5ef0-f1ea-4b7c-9e6e-7d0cc8f10bbd",
   "metadata": {
    "jupyter": {
     "source_hidden": true
    },
    "tags": []
   },
   "outputs": [],
   "source": [
    "model_geom_corr = \"\"\"\n",
    "functions {\n",
    "  real geometric_real_lpdf(real N, real p){\n",
    "      return N*log(1 - p) + log(p);\n",
    "  }\n",
    "  real binomial_real_lpmf(int[] x, real n, real p){\n",
    "      real lpbar = 0.0;\n",
    "      for(j in 1:size(x)) lpbar += lchoose(n, x[j]);\n",
    "      return lpbar + sum(x)*log(p) + (size(x)*n - sum(x))*log(1 - p);\n",
    "  }\n",
    "}\n",
    "data{\n",
    "    int<lower = 0> n;\n",
    "    int x_obs[n];\n",
    "    \n",
    "    vector[2] eta; \n",
    "    cov_matrix[2] Sigma;\n",
    "}\n",
    "parameters{ \n",
    "    real<lower = max(x_obs)> N;\n",
    "    vector[2] probs_logit;  \n",
    "}\n",
    "transformed parameters{\n",
    "    real theta = inv_logit(probs_logit[2]);\n",
    "    real nu = inv_logit(probs_logit[1]);\n",
    "}\n",
    "model{\n",
    "    probs_logit ~ multi_normal(eta, Sigma);\n",
    "    \n",
    "    N ~ geometric_real(nu);\n",
    "    \n",
    "    x_obs ~ binomial_real(N, theta);\n",
    "}\n",
    "generated quantities{\n",
    "    real MME1 = 1/N;\n",
    "    real MME2 = 1/N^2;\n",
    "}\n",
    "\"\"\""
   ]
  },
  {
   "cell_type": "code",
   "execution_count": 7,
   "id": "872a025b-956b-4bfa-ac64-cf2d17258491",
   "metadata": {},
   "outputs": [
    {
     "name": "stderr",
     "output_type": "stream",
     "text": [
      "INFO:pystan:COMPILING THE C++ CODE FOR MODEL anon_model_7c69c4fd31a6b1b0084467fc24a39099 NOW.\n"
     ]
    }
   ],
   "source": [
    "sm_geom_corr = ps.StanModel(model_code=model_geom_corr)"
   ]
  },
  {
   "cell_type": "markdown",
   "id": "222f4df2-5fe9-4a88-b139-943649dc45dd",
   "metadata": {},
   "source": [
    "## Experimenting after defining the models \n",
    "\n",
    "Now we use the data to test the models \n",
    "\n",
    "### Data"
   ]
  },
  {
   "cell_type": "code",
   "execution_count": 224,
   "id": "607c4837-b01d-48c3-a512-b5b1cb0e1681",
   "metadata": {},
   "outputs": [],
   "source": [
    "impala = np.array([15,20,21,23,26])\n",
    "waterbuck = np.array([53,57,66,67,72])"
   ]
  },
  {
   "cell_type": "markdown",
   "id": "c2af8035-acca-4ef5-9417-39772d0ada89",
   "metadata": {},
   "source": [
    "### Impala data\n",
    "\n",
    "First we use the impala data to deal with the problems. "
   ]
  },
  {
   "cell_type": "code",
   "execution_count": 225,
   "id": "84fd23ce-7c42-45fd-bea1-0be26363429e",
   "metadata": {},
   "outputs": [
    {
     "name": "stdout",
     "output_type": "stream",
     "text": [
      "Inference for Stan model: anon_model_696db612137e19e852243acc471e9eb6.\n",
      "5 chains, each with iter=50000; warmup=25000; thin=1; \n",
      "post-warmup draws per chain=25000, total post-warmup draws=125000.\n",
      "\n",
      "        mean se_mean     sd   2.5%    25%    50%    75%  97.5%  n_eff   Rhat\n",
      "theta   0.46  1.3e-3   0.18   0.08   0.34   0.48    0.6   0.75  18294    1.0\n",
      "N      88.98   10.04 1565.0   27.6  33.45  40.65  55.89 227.59  24276    1.0\n",
      "lPbar 144.93    0.62  74.08  60.81  96.49 127.14 171.42 336.49  14470    1.0\n",
      "MME1    0.02  6.3e-5 8.4e-3 4.4e-3   0.02   0.02   0.03   0.04  17832    1.0\n",
      "MME2  6.2e-4  2.6e-6 3.6e-4 1.9e-5 3.2e-4 6.1e-4 8.9e-4 1.3e-3  19500    1.0\n",
      "lp__  -31.07  8.2e-3   1.15 -34.17 -31.51 -30.71 -30.25 -29.95  19945    1.0\n",
      "\n",
      "Samples were drawn using NUTS at Tue Jun  8 17:07:21 2021.\n",
      "For each parameter, n_eff is a crude measure of effective sample size,\n",
      "and Rhat is the potential scale reduction factor on split chains (at \n",
      "convergence, Rhat=1).\n"
     ]
    }
   ],
   "source": [
    "raft_data = {\n",
    "    \"x_obs\": impala,\n",
    "    \"n\": impala.shape[0],\n",
    "    'a': 1, \n",
    "    'b': 1,\n",
    "    'alpha': 1.,\n",
    "    'beta': 1.,\n",
    "}\n",
    "\n",
    "fit_raftery = sm_raft.sampling(data=raft_data, iter=50000, chains=5,\n",
    "                               control=dict(adapt_delta=0.95))\n",
    "\n",
    "print(fit_raftery)"
   ]
  },
  {
   "cell_type": "markdown",
   "id": "6026e5df-67dc-4219-8846-6fdf03694679",
   "metadata": {},
   "source": [
    "### Marginal posterior of $N$"
   ]
  },
  {
   "cell_type": "code",
   "execution_count": 226,
   "id": "58ab7b93-33fa-4951-892b-7f9beb4f2ea8",
   "metadata": {},
   "outputs": [
    {
     "data": {
      "image/png": "[encoded data removed]",
      "text/plain": [
       "<Figure size 432x288 with 1 Axes>"
      ]
     },
     "metadata": {
      "needs_background": "light"
     },
     "output_type": "display_data"
    }
   ],
   "source": [
    "plt.hist(fit_raftery.extract()[\"N\"], bins = range(26, 200), density = True, edgecolor = 'none')\n",
    "plt.show()"
   ]
  },
  {
   "cell_type": "markdown",
   "id": "7fd1305e-2bd0-47c9-a04b-d99e5a1d1be1",
   "metadata": {
    "tags": []
   },
   "source": [
    "### Prior predictive checking"
   ]
  },
  {
   "cell_type": "code",
   "execution_count": 227,
   "id": "ec765786-cc84-42aa-a6ff-4aa5d533de71",
   "metadata": {
    "tags": []
   },
   "outputs": [
    {
     "data": {
      "image/png": "[encoded data removed]",
      "text/plain": [
       "<Figure size 1080x288 with 2 Axes>"
      ]
     },
     "metadata": {
      "needs_background": "light"
     },
     "output_type": "display_data"
    }
   ],
   "source": [
    "theta = np.random.beta(raft_data[\"a\"], raft_data[\"b\"], 100000)\n",
    "lambd = np.random.gamma(raft_data[\"alpha\"], raft_data[\"beta\"], 100000)\n",
    "mu = lambd/theta\n",
    "N = np.random.poisson(mu)\n",
    "\n",
    "fig, ax = plt.subplots(1,2,figsize = (15,4))\n",
    "ax[0].hist(mu, bins = np.arange(0,20,0.5), density = True, histtype = 'step')\n",
    "ax[1].hist(N, bins = range(26, 400, 5), density = True, histtype = 'step')\n",
    "\n",
    "ax[1].set_title(\"Prior distribution N\")\n",
    "ax[0].set_title(r\"Prior distribution $\\mu$\")\n",
    "plt.show()"
   ]
  },
  {
   "cell_type": "code",
   "execution_count": 228,
   "id": "93df57ef-ba4e-44f2-bcce-d1baba6759a7",
   "metadata": {},
   "outputs": [
    {
     "name": "stdout",
     "output_type": "stream",
     "text": [
      "Inference for Stan model: anon_model_696db612137e19e852243acc471e9eb6.\n",
      "5 chains, each with iter=50000; warmup=25000; thin=1; \n",
      "post-warmup draws per chain=25000, total post-warmup draws=125000.\n",
      "\n",
      "        mean se_mean     sd   2.5%    25%    50%    75%  97.5%  n_eff   Rhat\n",
      "theta   0.32  1.4e-3    0.2   0.02   0.16   0.31   0.48   0.71  18622    1.0\n",
      "N     856.54  462.93  6.4e4  29.97  43.96  67.41 131.58 1367.0  19008    1.0\n",
      "lPbar 223.01    0.99 119.56  77.09 138.55  195.5 275.15 528.86  14649    1.0\n",
      "MME1    0.02  6.9e-5 9.4e-3 7.3e-4 7.6e-3   0.01   0.02   0.03  18525    1.0\n",
      "MME2  3.3e-4  2.3e-6 3.2e-4 5.4e-7 5.8e-5 2.2e-4 5.2e-4 1.1e-3  19673    1.0\n",
      "lp__  -16.72  8.1e-3   1.12 -19.73 -17.15 -16.38 -15.93 -15.63  19175    1.0\n",
      "\n",
      "Samples were drawn using NUTS at Tue Jun  8 17:07:39 2021.\n",
      "For each parameter, n_eff is a crude measure of effective sample size,\n",
      "and Rhat is the potential scale reduction factor on split chains (at \n",
      "convergence, Rhat=1).\n"
     ]
    }
   ],
   "source": [
    "uninf_data = {\n",
    "    \"x_obs\": impala,\n",
    "    \"n\": impala.shape[0],\n",
    "    'a': 1, \n",
    "    'b': 1,\n",
    "    'alpha': 0,\n",
    "    'beta': 0,\n",
    "}\n",
    "\n",
    "fit_uninf = sm_raft.sampling(data=uninf_data, iter=50000, chains=5,\n",
    "                             control=dict(adapt_delta=0.95))\n",
    "\n",
    "print(fit_uninf)"
   ]
  },
  {
   "cell_type": "markdown",
   "id": "569bf9f9-c80c-427d-b228-01693f3c0ec3",
   "metadata": {},
   "source": [
    "### Marginal posterior of $N$"
   ]
  },
  {
   "cell_type": "code",
   "execution_count": 229,
   "id": "29749661-d602-4f64-818e-63bc107c546c",
   "metadata": {},
   "outputs": [
    {
     "data": {
      "image/png": "[encoded data removed]",
      "text/plain": [
       "<Figure size 432x288 with 1 Axes>"
      ]
     },
     "metadata": {
      "needs_background": "light"
     },
     "output_type": "display_data"
    }
   ],
   "source": [
    "plt.hist(fit_uninf.extract()[\"N\"], bins = range(26, 500), density = True, edgecolor = 'none')\n",
    "plt.show()"
   ]
  },
  {
   "cell_type": "code",
   "execution_count": 230,
   "id": "756516aa-5545-403c-a8b6-571cb7157765",
   "metadata": {},
   "outputs": [
    {
     "name": "stdout",
     "output_type": "stream",
     "text": [
      "Inference for Stan model: anon_model_3ba9cd05caf67271b6bbe300ba1e1d2a.\n",
      "5 chains, each with iter=50000; warmup=25000; thin=1; \n",
      "post-warmup draws per chain=25000, total post-warmup draws=125000.\n",
      "\n",
      "        mean se_mean     sd   2.5%    25%    50%    75%  97.5%  n_eff   Rhat\n",
      "N      65.98     0.7  97.66  28.45  36.62   46.7  67.34  214.4  19602    1.0\n",
      "theta   0.44  1.1e-3   0.17    0.1   0.31   0.45   0.57   0.74  24121    1.0\n",
      "nu      0.04  1.8e-4   0.03 3.2e-3   0.02   0.03   0.05   0.12  33290    1.0\n",
      "MME1    0.02  5.3e-5 8.2e-3 4.7e-3   0.01   0.02   0.03   0.04  23844    1.0\n",
      "MME2  5.1e-4  2.1e-6 3.4e-4 2.2e-5 2.2e-4 4.6e-4 7.5e-4 1.2e-3  25853    1.0\n",
      "lp__  -21.95  8.0e-3   1.35 -25.46 -22.55  -21.6 -20.97 -20.43  28167    1.0\n",
      "\n",
      "Samples were drawn using NUTS at Tue Jun  8 17:08:09 2021.\n",
      "For each parameter, n_eff is a crude measure of effective sample size,\n",
      "and Rhat is the potential scale reduction factor on split chains (at \n",
      "convergence, Rhat=1).\n"
     ]
    }
   ],
   "source": [
    "geom_id_data = {\n",
    "    \"x_obs\": impala,\n",
    "    \"n\": impala.shape[0],\n",
    "    'alpha1': 1, \n",
    "    'alpha2': 1,\n",
    "    'beta1': 1,\n",
    "    'beta2': 1,\n",
    "}\n",
    "\n",
    "fit_geom_id = sm_geom_id.sampling(data=geom_id_data, iter=50000, chains=5,\n",
    "                                control=dict(adapt_delta=0.99))\n",
    "\n",
    "print(fit_geom_id)"
   ]
  },
  {
   "cell_type": "markdown",
   "id": "7a2c9b47-169f-462d-a8a9-9f13cbfd0f02",
   "metadata": {
    "tags": []
   },
   "source": [
    "### Prior predictive checking"
   ]
  },
  {
   "cell_type": "code",
   "execution_count": 231,
   "id": "510759b2-1c31-4ea5-92eb-47087789adca",
   "metadata": {
    "tags": []
   },
   "outputs": [
    {
     "data": {
      "image/png": "[encoded data removed]",
      "text/plain": [
       "<Figure size 1080x288 with 2 Axes>"
      ]
     },
     "metadata": {
      "needs_background": "light"
     },
     "output_type": "display_data"
    }
   ],
   "source": [
    "nu = np.random.beta(geom_id_data[\"alpha1\"], geom_id_data[\"beta1\"], 100000)\n",
    "N = np.random.geometric(nu)\n",
    "\n",
    "fig, ax = plt.subplots(1,2,figsize = (15,4))\n",
    "ax[0].hist(nu, bins = 100, density = True, histtype = 'step')\n",
    "ax[1].hist(N, bins = range(26, 400, 5), density = True, histtype = 'step')\n",
    "\n",
    "ax[1].set_title(\"Prior distribution N\")\n",
    "ax[0].set_title(r\"Prior distribution $\\nu$\")\n",
    "plt.show()"
   ]
  },
  {
   "cell_type": "markdown",
   "id": "f54b4511-361a-4b67-827f-2856f5d22a2a",
   "metadata": {},
   "source": [
    "### Marginal posterior of $N$"
   ]
  },
  {
   "cell_type": "code",
   "execution_count": 232,
   "id": "8ae6404a-2e20-4441-a78b-78671775c1af",
   "metadata": {},
   "outputs": [
    {
     "data": {
      "image/png": "[encoded data removed]",
      "text/plain": [
       "<Figure size 432x288 with 1 Axes>"
      ]
     },
     "metadata": {
      "needs_background": "light"
     },
     "output_type": "display_data"
    }
   ],
   "source": [
    "plt.hist(fit_geom_id.extract()[\"N\"], bins = range(26, 300), density = True, edgecolor = 'none')\n",
    "plt.show()"
   ]
  },
  {
   "cell_type": "code",
   "execution_count": 234,
   "id": "1d888fb0-89e3-405a-9728-cbdcfb7811b2",
   "metadata": {},
   "outputs": [
    {
     "name": "stdout",
     "output_type": "stream",
     "text": [
      "Inference for Stan model: anon_model_7c69c4fd31a6b1b0084467fc24a39099.\n",
      "5 chains, each with iter=50000; warmup=25000; thin=1; \n",
      "post-warmup draws per chain=25000, total post-warmup draws=125000.\n",
      "\n",
      "                 mean se_mean     sd   2.5%    25%    50%    75%  97.5%  n_eff   Rhat\n",
      "N               72.44    0.54  74.23  29.29  39.15  51.82  77.72 240.83  18870    1.0\n",
      "probs_logit[1]  -3.31  5.0e-3   0.82  -5.09  -3.81  -3.24  -2.73  -1.89  27008    1.0\n",
      "probs_logit[2]  -0.48  5.8e-3   0.85  -2.36  -1.01   -0.4   0.13   0.95  21820    1.0\n",
      "theta             0.4  1.1e-3   0.17   0.09   0.27    0.4   0.53   0.72  23531    1.0\n",
      "nu               0.05  1.8e-4   0.03 6.1e-3   0.02   0.04   0.06   0.13  33509    1.0\n",
      "MME1             0.02  5.4e-5 8.2e-3 4.2e-3   0.01   0.02   0.03   0.03  23248    1.0\n",
      "MME2           4.4e-4  2.0e-6 3.2e-4 1.7e-5 1.7e-4 3.7e-4 6.5e-4 1.2e-3  24963    1.0\n",
      "lp__            -19.4  7.2e-3    1.3 -22.77 -19.98 -19.06 -18.45 -17.93  32520    1.0\n",
      "\n",
      "Samples were drawn using NUTS at Tue Jun  8 17:08:54 2021.\n",
      "For each parameter, n_eff is a crude measure of effective sample size,\n",
      "and Rhat is the potential scale reduction factor on split chains (at \n",
      "convergence, Rhat=1).\n"
     ]
    }
   ],
   "source": [
    "geom_corr_data = {\n",
    "    \"x_obs\": impala,\n",
    "    \"n\": impala.shape[0],\n",
    "    'eta': np.array([0,0]), \n",
    "    'Sigma': np.array([[2.5,1],[1,2.5]]),\n",
    "}\n",
    "\n",
    "fit_geom_corr = sm_geom_corr.sampling(data=geom_corr_data, iter=50000, chains=5,\n",
    "                                 control=dict(adapt_delta=0.96))\n",
    "\n",
    "print(fit_geom_corr)"
   ]
  },
  {
   "cell_type": "markdown",
   "id": "64dc8eb9-69ff-4463-a0a5-6c0a7dedadec",
   "metadata": {
    "tags": []
   },
   "source": [
    "### Prior predictive checking"
   ]
  },
  {
   "cell_type": "code",
   "execution_count": 235,
   "id": "33c757c0-5bd6-4aec-82a2-36854c9369f5",
   "metadata": {
    "tags": []
   },
   "outputs": [
    {
     "data": {
      "image/png": "[encoded data removed]",
      "text/plain": [
       "<Figure size 1080x288 with 3 Axes>"
      ]
     },
     "metadata": {
      "needs_background": "light"
     },
     "output_type": "display_data"
    }
   ],
   "source": [
    "logit_par = np.random.multivariate_normal(geom_corr_data['eta'], geom_corr_data['Sigma'], 10000)\n",
    "\n",
    "theta = 1/(1 + np.exp(logit_par[:,0]))\n",
    "nu = 1/(1 + np.exp(logit_par[:,1]))\n",
    "N = np.random.geometric(nu)\n",
    "\n",
    "fig, ax = plt.subplots(1,3,figsize = (15,4))\n",
    "ax[0].hist(theta, bins = 100, density = True, histtype = 'step')\n",
    "ax[1].hist(nu, bins = 100, density = True, histtype = 'step')\n",
    "ax[2].hist(N, bins = range(0,20), density = True, histtype = 'step')\n",
    "\n",
    "ax[2].set_title(\"Prior distribution N\")\n",
    "ax[0].set_title(r\"Prior distribution $\\theta$\")\n",
    "ax[1].set_title(r\"Prior distribution $\\nu$\")\n",
    "plt.show()"
   ]
  },
  {
   "cell_type": "markdown",
   "id": "2b9324a4-bc8b-4193-a41a-cf93283a4fe2",
   "metadata": {},
   "source": [
    "### Marginal posterior of $N$"
   ]
  },
  {
   "cell_type": "code",
   "execution_count": 236,
   "id": "f8372160-284e-4e7f-9a68-cf0c427f280a",
   "metadata": {},
   "outputs": [
    {
     "data": {
      "image/png": "[encoded data removed]",
      "text/plain": [
       "<Figure size 432x288 with 1 Axes>"
      ]
     },
     "metadata": {
      "needs_background": "light"
     },
     "output_type": "display_data"
    }
   ],
   "source": [
    "plt.hist(fit_geom_corr.extract()[\"N\"], bins = range(26, 200), density = True, edgecolor = 'none')\n",
    "plt.show()"
   ]
  },
  {
   "cell_type": "markdown",
   "id": "118abcb9-095f-4e10-95fe-62a1fbbb06a7",
   "metadata": {},
   "source": [
    "Figure joining the posteriors of $N$"
   ]
  },
  {
   "cell_type": "code",
   "execution_count": 237,
   "id": "3b606def-7097-4b92-9530-97bb107ae162",
   "metadata": {},
   "outputs": [
    {
     "data": {
      "image/png": "[encoded data removed]",
      "text/plain": [
       "<Figure size 1440x288 with 4 Axes>"
      ]
     },
     "metadata": {
      "needs_background": "light"
     },
     "output_type": "display_data"
    }
   ],
   "source": [
    "fig, ax = plt.subplots(1,4, figsize = (20,4))\n",
    "\n",
    "sns.histplot(fit_raftery.extract()[\"N\"], bins = range(26, 300), ax = ax[0], stat = 'density')\n",
    "sns.histplot(fit_uninf.extract()[\"N\"], bins = range(26, 300),ax = ax[1], stat = 'density')\n",
    "sns.histplot(fit_geom_id.extract()[\"N\"], bins = range(26, 300), ax = ax[2], stat = 'density')\n",
    "sns.histplot(fit_geom_corr.extract()[\"N\"], bins = range(26, 300), ax = ax[3], stat = 'density')\n",
    "\n",
    "for i in range(4):\n",
    "    ax[i].set_title(r\"$p_{}(N|x)$\".format(i+1), fontsize = 14)\n",
    "    ax[i].set_ylabel(\" \")\n",
    "\n",
    "plt.savefig(\"../images/marginal-distributions.png\", bbox_inches = 'tight')    \n",
    "plt.show()"
   ]
  },
  {
   "cell_type": "markdown",
   "id": "e302c3e9-d206-44c5-9ed0-669a6b9fc218",
   "metadata": {},
   "source": [
    "### Summary statistics"
   ]
  },
  {
   "cell_type": "code",
   "execution_count": 238,
   "id": "a2c013ee-7ee4-407c-aef3-15f8b319f285",
   "metadata": {},
   "outputs": [
    {
     "data": {
      "text/html": [
       "<div>\n",
       "<style scoped>\n",
       "    .dataframe tbody tr th:only-of-type {\n",
       "        vertical-align: middle;\n",
       "    }\n",
       "\n",
       "    .dataframe tbody tr th {\n",
       "        vertical-align: top;\n",
       "    }\n",
       "\n",
       "    .dataframe thead th {\n",
       "        text-align: right;\n",
       "    }\n",
       "</style>\n",
       "<table border=\"1\" class=\"dataframe\">\n",
       "  <thead>\n",
       "    <tr style=\"text-align: right;\">\n",
       "      <th></th>\n",
       "      <th>Mean</th>\n",
       "      <th>Median</th>\n",
       "      <th>MRSE</th>\n",
       "      <th>HDI</th>\n",
       "    </tr>\n",
       "  </thead>\n",
       "  <tbody>\n",
       "    <tr>\n",
       "      <th>0</th>\n",
       "      <td>88.98</td>\n",
       "      <td>40.65</td>\n",
       "      <td>37.88</td>\n",
       "      <td>[26.00060962322894, 124.74683153205477]</td>\n",
       "    </tr>\n",
       "    <tr>\n",
       "      <th>1</th>\n",
       "      <td>856.54</td>\n",
       "      <td>67.41</td>\n",
       "      <td>47.37</td>\n",
       "      <td>[26.01252313013951, 561.016538073583]</td>\n",
       "    </tr>\n",
       "    <tr>\n",
       "      <th>2</th>\n",
       "      <td>65.98</td>\n",
       "      <td>46.70</td>\n",
       "      <td>41.39</td>\n",
       "      <td>[26.017759875408434, 137.3358967842222]</td>\n",
       "    </tr>\n",
       "    <tr>\n",
       "      <th>3</th>\n",
       "      <td>72.44</td>\n",
       "      <td>51.82</td>\n",
       "      <td>44.01</td>\n",
       "      <td>[26.035826457087243, 161.1842692532454]</td>\n",
       "    </tr>\n",
       "  </tbody>\n",
       "</table>\n",
       "</div>"
      ],
      "text/plain": [
       "     Mean  Median   MRSE                                      HDI\n",
       "0   88.98   40.65  37.88  [26.00060962322894, 124.74683153205477]\n",
       "1  856.54   67.41  47.37    [26.01252313013951, 561.016538073583]\n",
       "2   65.98   46.70  41.39  [26.017759875408434, 137.3358967842222]\n",
       "3   72.44   51.82  44.01  [26.035826457087243, 161.1842692532454]"
      ]
     },
     "execution_count": 238,
     "metadata": {},
     "output_type": "execute_result"
    }
   ],
   "source": [
    "raft_N = fit_raftery.extract()[\"N\"]\n",
    "uninf_N = fit_uninf.extract()[\"N\"]\n",
    "geom_id_N = fit_geom_id.extract()[\"N\"]\n",
    "geom_corr_N = fit_geom_corr.extract()[\"N\"]\n",
    "\n",
    "se = {\n",
    "    'Mean': [raft_N.mean(), uninf_N.mean(), geom_id_N.mean(), geom_corr_N.mean()],\n",
    "    'Median': [np.median(raft_N), np.median(uninf_N), np.median(geom_id_N), np.median(geom_corr_N)],\n",
    "    'MRSE': [(1/raft_N).mean()/(1/raft_N**2).mean(), (1/uninf_N).mean()/(1/uninf_N**2).mean(),\n",
    "             (1/geom_id_N).mean()/(1/geom_id_N**2).mean(), (1/geom_corr_N).mean()/(1/geom_corr_N**2).mean()],\n",
    "    'HDI': [az.hdi(raft_N, hdi_prop = 0.95), az.hdi(uninf_N, hdi_prop = 0.95), \n",
    "            az.hdi(geom_id_N, hdi_prop = 0.95), az.hdi(geom_corr_N, hdi_prop = 0.95)]\n",
    "}\n",
    "\n",
    "summary_statistics = pd.DataFrame(se)\n",
    "summary_statistics"
   ]
  },
  {
   "cell_type": "markdown",
   "id": "cb095473-116b-457f-a009-81ec0ca81a75",
   "metadata": {},
   "source": [
    "### Waterbuck data"
   ]
  },
  {
   "cell_type": "code",
   "execution_count": 239,
   "id": "6dac0e6e-f24e-46ad-a1e5-843870fa7413",
   "metadata": {},
   "outputs": [
    {
     "name": "stdout",
     "output_type": "stream",
     "text": [
      "Inference for Stan model: anon_model_696db612137e19e852243acc471e9eb6.\n",
      "5 chains, each with iter=50000; warmup=25000; thin=1; \n",
      "post-warmup draws per chain=25000, total post-warmup draws=125000.\n",
      "\n",
      "        mean se_mean     sd   2.5%    25%    50%    75%  97.5%  n_eff   Rhat\n",
      "theta    0.6  8.1e-4   0.12   0.34   0.53   0.62   0.69   0.79  20308    1.0\n",
      "N     104.98    0.59  82.88  78.62  88.41  97.19 110.85  167.3  19756    1.0\n",
      "lPbar 313.17    0.72  97.13 175.51 246.69 297.42 361.69 537.22  18108    1.0\n",
      "MME1    0.01  1.2e-5 1.8e-3 6.0e-3 9.0e-3   0.01   0.01   0.01  19885    1.0\n",
      "MME2  1.0e-4  2.3e-7 3.3e-5 3.6e-5 8.1e-5 1.1e-4 1.3e-4 1.6e-4  21432    1.0\n",
      "lp__  -65.71  7.6e-3   1.09 -68.64 -66.12 -65.38 -64.94 -64.66  20497    1.0\n",
      "\n",
      "Samples were drawn using NUTS at Tue Jun  8 17:12:49 2021.\n",
      "For each parameter, n_eff is a crude measure of effective sample size,\n",
      "and Rhat is the potential scale reduction factor on split chains (at \n",
      "convergence, Rhat=1).\n"
     ]
    }
   ],
   "source": [
    "raft_data = {\n",
    "    \"x_obs\": waterbuck,\n",
    "    \"n\": waterbuck.shape[0],\n",
    "    'a': 1, \n",
    "    'b': 1,\n",
    "    'alpha': 1.,\n",
    "    'beta': 1.,\n",
    "}\n",
    "\n",
    "fit_raftery = sm_raft.sampling(data=raft_data, iter=50000, chains=5,\n",
    "                               control=dict(adapt_delta=0.95))\n",
    "\n",
    "print(fit_raftery)"
   ]
  },
  {
   "cell_type": "markdown",
   "id": "6c03b214-3ae9-4e33-9f98-b7307993d56b",
   "metadata": {},
   "source": [
    "### Marginal posterior of $N$"
   ]
  },
  {
   "cell_type": "code",
   "execution_count": 240,
   "id": "f77b8c73-15d9-4da6-9935-15525283f931",
   "metadata": {},
   "outputs": [
    {
     "data": {
      "image/png": "[encoded data removed]",
      "text/plain": [
       "<Figure size 432x288 with 1 Axes>"
      ]
     },
     "metadata": {
      "needs_background": "light"
     },
     "output_type": "display_data"
    }
   ],
   "source": [
    "plt.hist(fit_raftery.extract()[\"N\"], bins = range(73, 200), density = True, edgecolor = \"none\")\n",
    "plt.show()"
   ]
  },
  {
   "cell_type": "code",
   "execution_count": 241,
   "id": "2a5e2ba8-9336-4b8b-ad26-768442b1f9ac",
   "metadata": {},
   "outputs": [
    {
     "name": "stdout",
     "output_type": "stream",
     "text": [
      "Inference for Stan model: anon_model_696db612137e19e852243acc471e9eb6.\n",
      "5 chains, each with iter=50000; warmup=25000; thin=1; \n",
      "post-warmup draws per chain=25000, total post-warmup draws=125000.\n",
      "\n",
      "        mean se_mean     sd   2.5%    25%    50%    75%  97.5%  n_eff   Rhat\n",
      "theta   0.29  1.5e-3   0.18   0.01   0.13   0.27   0.42   0.67  14683    1.0\n",
      "N     1111.6   99.98  1.3e4   95.0 148.77 235.74 473.51 4533.2  16815    1.0\n",
      "lPbar 743.91    3.22 355.96 285.58 489.94 667.43 911.59 1642.8  12256    1.0\n",
      "MME1  4.6e-3  2.4e-5 2.9e-3 2.2e-4 2.1e-3 4.2e-3 6.7e-3   0.01  14686    1.0\n",
      "MME2  2.9e-5  2.5e-7 3.1e-5 4.9e-8 4.5e-6 1.8e-5 4.5e-5 1.1e-4  15153    1.0\n",
      "lp__  -19.88  7.6e-3   1.07 -22.75  -20.3 -19.55 -19.11 -18.82  20044    1.0\n",
      "\n",
      "Samples were drawn using NUTS at Tue Jun  8 17:13:12 2021.\n",
      "For each parameter, n_eff is a crude measure of effective sample size,\n",
      "and Rhat is the potential scale reduction factor on split chains (at \n",
      "convergence, Rhat=1).\n"
     ]
    }
   ],
   "source": [
    "uninf_data = {\n",
    "    \"x_obs\": waterbuck,\n",
    "    \"n\": waterbuck.shape[0],\n",
    "    'a': 1, \n",
    "    'b': 1,\n",
    "    'alpha': 0,\n",
    "    'beta': 0,\n",
    "}\n",
    "\n",
    "fit_uninf = sm_raft.sampling(data=uninf_data, iter=50000, chains=5,\n",
    "                             control=dict(adapt_delta=0.95))\n",
    "\n",
    "print(fit_uninf)"
   ]
  },
  {
   "cell_type": "markdown",
   "id": "91a45a02-4d31-4874-9d2f-98127d800b91",
   "metadata": {},
   "source": [
    "### Marginal posterior of $N$"
   ]
  },
  {
   "cell_type": "code",
   "execution_count": 242,
   "id": "2928aef3-6460-4b8c-bc33-bbad3983c198",
   "metadata": {},
   "outputs": [
    {
     "data": {
      "image/png": "[encoded data removed]",
      "text/plain": [
       "<Figure size 432x288 with 1 Axes>"
      ]
     },
     "metadata": {
      "needs_background": "light"
     },
     "output_type": "display_data"
    }
   ],
   "source": [
    "plt.hist(fit_uninf.extract()[\"N\"], bins = range(76, 1000,5), density = True, edgecolor = \"none\")\n",
    "plt.show()"
   ]
  },
  {
   "cell_type": "code",
   "execution_count": 243,
   "id": "72376751-9458-42e1-915f-333efff7f5de",
   "metadata": {},
   "outputs": [
    {
     "name": "stdout",
     "output_type": "stream",
     "text": [
      "Inference for Stan model: anon_model_3ba9cd05caf67271b6bbe300ba1e1d2a.\n",
      "5 chains, each with iter=50000; warmup=25000; thin=1; \n",
      "post-warmup draws per chain=25000, total post-warmup draws=125000.\n",
      "\n",
      "        mean se_mean     sd   2.5%    25%    50%    75%  97.5%  n_eff   Rhat\n",
      "N      221.7    2.79 417.79  88.56 118.62 154.46 227.56 726.57  22433    1.0\n",
      "theta    0.4  1.1e-3   0.17   0.09   0.28   0.41   0.53   0.71  22610    1.0\n",
      "nu      0.01  6.2e-5   0.01 9.4e-4 4.9e-3 9.6e-3   0.02   0.04  30277    1.0\n",
      "MME1  6.4e-3  1.8e-5 2.7e-3 1.4e-3 4.4e-3 6.5e-3 8.4e-3   0.01  22515    1.0\n",
      "MME2  4.8e-5  2.2e-7 3.5e-5 1.9e-6 1.9e-5 4.2e-5 7.1e-5 1.3e-4  24271    1.0\n",
      "lp__  -26.22  7.8e-3   1.31  -29.6 -26.81 -25.88 -25.27 -24.73  28045    1.0\n",
      "\n",
      "Samples were drawn using NUTS at Tue Jun  8 17:14:03 2021.\n",
      "For each parameter, n_eff is a crude measure of effective sample size,\n",
      "and Rhat is the potential scale reduction factor on split chains (at \n",
      "convergence, Rhat=1).\n"
     ]
    }
   ],
   "source": [
    "geom_id_data = {\n",
    "    \"x_obs\": waterbuck,\n",
    "    \"n\": waterbuck.shape[0],\n",
    "    'alpha1': 1, \n",
    "    'alpha2': 1,\n",
    "    'beta1': 1,\n",
    "    'beta2': 1,\n",
    "}\n",
    "\n",
    "fit_geom_id = sm_geom_id.sampling(data=geom_id_data, iter=50000, chains=5,\n",
    "                                control=dict(adapt_delta=0.99))\n",
    "\n",
    "print(fit_geom_id)"
   ]
  },
  {
   "cell_type": "markdown",
   "id": "c12075de-6105-409b-a9c3-eeb1dbcd65da",
   "metadata": {},
   "source": [
    "### Marginal posterior of $N$"
   ]
  },
  {
   "cell_type": "code",
   "execution_count": 244,
   "id": "bf918b44-fd4d-4b9c-bccd-66cf71b19cf7",
   "metadata": {},
   "outputs": [
    {
     "data": {
      "image/png": "[encoded data removed]",
      "text/plain": [
       "<Figure size 432x288 with 1 Axes>"
      ]
     },
     "metadata": {
      "needs_background": "light"
     },
     "output_type": "display_data"
    }
   ],
   "source": [
    "plt.hist(fit_geom_id.extract()[\"N\"], bins = range(70, 500), density = True, edgecolor = \"none\")\n",
    "plt.show()"
   ]
  },
  {
   "cell_type": "code",
   "execution_count": 245,
   "id": "8b7cbfa8-daca-4853-9a54-0dcebc65fb5f",
   "metadata": {},
   "outputs": [
    {
     "name": "stdout",
     "output_type": "stream",
     "text": [
      "Inference for Stan model: anon_model_7c69c4fd31a6b1b0084467fc24a39099.\n",
      "5 chains, each with iter=50000; warmup=25000; thin=1; \n",
      "post-warmup draws per chain=25000, total post-warmup draws=125000.\n",
      "\n",
      "                 mean se_mean     sd   2.5%    25%    50%     75%  97.5%  n_eff   Rhat\n",
      "N              220.72    1.37 197.61  91.54 125.94 166.26  244.24 681.56  20871    1.0\n",
      "probs_logit[1]  -4.28  4.6e-3   0.76  -5.95  -4.76  -4.22   -3.75  -2.97  27273    1.0\n",
      "probs_logit[2]  -0.57  5.2e-3   0.79  -2.29  -1.06   -0.5 -3.1e-3   0.79  23122    1.0\n",
      "theta            0.38  1.0e-3   0.16   0.09   0.26   0.38     0.5   0.69  24570    1.0\n",
      "nu               0.02  6.7e-5   0.01 2.6e-3 8.5e-3   0.01    0.02   0.05  33194    1.0\n",
      "MME1           6.1e-3  1.6e-5 2.6e-3 1.5e-3 4.1e-3 6.0e-3  7.9e-3   0.01  24508    1.0\n",
      "MME2           4.3e-5  2.0e-7 3.2e-5 2.2e-6 1.7e-5 3.6e-5  6.3e-5 1.2e-4  25876    1.0\n",
      "lp__           -24.37  7.0e-3   1.26 -27.63 -24.95 -24.05  -23.45 -22.94  31898    1.0\n",
      "\n",
      "Samples were drawn using NUTS at Tue Jun  8 17:14:37 2021.\n",
      "For each parameter, n_eff is a crude measure of effective sample size,\n",
      "and Rhat is the potential scale reduction factor on split chains (at \n",
      "convergence, Rhat=1).\n"
     ]
    }
   ],
   "source": [
    "geom_corr_data = {\n",
    "    \"x_obs\": waterbuck,\n",
    "    \"n\": waterbuck.shape[0],\n",
    "    'eta': np.array([0,0]), \n",
    "    'Sigma': np.array([[2.5,1],[1,2.5]]),\n",
    "}\n",
    "\n",
    "fit_geom_corr = sm_geom_corr.sampling(data=geom_corr_data, iter=50000, chains=5,\n",
    "                                 control=dict(adapt_delta=0.96))\n",
    "\n",
    "print(fit_geom_corr)"
   ]
  },
  {
   "cell_type": "markdown",
   "id": "495ebfb8-84ef-488a-9dc2-22ed689fd2a5",
   "metadata": {},
   "source": [
    "### Marginal posterior of $N$"
   ]
  },
  {
   "cell_type": "code",
   "execution_count": 249,
   "id": "24879d62-a401-4d9d-9646-74c8b0128c4b",
   "metadata": {},
   "outputs": [
    {
     "data": {
      "image/png": "[encoded data removed]",
      "text/plain": [
       "<Figure size 432x288 with 1 Axes>"
      ]
     },
     "metadata": {
      "needs_background": "light"
     },
     "output_type": "display_data"
    }
   ],
   "source": [
    "plt.hist(fit_geom_corr.extract()[\"N\"], bins = range(75, 500), density = True, edgecolor = \"none\")\n",
    "plt.show()"
   ]
  },
  {
   "cell_type": "markdown",
   "id": "466f83a2-387c-411c-8ef1-8dfc39f06c00",
   "metadata": {},
   "source": [
    "Figure joining the posteriors of $N$"
   ]
  },
  {
   "cell_type": "code",
   "execution_count": 247,
   "id": "8a6286b1-fa56-4ba3-b196-3d7df5168fca",
   "metadata": {},
   "outputs": [
    {
     "data": {
      "image/png": "[encoded data removed]",
      "text/plain": [
       "<Figure size 1440x288 with 4 Axes>"
      ]
     },
     "metadata": {
      "needs_background": "light"
     },
     "output_type": "display_data"
    }
   ],
   "source": [
    "fig, ax = plt.subplots(1,4, figsize = (20,4))\n",
    "\n",
    "sns.histplot(fit_raftery.extract()[\"N\"], bins = range(70, 500), ax = ax[0], stat = 'density')\n",
    "sns.histplot(fit_uninf.extract()[\"N\"], bins = range(70, 1000),ax = ax[1], stat = 'density')\n",
    "sns.histplot(fit_geom_id.extract()[\"N\"], bins = range(70, 500), ax = ax[2], stat = 'density')\n",
    "sns.histplot(fit_geom_corr.extract()[\"N\"], bins = range(70, 500), ax = ax[3], stat = 'density')\n",
    "\n",
    "for i in range(4):\n",
    "    ax[i].set_title(r\"$p_{}(N|x)$\".format(i+1), fontsize = 14)\n",
    "    ax[i].set_ylabel(\" \")\n",
    "\n",
    "plt.savefig(\"../images/marginal-distributions-waterbuck.png\", bbox_inches = 'tight')    \n",
    "plt.show()"
   ]
  },
  {
   "cell_type": "markdown",
   "id": "59650c64-ed9d-4a08-9be4-2b77f5e89985",
   "metadata": {},
   "source": [
    "### Summary statistics"
   ]
  },
  {
   "cell_type": "code",
   "execution_count": 251,
   "id": "f8c9d742-eb47-40f4-bd2a-e00e298f4694",
   "metadata": {},
   "outputs": [
    {
     "data": {
      "text/html": [
       "<div>\n",
       "<style scoped>\n",
       "    .dataframe tbody tr th:only-of-type {\n",
       "        vertical-align: middle;\n",
       "    }\n",
       "\n",
       "    .dataframe tbody tr th {\n",
       "        vertical-align: top;\n",
       "    }\n",
       "\n",
       "    .dataframe thead th {\n",
       "        text-align: right;\n",
       "    }\n",
       "</style>\n",
       "<table border=\"1\" class=\"dataframe\">\n",
       "  <thead>\n",
       "    <tr style=\"text-align: right;\">\n",
       "      <th></th>\n",
       "      <th>Mean</th>\n",
       "      <th>Median</th>\n",
       "      <th>MRSE</th>\n",
       "      <th>HDI</th>\n",
       "    </tr>\n",
       "  </thead>\n",
       "  <tbody>\n",
       "    <tr>\n",
       "      <th>0</th>\n",
       "      <td>104.98</td>\n",
       "      <td>97.19</td>\n",
       "      <td>96.68</td>\n",
       "      <td>[74.74, 143.35]</td>\n",
       "    </tr>\n",
       "    <tr>\n",
       "      <th>1</th>\n",
       "      <td>1111.69</td>\n",
       "      <td>235.74</td>\n",
       "      <td>155.66</td>\n",
       "      <td>[75.0, 1920.81]</td>\n",
       "    </tr>\n",
       "    <tr>\n",
       "      <th>2</th>\n",
       "      <td>221.70</td>\n",
       "      <td>154.46</td>\n",
       "      <td>132.79</td>\n",
       "      <td>[75.08, 470.09]</td>\n",
       "    </tr>\n",
       "    <tr>\n",
       "      <th>3</th>\n",
       "      <td>220.72</td>\n",
       "      <td>166.26</td>\n",
       "      <td>140.25</td>\n",
       "      <td>[78.86, 476.56]</td>\n",
       "    </tr>\n",
       "  </tbody>\n",
       "</table>\n",
       "</div>"
      ],
      "text/plain": [
       "      Mean  Median    MRSE              HDI\n",
       "0   104.98   97.19   96.68  [74.74, 143.35]\n",
       "1  1111.69  235.74  155.66  [75.0, 1920.81]\n",
       "2   221.70  154.46  132.79  [75.08, 470.09]\n",
       "3   220.72  166.26  140.25  [78.86, 476.56]"
      ]
     },
     "execution_count": 251,
     "metadata": {},
     "output_type": "execute_result"
    }
   ],
   "source": [
    "raft_N = fit_raftery.extract()[\"N\"]\n",
    "uninf_N = fit_uninf.extract()[\"N\"]\n",
    "geom_id_N = fit_geom_id.extract()[\"N\"]\n",
    "geom_corr_N = fit_geom_corr.extract()[\"N\"]\n",
    "\n",
    "se = {\n",
    "    'Mean': [raft_N.mean(), uninf_N.mean(), geom_id_N.mean(), geom_corr_N.mean()],\n",
    "    'Median': [np.median(raft_N), np.median(uninf_N), np.median(geom_id_N), np.median(geom_corr_N)],\n",
    "    'MRSE': [(1/raft_N).mean()/(1/raft_N**2).mean(), (1/uninf_N).mean()/(1/uninf_N**2).mean(),\n",
    "             (1/geom_id_N).mean()/(1/geom_id_N**2).mean(), (1/geom_corr_N).mean()/(1/geom_corr_N**2).mean()],\n",
    "    'HDI': [az.hdi(raft_N, hdi_prop = 0.95), az.hdi(uninf_N, hdi_prop = 0.95), \n",
    "            az.hdi(geom_id_N, hdi_prop = 0.95), az.hdi(geom_corr_N, hdi_prop = 0.95)]\n",
    "}\n",
    "\n",
    "summary_statistics = pd.DataFrame(se)\n",
    "summary_statistics.HDI = summary_statistics.HDI.apply(lambda x: [round(x[0],2), round(x[1],2)])\n",
    "summary_statistics"
   ]
  },
  {
   "cell_type": "markdown",
   "id": "19255c90-cfa0-42af-83e8-147a3eae0ed1",
   "metadata": {},
   "source": [
    "with open('data2.json', 'w') as f: \n",
    "    json.dump(list(N.astype(float)), f)## Comparing the simulation to the closed-form distributions"
   ]
  },
  {
   "cell_type": "code",
   "execution_count": 32,
   "id": "319f0a50-0952-4983-8475-cd48fa9f9aae",
   "metadata": {},
   "outputs": [],
   "source": [
    "geom_id_data = {\n",
    "    \"x_obs\": impala,\n",
    "    \"n\": impala.shape[0],\n",
    "    'alpha1': 1, \n",
    "    'alpha2': 1,\n",
    "    'beta1': 1,\n",
    "    'beta2': 1,\n",
    "}\n",
    "\n",
    "fit_geom_id = sm_geom_id.sampling(data=geom_id_data, iter=50000, chains=5,\n",
    "                                control=dict(adapt_delta=0.99))\n",
    "\n",
    "uninf_data = {\n",
    "    \"x_obs\": impala,\n",
    "    \"n\": impala.shape[0],\n",
    "    'a': 1, \n",
    "    'b': 1,\n",
    "    'alpha': 0,\n",
    "    'beta': 0,\n",
    "}\n",
    "\n",
    "fit_uninf = sm_raft.sampling(data=uninf_data, iter=50000, chains=5,\n",
    "                             control=dict(adapt_delta=0.95))"
   ]
  },
  {
   "cell_type": "markdown",
   "id": "443a844a-160f-4a5b-a4a6-69b8eb9872ba",
   "metadata": {},
   "source": [
    "### Geometric distribution"
   ]
  },
  {
   "cell_type": "code",
   "execution_count": 33,
   "id": "2d531f12-e10d-42f2-92eb-fb87f54075d6",
   "metadata": {},
   "outputs": [],
   "source": [
    "S = sum(impala)\n",
    "n = len(impala)\n",
    "xmax = max(impala)\n",
    "\n",
    "def p1_geom_unnorm(N, x_obs): \n",
    "    \n",
    "    result = np.prod([comb(N,i) for i in x_obs])\n",
    "    result *= beta(geom_id_data[\"alpha1\"] + 1, N + geom_id_data[\"beta1\"])\n",
    "    result *= beta(S+geom_id_data[\"alpha2\"], n*N - S + geom_id_data[\"beta2\"])\n",
    "    return result\n",
    "\n",
    "constant_geom = 0 \n",
    "N = xmax\n",
    "eps = 1\n",
    "while eps > 1e-16: \n",
    "    eps = p1_geom_unnorm(N, impala)\n",
    "    constant_geom += eps\n",
    "    N += 1\n",
    "    \n",
    "def p1_geom(N, x_obs): \n",
    "    \n",
    "    return p1_geom_unnorm(N, x_obs)/constant_geom"
   ]
  },
  {
   "cell_type": "markdown",
   "id": "1575ee9a-2dcf-463b-83fb-4a13e5f8a0f8",
   "metadata": {},
   "source": [
    "### Raftery uninformative"
   ]
  },
  {
   "cell_type": "code",
   "execution_count": 34,
   "id": "22cc6ecb-1195-4228-8df5-20f272daf88c",
   "metadata": {},
   "outputs": [],
   "source": [
    "def p2_uninf_unnorm(N, x_obs): \n",
    "    \n",
    "    result = np.prod([comb(N,i) for i in x_obs])\n",
    "    d = n*N+1\n",
    "    while d > n*N - S: \n",
    "        result /= d\n",
    "        d -= 1\n",
    "    result /= N\n",
    "    return result*1e179\n",
    "\n",
    "constant_uninf = 0 \n",
    "N = xmax\n",
    "eps = 1\n",
    "while eps > 0.01: \n",
    "    eps = p2_uninf_unnorm(N, impala)\n",
    "    constant_uninf += eps\n",
    "    N += 1\n",
    "    \n",
    "def p2_uninf(N, x_obs): \n",
    "    \n",
    "    return p2_uninf_unnorm(N, x_obs)/constant_uninf"
   ]
  },
  {
   "cell_type": "code",
   "execution_count": 35,
   "id": "01971730-2522-499c-b632-b5b67cbe72f7",
   "metadata": {},
   "outputs": [
    {
     "data": {
      "image/png": "[encoded data removed]",
      "text/plain": [
       "<Figure size 1008x288 with 2 Axes>"
      ]
     },
     "metadata": {
      "needs_background": "light"
     },
     "output_type": "display_data"
    }
   ],
   "source": [
    "fig, ax = plt.subplots(1,2, figsize = (14,4))\n",
    "\n",
    "ax[0].hist(fit_geom_id.extract()[\"N\"], bins= range(xmax, 200), density = True, linewidth=0.4, label = \"Sampling\")\n",
    "ax[0].plot(range(xmax,200), [p1_geom(N,impala) for N in range(xmax,200)], linewidth = 4, label = \"Closed-form\")\n",
    "ax[1].hist(fit_uninf.extract()[\"N\"], bins= range(xmax, 400), density = True, linewidth=0.2, label = \"Sampling\")\n",
    "ax[1].plot(range(xmax,400), [p2_uninf(N,impala) for N in range(xmax,400)], linewidth = 4, label = \"Closed-form\")\n",
    "\n",
    "ax[0].legend()\n",
    "ax[1].legend()\n",
    "ax[0].set_title(\"Geometric independent model\")\n",
    "ax[1].set_title(\"Raftery uninformative model\")\n",
    "\n",
    "plt.savefig(\"../images/approximation-analysis-stan.png\")\n",
    "plt.show()"
   ]
  },
  {
   "cell_type": "markdown",
   "id": "4891b0a4-fc83-4772-94be-1cf975555a47",
   "metadata": {},
   "source": [
    "## Part II - Stability\n",
    "\n",
    "Let $\\bar{x} = K^{-1}\\sum_{k =1}^K x_k$ and $s^2 = K^{-1}\\sum_{k =1}^K (x_k-\\bar{x})^2$. For this problem, a sample is said to be *stable* if $\\bar{x}/s^2 \\geq (\\sqrt{2} + 1)/\\sqrt{2}$ and *unstable* otherwise. Devise a simple method of moments estimator (MME) for $N$. Then, using a Monte Carlo simulation, compare the MME to the three Bayes estimators under quadratic loss in terms of relative mean squared error. How do the Bayes estimators compare to MME in terms of the stability of the generated samples? "
   ]
  },
  {
   "cell_type": "code",
   "execution_count": 36,
   "id": "68506a02-100c-429b-b1bb-cdb002f5aa2e",
   "metadata": {},
   "outputs": [
    {
     "data": {
      "text/plain": [
       "(1.590909090909091, False)"
      ]
     },
     "execution_count": 36,
     "metadata": {},
     "output_type": "execute_result"
    }
   ],
   "source": [
    "impala.mean()/impala.var(), impala.mean()/impala.var() >= (1 + 1/np.sqrt(2))"
   ]
  },
  {
   "cell_type": "code",
   "execution_count": 37,
   "id": "d3177483-b774-4717-bf72-1ba1332a61d4",
   "metadata": {},
   "outputs": [
    {
     "data": {
      "text/plain": [
       "(1.3016528925619835, False)"
      ]
     },
     "execution_count": 37,
     "metadata": {},
     "output_type": "execute_result"
    }
   ],
   "source": [
    "waterbuck.mean()/waterbuck.var(), waterbuck.mean()/waterbuck.var() >= (1 + 1/np.sqrt(2))"
   ]
  },
  {
   "cell_type": "code",
   "execution_count": 38,
   "id": "8448054b-ffd1-4563-b217-83c9ee15a61e",
   "metadata": {},
   "outputs": [
    {
     "name": "stdout",
     "output_type": "stream",
     "text": [
      "56.53846153846153\n",
      "271.8493150684931\n"
     ]
    }
   ],
   "source": [
    "N_MME_impala = impala.mean()**2/(impala.mean() - impala.var())\n",
    "N_MME_waterbuck = waterbuck.mean()**2/(waterbuck.mean() - waterbuck.var())\n",
    "print(N_MME_impala)\n",
    "print(N_MME_waterbuck)"
   ]
  },
  {
   "cell_type": "markdown",
   "id": "64e7aa50-b028-4b0d-b5ad-94a3e10742df",
   "metadata": {},
   "source": [
    "### N Estimates for Selected and Perturbed Samples"
   ]
  },
  {
   "cell_type": "code",
   "execution_count": 45,
   "id": "c14254ff-f540-4eae-be80-a7d16939b3b8",
   "metadata": {},
   "outputs": [
    {
     "data": {
      "text/html": [
       "<div>\n",
       "<style scoped>\n",
       "    .dataframe tbody tr th:only-of-type {\n",
       "        vertical-align: middle;\n",
       "    }\n",
       "\n",
       "    .dataframe tbody tr th {\n",
       "        vertical-align: top;\n",
       "    }\n",
       "\n",
       "    .dataframe thead th {\n",
       "        text-align: right;\n",
       "    }\n",
       "</style>\n",
       "<table border=\"1\" class=\"dataframe\">\n",
       "  <thead>\n",
       "    <tr style=\"text-align: right;\">\n",
       "      <th></th>\n",
       "      <th>N</th>\n",
       "      <th>p</th>\n",
       "      <th>K</th>\n",
       "    </tr>\n",
       "  </thead>\n",
       "  <tbody>\n",
       "    <tr>\n",
       "      <th>1</th>\n",
       "      <td>75</td>\n",
       "      <td>0.32</td>\n",
       "      <td>5</td>\n",
       "    </tr>\n",
       "    <tr>\n",
       "      <th>2</th>\n",
       "      <td>34</td>\n",
       "      <td>0.57</td>\n",
       "      <td>4</td>\n",
       "    </tr>\n",
       "    <tr>\n",
       "      <th>3</th>\n",
       "      <td>37</td>\n",
       "      <td>0.17</td>\n",
       "      <td>20</td>\n",
       "    </tr>\n",
       "    <tr>\n",
       "      <th>4</th>\n",
       "      <td>48</td>\n",
       "      <td>0.06</td>\n",
       "      <td>15</td>\n",
       "    </tr>\n",
       "    <tr>\n",
       "      <th>5</th>\n",
       "      <td>40</td>\n",
       "      <td>0.17</td>\n",
       "      <td>12</td>\n",
       "    </tr>\n",
       "    <tr>\n",
       "      <th>6</th>\n",
       "      <td>74</td>\n",
       "      <td>0.68</td>\n",
       "      <td>12</td>\n",
       "    </tr>\n",
       "    <tr>\n",
       "      <th>7</th>\n",
       "      <td>55</td>\n",
       "      <td>0.48</td>\n",
       "      <td>20</td>\n",
       "    </tr>\n",
       "    <tr>\n",
       "      <th>8</th>\n",
       "      <td>60</td>\n",
       "      <td>0.24</td>\n",
       "      <td>15</td>\n",
       "    </tr>\n",
       "  </tbody>\n",
       "</table>\n",
       "</div>"
      ],
      "text/plain": [
       "    N     p   K\n",
       "1  75  0.32   5\n",
       "2  34  0.57   4\n",
       "3  37  0.17  20\n",
       "4  48  0.06  15\n",
       "5  40  0.17  12\n",
       "6  74  0.68  12\n",
       "7  55  0.48  20\n",
       "8  60  0.24  15"
      ]
     },
     "execution_count": 45,
     "metadata": {},
     "output_type": "execute_result"
    }
   ],
   "source": [
    "samples_parameters = {\n",
    "    \"N\": [75,34,37,48,40,74,55,60],\n",
    "    \"p\": [.32,.57,.17,.06,.17,.68,.48,.24],\n",
    "    \"K\": [5,4,20,15,12,12,20,15]\n",
    "}\n",
    "\n",
    "table_estimates = pd.DataFrame(samples_parameters, index = range(1,9))\n",
    "table_estimates"
   ]
  },
  {
   "cell_type": "code",
   "execution_count": 104,
   "id": "455aa0dd-5ef3-49fa-b6d8-248c5ad13310",
   "metadata": {},
   "outputs": [],
   "source": [
    "ro = np.random.RandomState(1000)\n",
    "samples = {i: np.sort(ro.binomial(p = samples_parameters['p'][i-1], \n",
    "                                  n = samples_parameters['N'][i-1], \n",
    "                                  size = samples_parameters[\"K\"][i-1])) for i in range(1,9)}\n",
    "\n",
    "samples_perturbed = dict(samples)\n",
    "for i in range(1,9):\n",
    "    samples_perturbed[i] = samples_perturbed[i] + np.eye(samples_perturbed[i].shape[0])[-1].astype(int)"
   ]
  },
  {
   "cell_type": "markdown",
   "id": "5cb4f063-74d3-41fe-a9d0-87c7f96161c2",
   "metadata": {},
   "source": [
    "### Making the estimatives"
   ]
  },
  {
   "cell_type": "code",
   "execution_count": 276,
   "id": "4f238a3b-fcbe-4f7c-a04b-d5b7394fa03c",
   "metadata": {},
   "outputs": [],
   "source": [
    "raft_data = {\n",
    "    'a': 2, \n",
    "    'b': 2,\n",
    "    'alpha': 1.,\n",
    "    'beta': 1.,\n",
    "}\n",
    "\n",
    "uninf_data = {\n",
    "    'a': 1, \n",
    "    'b': 1,\n",
    "    'alpha': 0,\n",
    "    'beta': 0,\n",
    "}\n",
    "\n",
    "geom_id_data = {\n",
    "    'alpha1': 1, \n",
    "    'alpha2': 2,\n",
    "    'beta1': 1,\n",
    "    'beta2': 2,\n",
    "}\n",
    "\n",
    "geom_corr_data = {\n",
    "    'eta': np.array([0,0]), \n",
    "    'Sigma': np.array([[2.5,2.0],[2.0,2.5]]),\n",
    "}\n",
    "\n",
    "estimates = {\n",
    "    'Raft': [[], []],\n",
    "    'Uninf': [[], []],\n",
    "    'Geom-id': [[], []],\n",
    "    'Geom-corr': [[], []]\n",
    "}"
   ]
  },
  {
   "cell_type": "code",
   "execution_count": 277,
   "id": "9780e666-b1e1-4f20-baf7-1958f0f50f4f",
   "metadata": {},
   "outputs": [
    {
     "name": "stdout",
     "output_type": "stream",
     "text": [
      "Sample 1 starting\n",
      "Perturbed sample 1 starting\n",
      "Sample 2 starting\n"
     ]
    },
    {
     "name": "stderr",
     "output_type": "stream",
     "text": [
      "WARNING:pystan:5 of 50000 iterations ended with a divergence (0.01 %).\n",
      "WARNING:pystan:Try running with adapt_delta larger than 0.95 to remove the divergences.\n"
     ]
    },
    {
     "name": "stdout",
     "output_type": "stream",
     "text": [
      "Perturbed sample 2 starting\n",
      "Sample 3 starting\n",
      "Perturbed sample 3 starting\n",
      "Sample 4 starting\n",
      "Perturbed sample 4 starting\n",
      "Sample 5 starting\n",
      "Perturbed sample 5 starting\n",
      "Sample 6 starting\n"
     ]
    },
    {
     "name": "stderr",
     "output_type": "stream",
     "text": [
      "WARNING:pystan:3 of 50000 iterations ended with a divergence (0.006 %).\n",
      "WARNING:pystan:Try running with adapt_delta larger than 0.95 to remove the divergences.\n",
      "WARNING:pystan:1 of 50000 iterations ended with a divergence (0.002 %).\n",
      "WARNING:pystan:Try running with adapt_delta larger than 0.95 to remove the divergences.\n"
     ]
    },
    {
     "name": "stdout",
     "output_type": "stream",
     "text": [
      "Perturbed sample 6 starting\n",
      "Sample 7 starting\n",
      "Perturbed sample 7 starting\n",
      "Sample 8 starting\n",
      "Perturbed sample 8 starting\n"
     ]
    }
   ],
   "source": [
    "for sample in range(1,9): \n",
    "    \n",
    "    ### Samples' parameters ###\n",
    "    print(\"Sample {} starting\".format(sample))\n",
    "    \n",
    "    raft_data['x_obs']      = samples[sample]\n",
    "    uninf_data['x_obs']     = samples[sample]\n",
    "    geom_id_data['x_obs']   = samples[sample]\n",
    "    geom_corr_data['x_obs'] = samples[sample]\n",
    "    \n",
    "    raft_data['n']      = samples[sample].shape[0]\n",
    "    uninf_data['n']     = samples[sample].shape[0]\n",
    "    geom_id_data['n']   = samples[sample].shape[0]\n",
    "    geom_corr_data['n'] = samples[sample].shape[0]\n",
    "    \n",
    "    ### Estimating posteriors ###\n",
    "\n",
    "    fit_raftery = sm_raft.sampling(data=raft_data, iter=20000, chains=5,\n",
    "                                   control=dict(adapt_delta=0.95))\n",
    "    fit_uninf = sm_raft.sampling(data=uninf_data, iter=20000, chains=5,\n",
    "                                 control=dict(adapt_delta=0.95))\n",
    "    fit_geom_id = sm_geom_id.sampling(data=geom_id_data, iter=20000, chains=5,\n",
    "                                      control=dict(adapt_delta=0.99)) \n",
    "    fit_geom_corr = sm_geom_corr.sampling(data=geom_corr_data, iter=20000, chains=5,\n",
    "                                          control=dict(adapt_delta=0.96))\n",
    "    \n",
    "    ### Saving the inferences ###\n",
    "    \n",
    "    estimates['Raft'][0].append((1/fit_raftery.extract()[\"N\"]).mean()/(1/fit_raftery.extract()[\"N\"]**2).mean())\n",
    "    estimates['Uninf'][0].append((1/fit_uninf.extract()[\"N\"]).mean()/(1/fit_uninf.extract()[\"N\"]**2).mean())\n",
    "    estimates['Geom-id'][0].append((1/fit_geom_id.extract()[\"N\"]).mean()/(1/fit_geom_id.extract()[\"N\"]**2).mean())\n",
    "    estimates['Geom-corr'][0].append((1/fit_geom_corr.extract()[\"N\"]).mean()/(1/fit_geom_corr.extract()[\"N\"]**2).mean())\n",
    "    \n",
    "    ### Perturbed samples' parameters ###\n",
    "    print(\"Perturbed sample {} starting\".format(sample))\n",
    "    \n",
    "    raft_data['x_obs']      = samples_perturbed[sample]\n",
    "    uninf_data['x_obs']     = samples_perturbed[sample]\n",
    "    geom_id_data['x_obs']   = samples_perturbed[sample]\n",
    "    geom_corr_data['x_obs'] = samples_perturbed[sample]\n",
    "    \n",
    "    raft_data['n']      = samples_perturbed[sample].shape[0]\n",
    "    uninf_data['n']     = samples_perturbed[sample].shape[0]\n",
    "    geom_id_data['n']   = samples_perturbed[sample].shape[0]\n",
    "    geom_corr_data['n'] = samples_perturbed[sample].shape[0]\n",
    "    \n",
    "    ### Estimating posteriors ###\n",
    "\n",
    "    fit_raftery = sm_raft.sampling(data=raft_data, iter=10000, chains=5,\n",
    "                                   control=dict(adapt_delta=0.95))\n",
    "    fit_uninf = sm_raft.sampling(data=uninf_data, iter=10000, chains=5,\n",
    "                                 control=dict(adapt_delta=0.95))\n",
    "    fit_geom_id = sm_geom_id.sampling(data=geom_id_data, iter=10000, chains=5,\n",
    "                                      control=dict(adapt_delta=0.99)) \n",
    "    fit_geom_corr = sm_geom_corr.sampling(data=geom_corr_data, iter=10000, chains=5,\n",
    "                                          control=dict(adapt_delta=0.96))\n",
    "    \n",
    "    ### Saving the inferences ###\n",
    "    \n",
    "    estimates['Raft'][1].append((1/fit_raftery.extract()[\"N\"]).mean()/(1/fit_raftery.extract()[\"N\"]**2).mean())\n",
    "    estimates['Uninf'][1].append((1/fit_uninf.extract()[\"N\"]).mean()/(1/fit_uninf.extract()[\"N\"]**2).mean())\n",
    "    estimates['Geom-id'][1].append((1/fit_geom_id.extract()[\"N\"]).mean()/(1/fit_geom_id.extract()[\"N\"]**2).mean())\n",
    "    estimates['Geom-corr'][1].append((1/fit_geom_corr.extract()[\"N\"]).mean()/(1/fit_geom_corr.extract()[\"N\"]**2).mean())"
   ]
  },
  {
   "cell_type": "markdown",
   "id": "96ffd916-655e-4fe2-93af-f5d6cd7f38f0",
   "metadata": {},
   "source": [
    "### Sample "
   ]
  },
  {
   "cell_type": "code",
   "execution_count": 278,
   "id": "7f2ea0f1-5556-4b58-9d46-fd31c215b74e",
   "metadata": {},
   "outputs": [
    {
     "data": {
      "text/html": [
       "<div>\n",
       "<style scoped>\n",
       "    .dataframe tbody tr th:only-of-type {\n",
       "        vertical-align: middle;\n",
       "    }\n",
       "\n",
       "    .dataframe tbody tr th {\n",
       "        vertical-align: top;\n",
       "    }\n",
       "\n",
       "    .dataframe thead th {\n",
       "        text-align: right;\n",
       "    }\n",
       "</style>\n",
       "<table border=\"1\" class=\"dataframe\">\n",
       "  <thead>\n",
       "    <tr style=\"text-align: right;\">\n",
       "      <th></th>\n",
       "      <th>Raft</th>\n",
       "      <th>Uninf</th>\n",
       "      <th>Geom-id</th>\n",
       "      <th>Geom-corr</th>\n",
       "    </tr>\n",
       "  </thead>\n",
       "  <tbody>\n",
       "    <tr>\n",
       "      <th>0</th>\n",
       "      <td>45.32</td>\n",
       "      <td>58.99</td>\n",
       "      <td>50.88</td>\n",
       "      <td>68.52</td>\n",
       "    </tr>\n",
       "    <tr>\n",
       "      <th>1</th>\n",
       "      <td>29.05</td>\n",
       "      <td>31.57</td>\n",
       "      <td>31.07</td>\n",
       "      <td>40.95</td>\n",
       "    </tr>\n",
       "    <tr>\n",
       "      <th>2</th>\n",
       "      <td>22.28</td>\n",
       "      <td>27.47</td>\n",
       "      <td>20.92</td>\n",
       "      <td>27.21</td>\n",
       "    </tr>\n",
       "    <tr>\n",
       "      <th>3</th>\n",
       "      <td>9.09</td>\n",
       "      <td>10.62</td>\n",
       "      <td>8.31</td>\n",
       "      <td>10.49</td>\n",
       "    </tr>\n",
       "    <tr>\n",
       "      <th>4</th>\n",
       "      <td>16.37</td>\n",
       "      <td>18.98</td>\n",
       "      <td>15.86</td>\n",
       "      <td>19.51</td>\n",
       "    </tr>\n",
       "    <tr>\n",
       "      <th>5</th>\n",
       "      <td>59.98</td>\n",
       "      <td>62.13</td>\n",
       "      <td>63.35</td>\n",
       "      <td>75.51</td>\n",
       "    </tr>\n",
       "    <tr>\n",
       "      <th>6</th>\n",
       "      <td>42.51</td>\n",
       "      <td>47.14</td>\n",
       "      <td>45.57</td>\n",
       "      <td>52.93</td>\n",
       "    </tr>\n",
       "    <tr>\n",
       "      <th>7</th>\n",
       "      <td>29.56</td>\n",
       "      <td>35.31</td>\n",
       "      <td>30.65</td>\n",
       "      <td>37.88</td>\n",
       "    </tr>\n",
       "  </tbody>\n",
       "</table>\n",
       "</div>"
      ],
      "text/plain": [
       "    Raft  Uninf  Geom-id  Geom-corr\n",
       "0  45.32  58.99    50.88      68.52\n",
       "1  29.05  31.57    31.07      40.95\n",
       "2  22.28  27.47    20.92      27.21\n",
       "3   9.09  10.62     8.31      10.49\n",
       "4  16.37  18.98    15.86      19.51\n",
       "5  59.98  62.13    63.35      75.51\n",
       "6  42.51  47.14    45.57      52.93\n",
       "7  29.56  35.31    30.65      37.88"
      ]
     },
     "execution_count": 278,
     "metadata": {},
     "output_type": "execute_result"
    }
   ],
   "source": [
    "pd.DataFrame({i: estimates[i][0] for i in estimates.keys()})"
   ]
  },
  {
   "cell_type": "code",
   "execution_count": 317,
   "id": "6ba55bb9-ad00-471f-a6fa-bf853d603e17",
   "metadata": {},
   "outputs": [
    {
     "data": {
      "text/plain": [
       "[105.62500000000003,\n",
       " 26.16216216216216,\n",
       " -55.41975308641972,\n",
       " -9.566037735849065,\n",
       " 61.12371134020623,\n",
       " 59.17487684729064,\n",
       " 44.48273773470624,\n",
       " 42.84135977337112]"
      ]
     },
     "execution_count": 317,
     "metadata": {},
     "output_type": "execute_result"
    }
   ],
   "source": [
    "[samples_perturbed[i].mean()**2/(samples_perturbed[i].mean() - samples_perturbed[i].var()) for i in range(1,9)]"
   ]
  },
  {
   "cell_type": "code",
   "execution_count": null,
   "id": "40152206-cb00-4507-9eaa-bd6dbec88c10",
   "metadata": {},
   "outputs": [],
   "source": [
    "[samples_[i].mean()**2/(samples[i].mean() - samples[i].var()) for i in range(1,9)]"
   ]
  },
  {
   "cell_type": "markdown",
   "id": "048101c1-9dbd-4412-b384-3682f760e993",
   "metadata": {},
   "source": [
    "### Perturbed sample"
   ]
  },
  {
   "cell_type": "code",
   "execution_count": 284,
   "id": "63637415-e155-447f-8b37-a1ba13236986",
   "metadata": {},
   "outputs": [
    {
     "data": {
      "text/html": [
       "<div>\n",
       "<style scoped>\n",
       "    .dataframe tbody tr th:only-of-type {\n",
       "        vertical-align: middle;\n",
       "    }\n",
       "\n",
       "    .dataframe tbody tr th {\n",
       "        vertical-align: top;\n",
       "    }\n",
       "\n",
       "    .dataframe thead th {\n",
       "        text-align: right;\n",
       "    }\n",
       "</style>\n",
       "<table border=\"1\" class=\"dataframe\">\n",
       "  <thead>\n",
       "    <tr style=\"text-align: right;\">\n",
       "      <th></th>\n",
       "      <th>Raft</th>\n",
       "      <th>Uninf</th>\n",
       "      <th>Geom-id</th>\n",
       "      <th>Geom-corr</th>\n",
       "    </tr>\n",
       "  </thead>\n",
       "  <tbody>\n",
       "    <tr>\n",
       "      <th>0</th>\n",
       "      <td>47.39</td>\n",
       "      <td>63.81</td>\n",
       "      <td>53.48</td>\n",
       "      <td>72.18</td>\n",
       "    </tr>\n",
       "    <tr>\n",
       "      <th>1</th>\n",
       "      <td>31.11</td>\n",
       "      <td>35.04</td>\n",
       "      <td>33.35</td>\n",
       "      <td>43.81</td>\n",
       "    </tr>\n",
       "    <tr>\n",
       "      <th>2</th>\n",
       "      <td>24.28</td>\n",
       "      <td>30.60</td>\n",
       "      <td>22.61</td>\n",
       "      <td>29.68</td>\n",
       "    </tr>\n",
       "    <tr>\n",
       "      <th>3</th>\n",
       "      <td>10.64</td>\n",
       "      <td>12.44</td>\n",
       "      <td>9.71</td>\n",
       "      <td>12.44</td>\n",
       "    </tr>\n",
       "    <tr>\n",
       "      <th>4</th>\n",
       "      <td>18.34</td>\n",
       "      <td>21.13</td>\n",
       "      <td>17.50</td>\n",
       "      <td>21.70</td>\n",
       "    </tr>\n",
       "    <tr>\n",
       "      <th>5</th>\n",
       "      <td>61.33</td>\n",
       "      <td>64.08</td>\n",
       "      <td>65.02</td>\n",
       "      <td>77.28</td>\n",
       "    </tr>\n",
       "    <tr>\n",
       "      <th>6</th>\n",
       "      <td>44.01</td>\n",
       "      <td>49.64</td>\n",
       "      <td>47.53</td>\n",
       "      <td>55.49</td>\n",
       "    </tr>\n",
       "    <tr>\n",
       "      <th>7</th>\n",
       "      <td>31.46</td>\n",
       "      <td>37.97</td>\n",
       "      <td>32.72</td>\n",
       "      <td>40.81</td>\n",
       "    </tr>\n",
       "  </tbody>\n",
       "</table>\n",
       "</div>"
      ],
      "text/plain": [
       "    Raft  Uninf  Geom-id  Geom-corr\n",
       "0  47.39  63.81    53.48      72.18\n",
       "1  31.11  35.04    33.35      43.81\n",
       "2  24.28  30.60    22.61      29.68\n",
       "3  10.64  12.44     9.71      12.44\n",
       "4  18.34  21.13    17.50      21.70\n",
       "5  61.33  64.08    65.02      77.28\n",
       "6  44.01  49.64    47.53      55.49\n",
       "7  31.46  37.97    32.72      40.81"
      ]
     },
     "execution_count": 284,
     "metadata": {},
     "output_type": "execute_result"
    }
   ],
   "source": [
    "pd.DataFrame({i: estimates[i][1] for i in estimates.keys()})"
   ]
  },
  {
   "cell_type": "markdown",
   "id": "c4c7580c-0b5d-4736-88a3-77a99c3d1d59",
   "metadata": {},
   "source": [
    "### Monte Carlo estimation of quality of estimators"
   ]
  },
  {
   "cell_type": "code",
   "execution_count": 617,
   "id": "ebd03c6f-da2b-4513-8de2-e494940dd508",
   "metadata": {},
   "outputs": [],
   "source": [
    "info_experiments = pd.DataFrame(columns = ['N', 'p', 'k', 'Raft', 'Uninf', 'Geom id', 'Geom corr', 'MME', 'stable'])"
   ]
  },
  {
   "cell_type": "raw",
   "id": "8174d5b1-8157-4cb5-b6b4-14107e048aec",
   "metadata": {
    "tags": []
   },
   "source": [
    "it = 2000\n",
    "ro = np.random.RandomState(2000)\n",
    "\n",
    "k_array = ro.choice(range(3,23), size = it)\n",
    "p_array = ro.uniform(0,1, size = it)\n",
    "N_array = ro.choice(range(1,101), size = it)\n",
    "\n",
    "for sample in range(it): \n",
    "    \n",
    "    if sample%50 == 0: \n",
    "        print(\"Sample {}\".format(sample))\n",
    "        info_experiments.to_csv(\"info_experiments_monte_carlo.csv\")\n",
    "    \n",
    "    x = ro.binomial(p = p_array[sample], n = N_array[sample], size = k_array[sample])\n",
    "    x_mu = x.mean()\n",
    "    x_sigma2 = x.var()\n",
    "    stable = int(x_mu >= (1 + 1/np.sqrt(2))*x_sigma2)\n",
    "\n",
    "    ### Samples' parameters ###\n",
    "    raft_data['x_obs']      = x\n",
    "    uninf_data['x_obs']     = x\n",
    "    geom_id_data['x_obs']   = x\n",
    "    geom_corr_data['x_obs'] = x\n",
    "    \n",
    "    raft_data['n']      = x.shape[0]\n",
    "    uninf_data['n']     = x.shape[0]\n",
    "    geom_id_data['n']   = x.shape[0]\n",
    "    geom_corr_data['n'] = x.shape[0]\n",
    "    \n",
    "    ### Estimating posteriors ###\n",
    "    fit_raftery = sm_raft.sampling(data=raft_data, iter=10000, chains=4, n_jobs = 2,\n",
    "                                   control=dict(adapt_delta=0.95))\n",
    "    fit_uninf = sm_raft.sampling(data=uninf_data, iter=10000, chains=4, n_jobs = 2,\n",
    "                                 control=dict(adapt_delta=0.95))\n",
    "    fit_geom_id = sm_geom_id.sampling(data=geom_id_data, iter=10000, chains=4, n_jobs = 2,\n",
    "                                      control=dict(adapt_delta=0.99)) \n",
    "    fit_geom_corr = sm_geom_corr.sampling(data=geom_corr_data, iter=10000, chains=4, n_jobs = 2,\n",
    "                                          control=dict(adapt_delta=0.96))\n",
    "    \n",
    "    ### Saving estimates ### \n",
    "    info_experiments.loc[sample] = [N_array[sample], \n",
    "                                    p_array[sample],\n",
    "                                    k_array[sample], \n",
    "                                    fit_raftery.extract()[\"MME1\"].mean()/fit_raftery.extract()['MME2'].mean(),\n",
    "                                    fit_uninf.extract()[\"MME1\"].mean()/fit_uninf.extract()['MME2'].mean(),\n",
    "                                    fit_geom_id.extract()[\"MME1\"].mean()/fit_geom_id.extract()['MME2'].mean(),\n",
    "                                    fit_geom_corr.extract()[\"MME1\"].mean()/fit_geom_corr.extract()['MME2'].mean(),\n",
    "                                    x_mu**2/(x_mu - x_sigma2),\n",
    "                                    stable\n",
    "    ]"
   ]
  },
  {
   "cell_type": "code",
   "execution_count": null,
   "id": "6bb357cb-3b22-439d-999d-aa10ce2d2f4f",
   "metadata": {},
   "outputs": [],
   "source": []
  }
 ],
 "metadata": {
  "kernelspec": {
   "display_name": "Python 3.7.3 64-bit ('base')",
   "language": "python",
   "name": "python37364bitbase6782713bed674ed7a26121bd52530782"
  },
  "language_info": {
   "codemirror_mode": {
    "name": "ipython",
    "version": 3
   },
   "file_extension": ".py",
   "mimetype": "text/x-python",
   "name": "python",
   "nbconvert_exporter": "python",
   "pygments_lexer": "ipython3",
   "version": "3.7.1"
  }
 },
 "nbformat": 4,
 "nbformat_minor": 5
}
