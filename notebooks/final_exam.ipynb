{
 "cells": [
  {
   "cell_type": "markdown",
   "id": "02ee3452-bef4-42c6-a65e-e20f7c03b2fb",
   "metadata": {},
   "source": [
    "# Final assignment \n",
    "\n",
    "This notebook develops the practice part of the final assignment. The writing part can be found [here](https://github.com/lucasmoschen/phd-bayesian-statistics/blob/main/notes/final_assignment/A2.pdf).\n",
    "\n",
    "## Inferring population sizes - practice\n",
    "\n",
    "Consider the problem of inferring the population sizes of major herbivores. In the first case, one is interested in estimating the number of impala (*Aepyceros melampus*) herds in the Kruger National Park, in northeastern South Africa. In an initial survey collected the following numbers of herds: $\\boldsymbol{x}_{\\text{impala}} = \\{15, 20, 21, 23, 26\\}$. Another scientific question is the number of individual waterbuck (*Kobus ellipsiprymnus*) in the same park. The observed numbers of waterbuck in separate sightings were $\\boldsymbol{x}_{\\text{waterbuck}} = \\{53, 57, 66, 67, 72\\}$ and may be regarded (for simplicity) as independent and identically distributed.\n",
    "\n",
    "Impala           |  Waterbuck\n",
    ":-------------------------:|:-------------------------:\n",
    "![impala](../notes/final_assignment/figures/impala.jpeg)|![waterbuck](../notes/final_assignment/figures/waterbuck.jpeg)\n",
    "Two antelope species whose population sizes we want to estimate.\n",
    "\n",
    "For each data set, sketch the marginal posterior distributions $p_1(N \\mid \\boldsymbol{x})$, $p_2(N \\mid \\boldsymbol{x})$ and $p_3(N \\mid \\boldsymbol{x})$. Moreover, under each posterior,  provide (i) the Bayes estimator under quadratic loss and under the relative quadratic loss and (ii) a 95\\% credibility interval for $N$.\n",
    "\n",
    "Discuss the differences and similarities between these distributions and estimates: do the prior modelling choices substantially impact the final inferences? If so, how?"
   ]
  },
  {
   "cell_type": "code",
   "execution_count": 1,
   "id": "626583bb-f9b3-4725-b754-79d91fec0b97",
   "metadata": {},
   "outputs": [],
   "source": [
    "import numpy as np \n",
    "import pystan as ps\n",
    "import matplotlib.pyplot as plt\n",
    "import seaborn as sns\n",
    "sns.set()\n",
    "\n",
    "import pandas as pd\n",
    "pd.set_option(\"display.precision\", 2)\n",
    "\n",
    "\n",
    "import pymc3 as pm\n",
    "import arviz as az\n",
    "\n",
    "from scipy.special import beta, comb"
   ]
  },
  {
   "cell_type": "markdown",
   "id": "b694fd90-330c-4452-b00d-c0c33ed65c42",
   "metadata": {},
   "source": [
    "### Raftery approach\n",
    "\n",
    "We define the model for the Raftery approach. "
   ]
  },
  {
   "cell_type": "code",
   "execution_count": 2,
   "id": "8be67588-c102-4359-8867-b8d8962efa96",
   "metadata": {
    "tags": []
   },
   "outputs": [],
   "source": [
    "model_raftery = \"\"\"\n",
    "data{\n",
    "    int<lower = 0> n;\n",
    "    int x_obs[n];\n",
    "    \n",
    "    real<lower = 0> a;\n",
    "    real<lower = 0> b;\n",
    "    real<lower = 0> alpha;\n",
    "    real<lower = 0> beta;\n",
    "}\n",
    "transformed data{\n",
    "    real S = sum(x_obs);\n",
    "}\n",
    "parameters{ \n",
    "    real<lower = 0, upper = 1> theta;\n",
    "    real<lower = max(x_obs)> N; \n",
    "}\n",
    "transformed parameters{\n",
    "    real lPbar = 0.0;\n",
    "    for(j in 1:n) lPbar += lchoose(N, x_obs[j]);\n",
    "}\n",
    "model{\n",
    "    target += lPbar + lgamma(alpha + N) - lgamma(N+1);\n",
    "    target += (a+S-1-N)*log(theta) + (b+n*N -S - 1)*log(1-theta); \n",
    "    target += -(alpha+N)*log(beta + 1/theta);\n",
    "}\n",
    "generated quantities{\n",
    "    real MME1 = 1/N;\n",
    "    real MME2 = 1/N^2;\n",
    "}\n",
    "\"\"\""
   ]
  },
  {
   "cell_type": "code",
   "execution_count": null,
   "id": "6ad6a1b2-101b-4a0a-bf78-830bba19fb5d",
   "metadata": {
    "tags": []
   },
   "outputs": [
    {
     "name": "stderr",
     "output_type": "stream",
     "text": [
      "INFO:pystan:COMPILING THE C++ CODE FOR MODEL anon_model_696db612137e19e852243acc471e9eb6 NOW.\n"
     ]
    }
   ],
   "source": [
    "sm_raft = ps.StanModel(model_code = model_raftery)"
   ]
  },
  {
   "cell_type": "markdown",
   "id": "164db851-5fa5-4700-a17c-13cd5d25786a",
   "metadata": {},
   "source": [
    "### Raftery + uniformative\n",
    "\n",
    "The model is the same as previous, but with $\\alpha = \\beta = 0$ and $a = b = 1$. \n",
    "\n",
    "### Geometric independent approach\n",
    "\n",
    "We define the model for the Geometric and independent approach. "
   ]
  },
  {
   "cell_type": "code",
   "execution_count": null,
   "id": "3908ca16-1ed4-4aff-96aa-324be0793ef3",
   "metadata": {
    "tags": []
   },
   "outputs": [],
   "source": [
    "model_geom = \"\"\"\n",
    "functions {\n",
    "  real geometric_real_lpdf(real N, real p){\n",
    "      return N*log(1 - p) + log(p);\n",
    "  }\n",
    "  real binomial_real_lpmf(int[] x, real n, real p){\n",
    "      real lpbar = 0.0;\n",
    "      for(j in 1:size(x)) lpbar += lchoose(n, x[j]);\n",
    "      return lpbar + sum(x)*log(p) + (size(x)*n - sum(x))*log(1 - p);\n",
    "  }\n",
    "}\n",
    "data{\n",
    "    int<lower = 0> n;\n",
    "    int x_obs[n];\n",
    "    \n",
    "    real<lower = 0> alpha1;\n",
    "    real<lower = 0> beta1;\n",
    "    real<lower = 0> alpha2;\n",
    "    real<lower = 0> beta2;\n",
    "}\n",
    "parameters{ \n",
    "    real<lower = max(x_obs)> N;\n",
    "    real<lower = 0, upper = 1> theta;\n",
    "    real<lower = 0, upper = 1> nu;\n",
    "}\n",
    "model{\n",
    "    theta ~ beta(alpha2, beta2);\n",
    "    nu ~ beta(alpha1, beta1);\n",
    "    \n",
    "    N ~ geometric_real(nu);\n",
    "    \n",
    "    x_obs ~ binomial_real(N, theta);\n",
    "}\n",
    "generated quantities{\n",
    "    real MME1 = 1/N;\n",
    "    real MME2 = 1/N^2;\n",
    "}\n",
    "\"\"\""
   ]
  },
  {
   "cell_type": "code",
   "execution_count": null,
   "id": "9790fc73-7f70-4342-8bb0-5e6c35d7fd0f",
   "metadata": {},
   "outputs": [],
   "source": [
    "sm_geom_id = ps.StanModel(model_code=model_geom)"
   ]
  },
  {
   "cell_type": "markdown",
   "id": "adfb547e-af64-46ba-8c64-ef3546c3c701",
   "metadata": {},
   "source": [
    "### Geometric correlated approach \n",
    "\n",
    "We define the model for the Geometric and correlatedreallen approach. "
   ]
  },
  {
   "cell_type": "code",
   "execution_count": null,
   "id": "5bef5ef0-f1ea-4b7c-9e6e-7d0cc8f10bbd",
   "metadata": {
    "tags": []
   },
   "outputs": [],
   "source": [
    "model_geom_corr = \"\"\"\n",
    "functions {\n",
    "  real geometric_real_lpdf(real N, real p){\n",
    "      return N*log(1 - p) + log(p);\n",
    "  }\n",
    "  real binomial_real_lpmf(int[] x, real n, real p){\n",
    "      real lpbar = 0.0;\n",
    "      for(j in 1:size(x)) lpbar += lchoose(n, x[j]);\n",
    "      return lpbar + sum(x)*log(p) + (size(x)*n - sum(x))*log(1 - p);\n",
    "  }\n",
    "}\n",
    "data{\n",
    "    int<lower = 0> n;\n",
    "    int x_obs[n];\n",
    "    \n",
    "    vector[2] eta; \n",
    "    cov_matrix[2] Sigma;\n",
    "}\n",
    "parameters{ \n",
    "    real<lower = max(x_obs)> N;\n",
    "    vector[2] probs_logit;  \n",
    "}\n",
    "transformed parameters{\n",
    "    real theta = inv_logit(probs_logit[2]);\n",
    "    real nu = inv_logit(probs_logit[1]);\n",
    "}\n",
    "model{\n",
    "    probs_logit ~ multi_normal(eta, Sigma);\n",
    "    \n",
    "    N ~ geometric_real(nu);\n",
    "    \n",
    "    x_obs ~ binomial_real(N, theta);\n",
    "}\n",
    "generated quantities{\n",
    "    real MME1 = 1/N;\n",
    "    real MME2 = 1/N^2;\n",
    "}\n",
    "\"\"\""
   ]
  },
  {
   "cell_type": "code",
   "execution_count": null,
   "id": "872a025b-956b-4bfa-ac64-cf2d17258491",
   "metadata": {},
   "outputs": [],
   "source": [
    "sm_geom_corr = ps.StanModel(model_code=model_geom_corr)"
   ]
  },
  {
   "cell_type": "markdown",
   "id": "222f4df2-5fe9-4a88-b139-943649dc45dd",
   "metadata": {},
   "source": [
    "## Experimenting after defining the models \n",
    "\n",
    "Now we use the data to test the models \n",
    "\n",
    "### Data"
   ]
  },
  {
   "cell_type": "code",
   "execution_count": null,
   "id": "607c4837-b01d-48c3-a512-b5b1cb0e1681",
   "metadata": {},
   "outputs": [],
   "source": [
    "impala = np.array([15,20,21,23,26])\n",
    "waterbuck = np.array([53,57,66,67,72])"
   ]
  },
  {
   "cell_type": "markdown",
   "id": "c2af8035-acca-4ef5-9417-39772d0ada89",
   "metadata": {},
   "source": [
    "### Impala data\n",
    "\n",
    "First we use the impala data to deal with the problems. "
   ]
  },
  {
   "cell_type": "code",
   "execution_count": null,
   "id": "84fd23ce-7c42-45fd-bea1-0be26363429e",
   "metadata": {},
   "outputs": [],
   "source": [
    "raft_data = {\n",
    "    \"x_obs\": impala,\n",
    "    \"n\": impala.shape[0],\n",
    "    'a': 1, \n",
    "    'b': 1,\n",
    "    'alpha': 1.,\n",
    "    'beta': 1.,\n",
    "}\n",
    "\n",
    "fit_raftery = sm_raft.sampling(data=raft_data, iter=50000, chains=5,\n",
    "                               control=dict(adapt_delta=0.95))\n",
    "\n",
    "print(fit_raftery)"
   ]
  },
  {
   "cell_type": "markdown",
   "id": "6026e5df-67dc-4219-8846-6fdf03694679",
   "metadata": {},
   "source": [
    "### Marginal posterior of $N$"
   ]
  },
  {
   "cell_type": "code",
   "execution_count": null,
   "id": "58ab7b93-33fa-4951-892b-7f9beb4f2ea8",
   "metadata": {},
   "outputs": [],
   "source": [
    "plt.hist(fit_raftery.extract()[\"N\"], bins = range(26, 200), density = True)\n",
    "plt.show()"
   ]
  },
  {
   "cell_type": "markdown",
   "id": "7fd1305e-2bd0-47c9-a04b-d99e5a1d1be1",
   "metadata": {
    "tags": []
   },
   "source": [
    "### Prior predictive checking"
   ]
  },
  {
   "cell_type": "code",
   "execution_count": null,
   "id": "ec765786-cc84-42aa-a6ff-4aa5d533de71",
   "metadata": {
    "tags": []
   },
   "outputs": [],
   "source": [
    "theta = np.random.beta(raft_data[\"a\"], raft_data[\"b\"], 100000)\n",
    "lambd = np.random.gamma(raft_data[\"alpha\"], raft_data[\"beta\"], 100000)\n",
    "mu = lambd/theta\n",
    "N = np.random.poisson(mu)\n",
    "\n",
    "fig, ax = plt.subplots(1,2,figsize = (15,4))\n",
    "ax[0].hist(mu, bins = np.arange(0,20,0.5), density = True, histtype = 'step')\n",
    "ax[1].hist(N, bins = range(26, 400, 5), density = True, histtype = 'step')\n",
    "\n",
    "ax[1].set_title(\"Prior distribution N\")\n",
    "ax[0].set_title(r\"Prior distribution $\\mu$\")\n",
    "plt.show()"
   ]
  },
  {
   "cell_type": "code",
   "execution_count": null,
   "id": "93df57ef-ba4e-44f2-bcce-d1baba6759a7",
   "metadata": {},
   "outputs": [],
   "source": [
    "uninf_data = {\n",
    "    \"x_obs\": impala,\n",
    "    \"n\": impala.shape[0],\n",
    "    'a': 1, \n",
    "    'b': 1,\n",
    "    'alpha': 0,\n",
    "    'beta': 0,\n",
    "}\n",
    "\n",
    "fit_uninf = sm_raft.sampling(data=uninf_data, iter=50000, chains=5,\n",
    "                             control=dict(adapt_delta=0.95))\n",
    "\n",
    "print(fit_uninf)"
   ]
  },
  {
   "cell_type": "markdown",
   "id": "569bf9f9-c80c-427d-b228-01693f3c0ec3",
   "metadata": {},
   "source": [
    "### Marginal posterior of $N$"
   ]
  },
  {
   "cell_type": "code",
   "execution_count": null,
   "id": "29749661-d602-4f64-818e-63bc107c546c",
   "metadata": {},
   "outputs": [],
   "source": [
    "plt.hist(fit_uninf.extract()[\"N\"], bins = range(26, 500), density = True)\n",
    "plt.show()"
   ]
  },
  {
   "cell_type": "code",
   "execution_count": null,
   "id": "756516aa-5545-403c-a8b6-571cb7157765",
   "metadata": {},
   "outputs": [],
   "source": [
    "geom_id_data = {\n",
    "    \"x_obs\": impala,\n",
    "    \"n\": impala.shape[0],\n",
    "    'alpha1': 1, \n",
    "    'alpha2': 1,\n",
    "    'beta1': 1,\n",
    "    'beta2': 1,\n",
    "}\n",
    "\n",
    "fit_geom_id = sm_geom_id.sampling(data=geom_id_data, iter=50000, chains=5,\n",
    "                                control=dict(adapt_delta=0.99))\n",
    "\n",
    "print(fit_geom_id)"
   ]
  },
  {
   "cell_type": "markdown",
   "id": "7a2c9b47-169f-462d-a8a9-9f13cbfd0f02",
   "metadata": {
    "tags": []
   },
   "source": [
    "### Prior predictive checking"
   ]
  },
  {
   "cell_type": "code",
   "execution_count": null,
   "id": "510759b2-1c31-4ea5-92eb-47087789adca",
   "metadata": {
    "tags": []
   },
   "outputs": [],
   "source": [
    "nu = np.random.beta(geom_id_data[\"alpha1\"], geom_id_data[\"beta1\"], 100000)\n",
    "N = np.random.geometric(nu)\n",
    "\n",
    "fig, ax = plt.subplots(1,2,figsize = (15,4))\n",
    "ax[0].hist(nu, bins = 100, density = True, histtype = 'step')\n",
    "ax[1].hist(N, bins = range(26, 400, 5), density = True, histtype = 'step')\n",
    "\n",
    "ax[1].set_title(\"Prior distribution N\")\n",
    "ax[0].set_title(r\"Prior distribution $\\nu$\")\n",
    "plt.show()"
   ]
  },
  {
   "cell_type": "markdown",
   "id": "f54b4511-361a-4b67-827f-2856f5d22a2a",
   "metadata": {},
   "source": [
    "### Marginal posterior of $N$"
   ]
  },
  {
   "cell_type": "code",
   "execution_count": null,
   "id": "8ae6404a-2e20-4441-a78b-78671775c1af",
   "metadata": {},
   "outputs": [],
   "source": [
    "plt.hist(fit_geom_id.extract()[\"N\"], bins = range(26, 300), density = True)\n",
    "plt.show()"
   ]
  },
  {
   "cell_type": "code",
   "execution_count": null,
   "id": "1d888fb0-89e3-405a-9728-cbdcfb7811b2",
   "metadata": {},
   "outputs": [],
   "source": [
    "geom_corr_data = {\n",
    "    \"x_obs\": impala,\n",
    "    \"n\": impala.shape[0],\n",
    "    'eta': np.array([0,0]), \n",
    "    'Sigma': np.array([[2.5,-1],[-1,2.5]]),\n",
    "}\n",
    "\n",
    "fit_geom_corr = sm_geom_corr.sampling(data=geom_corr_data, iter=50000, chains=5,\n",
    "                                 control=dict(adapt_delta=0.96))\n",
    "\n",
    "print(fit_geom_corr)"
   ]
  },
  {
   "cell_type": "markdown",
   "id": "64dc8eb9-69ff-4463-a0a5-6c0a7dedadec",
   "metadata": {
    "tags": []
   },
   "source": [
    "### Prior predictive checking"
   ]
  },
  {
   "cell_type": "code",
   "execution_count": null,
   "id": "33c757c0-5bd6-4aec-82a2-36854c9369f5",
   "metadata": {
    "tags": []
   },
   "outputs": [],
   "source": [
    "logit_par = np.random.multivariate_normal(geom_corr_data['eta'], geom_corr_data['Sigma'], 10000)\n",
    "\n",
    "theta = 1/(1 + np.exp(logit_par[:,0]))\n",
    "nu = 1/(1 + np.exp(logit_par[:,1]))\n",
    "N = np.random.geometric(nu)\n",
    "\n",
    "fig, ax = plt.subplots(1,3,figsize = (15,4))\n",
    "ax[0].hist(theta, bins = 100, density = True, histtype = 'step')\n",
    "ax[1].hist(nu, bins = 100, density = True, histtype = 'step')\n",
    "ax[2].hist(N, bins = range(0,20), density = True, histtype = 'step')\n",
    "\n",
    "ax[2].set_title(\"Prior distribution N\")\n",
    "ax[0].set_title(r\"Prior distribution $\\theta$\")\n",
    "ax[1].set_title(r\"Prior distribution $\\nu$\")\n",
    "plt.show()"
   ]
  },
  {
   "cell_type": "markdown",
   "id": "2b9324a4-bc8b-4193-a41a-cf93283a4fe2",
   "metadata": {},
   "source": [
    "### Marginal posterior of $N$"
   ]
  },
  {
   "cell_type": "code",
   "execution_count": null,
   "id": "f8372160-284e-4e7f-9a68-cf0c427f280a",
   "metadata": {},
   "outputs": [],
   "source": [
    "plt.hist(fit_geom_corr.extract()[\"N\"], bins = range(26, 200), density = True)\n",
    "plt.show()"
   ]
  },
  {
   "cell_type": "markdown",
   "id": "118abcb9-095f-4e10-95fe-62a1fbbb06a7",
   "metadata": {},
   "source": [
    "Figure joining the posteriors of $N$"
   ]
  },
  {
   "cell_type": "code",
   "execution_count": null,
   "id": "3b606def-7097-4b92-9530-97bb107ae162",
   "metadata": {},
   "outputs": [],
   "source": [
    "fig, ax = plt.subplots(1,4, figsize = (20,4))\n",
    "\n",
    "sns.histplot(fit_raftery.extract()[\"N\"], bins = range(26, 300), ax = ax[0], stat = 'density')\n",
    "sns.histplot(fit_uninf.extract()[\"N\"], bins = range(26, 300),ax = ax[1], stat = 'density')\n",
    "sns.histplot(fit_geom_id.extract()[\"N\"], bins = range(26, 300), ax = ax[2], stat = 'density')\n",
    "sns.histplot(fit_geom_corr.extract()[\"N\"], bins = range(26, 300), ax = ax[3], stat = 'density')\n",
    "\n",
    "for i in range(4):\n",
    "    ax[i].set_title(r\"$p_{}(N|x)$\".format(i+1), fontsize = 14)\n",
    "    ax[i].set_ylabel(\" \")\n",
    "\n",
    "plt.savefig(\"../images/marginal-distributions.png\", bbox_inches = 'tight')    \n",
    "plt.show()"
   ]
  },
  {
   "cell_type": "markdown",
   "id": "e302c3e9-d206-44c5-9ed0-669a6b9fc218",
   "metadata": {},
   "source": [
    "### Summary statistics"
   ]
  },
  {
   "cell_type": "code",
   "execution_count": null,
   "id": "a2c013ee-7ee4-407c-aef3-15f8b319f285",
   "metadata": {},
   "outputs": [],
   "source": [
    "raft_N = fit_raftery.extract()[\"N\"]\n",
    "uninf_N = fit_uninf.extract()[\"N\"]\n",
    "geom_id_N = fit_geom_id.extract()[\"N\"]\n",
    "geom_corr_N = fit_geom_corr.extract()[\"N\"]\n",
    "\n",
    "se = {\n",
    "    'Mean': [raft_N.mean(), uninf_N.mean(), geom_id_N.mean(), geom_corr_N.mean()],\n",
    "    'Median': [np.median(raft_N), np.median(uninf_N), np.median(geom_id_N), np.median(geom_corr_N)],\n",
    "    'MRSE': [(1/raft_N).mean()/(1/raft_N**2).mean(), (1/uninf_N).mean()/(1/uninf_N**2).mean(),\n",
    "             (1/geom_id_N).mean()/(1/geom_id_N**2).mean(), (1/geom_corr_N).mean()/(1/geom_corr_N**2).mean()],\n",
    "    'HDI': [az.hdi(raft_N, hdi_prop = 0.95), az.hdi(uninf_N, hdi_prop = 0.95), \n",
    "            az.hdi(geom_id_N, hdi_prop = 0.95), az.hdi(geom_corr_N, hdi_prop = 0.95)]\n",
    "}\n",
    "\n",
    "summary_statistics = pd.DataFrame(se)\n",
    "summary_statistics"
   ]
  },
  {
   "cell_type": "markdown",
   "id": "cb095473-116b-457f-a009-81ec0ca81a75",
   "metadata": {},
   "source": [
    "### Waterbuck data"
   ]
  },
  {
   "cell_type": "code",
   "execution_count": null,
   "id": "6dac0e6e-f24e-46ad-a1e5-843870fa7413",
   "metadata": {},
   "outputs": [],
   "source": [
    "raft_data = {\n",
    "    \"x_obs\": waterbuck,\n",
    "    \"n\": waterbuck.shape[0],\n",
    "    'a': 1, \n",
    "    'b': 1,\n",
    "    'alpha': 1.,\n",
    "    'beta': 1.,\n",
    "}\n",
    "\n",
    "fit_raftery = sm_raft.sampling(data=raft_data, iter=50000, chains=5,\n",
    "                               control=dict(adapt_delta=0.95))\n",
    "\n",
    "print(fit_raftery)"
   ]
  },
  {
   "cell_type": "markdown",
   "id": "6c03b214-3ae9-4e33-9f98-b7307993d56b",
   "metadata": {},
   "source": [
    "### Marginal posterior of $N$"
   ]
  },
  {
   "cell_type": "code",
   "execution_count": null,
   "id": "f77b8c73-15d9-4da6-9935-15525283f931",
   "metadata": {},
   "outputs": [],
   "source": [
    "plt.hist(fit_raftery.extract()[\"N\"], bins = range(73, 200), density = True, edgecolor = \"none\")\n",
    "plt.show()"
   ]
  },
  {
   "cell_type": "code",
   "execution_count": null,
   "id": "2a5e2ba8-9336-4b8b-ad26-768442b1f9ac",
   "metadata": {},
   "outputs": [],
   "source": [
    "uninf_data = {\n",
    "    \"x_obs\": waterbuck,\n",
    "    \"n\": waterbuck.shape[0],\n",
    "    'a': 1, \n",
    "    'b': 1,\n",
    "    'alpha': 0,\n",
    "    'beta': 0,\n",
    "}\n",
    "\n",
    "fit_uninf = sm_raft.sampling(data=uninf_data, iter=50000, chains=5,\n",
    "                             control=dict(adapt_delta=0.95))\n",
    "\n",
    "print(fit_uninf)"
   ]
  },
  {
   "cell_type": "markdown",
   "id": "91a45a02-4d31-4874-9d2f-98127d800b91",
   "metadata": {},
   "source": [
    "### Marginal posterior of $N$"
   ]
  },
  {
   "cell_type": "code",
   "execution_count": null,
   "id": "2928aef3-6460-4b8c-bc33-bbad3983c198",
   "metadata": {},
   "outputs": [],
   "source": [
    "plt.hist(fit_uninf.extract()[\"N\"], bins = range(76, 1000,5), density = True, edgecolor = \"none\")\n",
    "plt.show()"
   ]
  },
  {
   "cell_type": "code",
   "execution_count": null,
   "id": "72376751-9458-42e1-915f-333efff7f5de",
   "metadata": {},
   "outputs": [],
   "source": [
    "geom_id_data = {\n",
    "    \"x_obs\": waterbuck,\n",
    "    \"n\": waterbuck.shape[0],\n",
    "    'alpha1': 1, \n",
    "    'alpha2': 1,\n",
    "    'beta1': 1,\n",
    "    'beta2': 1,\n",
    "}\n",
    "\n",
    "fit_geom_id = sm_geom_id.sampling(data=geom_id_data, iter=50000, chains=5,\n",
    "                                control=dict(adapt_delta=0.99))\n",
    "\n",
    "print(fit_geom_id)"
   ]
  },
  {
   "cell_type": "markdown",
   "id": "c12075de-6105-409b-a9c3-eeb1dbcd65da",
   "metadata": {},
   "source": [
    "### Marginal posterior of $N$"
   ]
  },
  {
   "cell_type": "code",
   "execution_count": null,
   "id": "bf918b44-fd4d-4b9c-bccd-66cf71b19cf7",
   "metadata": {},
   "outputs": [],
   "source": [
    "plt.hist(fit_geom_id.extract()[\"N\"], bins = range(70, 500), density = True, edgecolor = \"none\")\n",
    "plt.show()"
   ]
  },
  {
   "cell_type": "code",
   "execution_count": null,
   "id": "8b7cbfa8-daca-4853-9a54-0dcebc65fb5f",
   "metadata": {},
   "outputs": [],
   "source": [
    "geom_corr_data = {\n",
    "    \"x_obs\": waterbuck,\n",
    "    \"n\": waterbuck.shape[0],\n",
    "    'eta': np.array([0,0]), \n",
    "    'Sigma': np.array([[2.5,-1],[-1,2.5]]),\n",
    "}\n",
    "\n",
    "fit_geom_corr = sm_geom_corr.sampling(data=geom_corr_data, iter=50000, chains=5,\n",
    "                                 control=dict(adapt_delta=0.96))\n",
    "\n",
    "print(fit_geom_corr)"
   ]
  },
  {
   "cell_type": "markdown",
   "id": "495ebfb8-84ef-488a-9dc2-22ed689fd2a5",
   "metadata": {},
   "source": [
    "### Marginal posterior of $N$"
   ]
  },
  {
   "cell_type": "code",
   "execution_count": null,
   "id": "24879d62-a401-4d9d-9646-74c8b0128c4b",
   "metadata": {},
   "outputs": [],
   "source": [
    "plt.hist(fit_geom_corr.extract()[\"N\"], bins = range(75, 300), density = True, edgecolor = \"none\")\n",
    "plt.show()"
   ]
  },
  {
   "cell_type": "markdown",
   "id": "466f83a2-387c-411c-8ef1-8dfc39f06c00",
   "metadata": {},
   "source": [
    "Figure joining the posteriors of $N$"
   ]
  },
  {
   "cell_type": "code",
   "execution_count": null,
   "id": "8a6286b1-fa56-4ba3-b196-3d7df5168fca",
   "metadata": {},
   "outputs": [],
   "source": [
    "fig, ax = plt.subplots(1,4, figsize = (20,4))\n",
    "\n",
    "sns.histplot(fit_raftery.extract()[\"N\"], bins = range(70, 500), ax = ax[0], stat = 'density')\n",
    "sns.histplot(fit_uninf.extract()[\"N\"], bins = range(70, 1000),ax = ax[1], stat = 'density')\n",
    "sns.histplot(fit_geom_id.extract()[\"N\"], bins = range(70, 500), ax = ax[2], stat = 'density')\n",
    "sns.histplot(fit_geom_corr.extract()[\"N\"], bins = range(70, 500), ax = ax[3], stat = 'density')\n",
    "\n",
    "for i in range(4):\n",
    "    ax[i].set_title(r\"$p_{}(N|x)$\".format(i+1), fontsize = 14)\n",
    "    ax[i].set_ylabel(\" \")\n",
    "\n",
    "plt.savefig(\"../images/marginal-distributions-waterbuck.png\", bbox_inches = 'tight')    \n",
    "plt.show()"
   ]
  },
  {
   "cell_type": "markdown",
   "id": "59650c64-ed9d-4a08-9be4-2b77f5e89985",
   "metadata": {},
   "source": [
    "### Summary statistics"
   ]
  },
  {
   "cell_type": "code",
   "execution_count": null,
   "id": "f8c9d742-eb47-40f4-bd2a-e00e298f4694",
   "metadata": {},
   "outputs": [],
   "source": [
    "raft_N = fit_raftery.extract()[\"N\"]\n",
    "uninf_N = fit_uninf.extract()[\"N\"]\n",
    "geom_id_N = fit_geom_id.extract()[\"N\"]\n",
    "geom_corr_N = fit_geom_corr.extract()[\"N\"]\n",
    "\n",
    "se = {\n",
    "    'Mean': [raft_N.mean(), uninf_N.mean(), geom_id_N.mean(), geom_corr_N.mean()],\n",
    "    'Median': [np.median(raft_N), np.median(uninf_N), np.median(geom_id_N), np.median(geom_corr_N)],\n",
    "    'MRSE': [(1/raft_N).mean()/(1/raft_N**2).mean(), (1/uninf_N).mean()/(1/uninf_N**2).mean(),\n",
    "             (1/geom_id_N).mean()/(1/geom_id_N**2).mean(), (1/geom_corr_N).mean()/(1/geom_corr_N**2).mean()],\n",
    "    'HDI': [az.hdi(raft_N, hdi_prop = 0.95), az.hdi(uninf_N, hdi_prop = 0.95), \n",
    "            az.hdi(geom_id_N, hdi_prop = 0.95), az.hdi(geom_corr_N, hdi_prop = 0.95)]\n",
    "}\n",
    "\n",
    "summary_statistics = pd.DataFrame(se)\n",
    "summary_statistics.HDI = summary_statistics.HDI.apply(lambda x: [round(x[0],2), round(x[1],2)])\n",
    "print(summary_statistics.to_latex())"
   ]
  },
  {
   "cell_type": "code",
   "execution_count": 202,
   "id": "2d531f12-e10d-42f2-92eb-fb87f54075d6",
   "metadata": {},
   "outputs": [
    {
     "data": {
      "text/plain": [
       "[<matplotlib.lines.Line2D at 0x7f8d6d3f0080>]"
      ]
     },
     "execution_count": 202,
     "metadata": {},
     "output_type": "execute_result"
    },
    {
     "data": {
      "image/png": "[encoded data removed]",
      "text/plain": [
       "<Figure size 432x288 with 1 Axes>"
      ]
     },
     "metadata": {
      "needs_background": "light"
     },
     "output_type": "display_data"
    }
   ],
   "source": [
    "S = sum(impala)\n",
    "n = len(impala)\n",
    "xmax = max(impala)\n",
    "\n",
    "def p1_geom_unnorm(N, x_obs): \n",
    "    \n",
    "    result = np.prod([comb(N,i) for i in x_obs])\n",
    "    result *= beta(geom_id_data[\"alpha1\"] + 1, N + geom_id_data[\"beta1\"])\n",
    "    result *= beta(S+geom_id_data[\"alpha2\"], n*N - S + geom_id_data[\"beta2\"])\n",
    "    return result\n",
    "\n",
    "constant = 0 \n",
    "N = 26\n",
    "eps = 1\n",
    "while eps > 1e-16: #np.finfo(np.float64).eps: \n",
    "    eps = p1_geom_unnorm(N, impala)\n",
    "    constant += eps\n",
    "    N += 1\n",
    "    \n",
    "def p1_geom(N, x_obs): \n",
    "    \n",
    "    return p1_geom_unnorm(N, x_obs)/constant\n",
    "\n",
    "N_values = list(range(26,200))\n",
    "plt.plot(N_values, [p1_geom(N,impala) for N in N_values])"
   ]
  },
  {
   "cell_type": "code",
   "execution_count": 209,
   "id": "3c80bf89-f17c-4ad7-9022-de77aef7b98e",
   "metadata": {},
   "outputs": [
    {
     "data": {
      "text/plain": [
       "[<matplotlib.lines.Line2D at 0x7f8d6944b8d0>]"
      ]
     },
     "execution_count": 209,
     "metadata": {},
     "output_type": "execute_result"
    },
    {
     "data": {
      "image/png": "[encoded data removed]",
      "text/plain": [
       "<Figure size 432x288 with 1 Axes>"
      ]
     },
     "metadata": {
      "needs_background": "light"
     },
     "output_type": "display_data"
    }
   ],
   "source": [
    "fig, ax = plt.subplots()\n",
    "ax.hist(fit_geomid.extract()[\"N\"], bins= 100, density = True)\n",
    "ax.plot(N_values, [p1_geom(N,impala) for N in N_values])"
   ]
  }
 ],
 "metadata": {
  "kernelspec": {
   "display_name": "Python 3.7.3 64-bit ('base')",
   "language": "python",
   "name": "python37364bitbase6782713bed674ed7a26121bd52530782"
  },
  "language_info": {
   "codemirror_mode": {
    "name": "ipython",
    "version": 3
   },
   "file_extension": ".py",
   "mimetype": "text/x-python",
   "name": "python",
   "nbconvert_exporter": "python",
   "pygments_lexer": "ipython3",
   "version": "3.7.1"
  }
 },
 "nbformat": 4,
 "nbformat_minor": 5
}
