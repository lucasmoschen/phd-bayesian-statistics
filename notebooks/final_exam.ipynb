{
 "cells": [
  {
   "cell_type": "markdown",
   "id": "02ee3452-bef4-42c6-a65e-e20f7c03b2fb",
   "metadata": {},
   "source": [
    "# Final assignment \n",
    "\n",
    "This notebook develops the practice part of the final assignment. The writing part can be found [here](https://github.com/lucasmoschen/phd-bayesian-statistics/blob/main/notes/final_assignment/A2.pdf).\n",
    "\n",
    "## Inferring population sizes - practice\n",
    "\n",
    "Consider the problem of inferring the population sizes of major herbivores. In the first case, one is interested in estimating the number of impala (*Aepyceros melampus*) herds in the Kruger National Park, in northeastern South Africa. In an initial survey collected the following numbers of herds: $\\boldsymbol{x}_{\\text{impala}} = \\{15, 20, 21, 23, 26\\}$. Another scientific question is the number of individual waterbuck (*Kobus ellipsiprymnus*) in the same park. The observed numbers of waterbuck in separate sightings were $\\boldsymbol{x}_{\\text{waterbuck}} = \\{53, 57, 66, 67, 72\\}$ and may be regarded (for simplicity) as independent and identically distributed.\n",
    "\n",
    "Impala           |  Waterbuck\n",
    ":-------------------------:|:-------------------------:\n",
    "![impala](../notes/final_assignment/figures/impala.jpeg)|![waterbuck](../notes/final_assignment/figures/waterbuck.jpeg)\n",
    "Two antelope species whose population sizes we want to estimate.\n",
    "\n",
    "For each data set, sketch the marginal posterior distributions $p_1(N \\mid \\boldsymbol{x})$, $p_2(N \\mid \\boldsymbol{x})$ and $p_3(N \\mid \\boldsymbol{x})$. Moreover, under each posterior,  provide (i) the Bayes estimator under quadratic loss and under the relative quadratic loss and (ii) a 95\\% credibility interval for $N$.\n",
    "\n",
    "Discuss the differences and similarities between these distributions and estimates: do the prior modelling choices substantially impact the final inferences? If so, how?"
   ]
  },
  {
   "cell_type": "code",
   "execution_count": 86,
   "id": "626583bb-f9b3-4725-b754-79d91fec0b97",
   "metadata": {},
   "outputs": [],
   "source": [
    "import numpy as np \n",
    "import pystan as ps\n",
    "import matplotlib.pyplot as plt\n",
    "import seaborn as sns\n",
    "sns.set()\n",
    "\n",
    "import pandas as pd\n",
    "pd.set_option(\"display.precision\", 2)\n",
    "\n",
    "\n",
    "import pymc3 as pm\n",
    "import arviz as az\n",
    "\n",
    "from scipy.special import beta, comb, gamma"
   ]
  },
  {
   "cell_type": "markdown",
   "id": "b694fd90-330c-4452-b00d-c0c33ed65c42",
   "metadata": {},
   "source": [
    "### Raftery approach\n",
    "\n",
    "We define the model for the Raftery approach. "
   ]
  },
  {
   "cell_type": "code",
   "execution_count": 2,
   "id": "8be67588-c102-4359-8867-b8d8962efa96",
   "metadata": {
    "jupyter": {
     "source_hidden": true
    },
    "tags": []
   },
   "outputs": [],
   "source": [
    "model_raftery = \"\"\"\n",
    "data{\n",
    "    int<lower = 0> n;\n",
    "    int x_obs[n];\n",
    "    \n",
    "    real<lower = 0> a;\n",
    "    real<lower = 0> b;\n",
    "    real<lower = 0> alpha;\n",
    "    real<lower = 0> beta;\n",
    "}\n",
    "transformed data{\n",
    "    real S = sum(x_obs);\n",
    "}\n",
    "parameters{ \n",
    "    real<lower = 0, upper = 1> theta;\n",
    "    real<lower = max(x_obs)> N; \n",
    "}\n",
    "transformed parameters{\n",
    "    real lPbar = 0.0;\n",
    "    for(j in 1:n) lPbar += lchoose(N, x_obs[j]);\n",
    "}\n",
    "model{\n",
    "    target += lPbar + lgamma(alpha + N) - lgamma(N+1);\n",
    "    target += (a+S-1-N)*log(theta) + (b+n*N -S - 1)*log(1-theta); \n",
    "    target += -(alpha+N)*log(beta + 1/theta);\n",
    "}\n",
    "generated quantities{\n",
    "    real MME1 = 1/N;\n",
    "    real MME2 = 1/N^2;\n",
    "}\n",
    "\"\"\""
   ]
  },
  {
   "cell_type": "code",
   "execution_count": 3,
   "id": "6ad6a1b2-101b-4a0a-bf78-830bba19fb5d",
   "metadata": {
    "tags": []
   },
   "outputs": [
    {
     "name": "stderr",
     "output_type": "stream",
     "text": [
      "INFO:pystan:COMPILING THE C++ CODE FOR MODEL anon_model_696db612137e19e852243acc471e9eb6 NOW.\n"
     ]
    }
   ],
   "source": [
    "sm_raft = ps.StanModel(model_code = model_raftery)"
   ]
  },
  {
   "cell_type": "markdown",
   "id": "164db851-5fa5-4700-a17c-13cd5d25786a",
   "metadata": {},
   "source": [
    "### Raftery + uniformative\n",
    "\n",
    "The model is the same as previous, but with $\\alpha = \\beta = 0$ and $a = b = 1$. \n",
    "\n",
    "### Geometric independent approach\n",
    "\n",
    "We define the model for the Geometric and independent approach. "
   ]
  },
  {
   "cell_type": "code",
   "execution_count": 4,
   "id": "3908ca16-1ed4-4aff-96aa-324be0793ef3",
   "metadata": {
    "jupyter": {
     "source_hidden": true
    },
    "tags": []
   },
   "outputs": [],
   "source": [
    "model_geom = \"\"\"\n",
    "functions {\n",
    "  real geometric_real_lpdf(real N, real p){\n",
    "      return N*log(1 - p) + log(p);\n",
    "  }\n",
    "  real binomial_real_lpmf(int[] x, real n, real p){\n",
    "      real lpbar = 0.0;\n",
    "      for(j in 1:size(x)) lpbar += lchoose(n, x[j]);\n",
    "      return lpbar + sum(x)*log(p) + (size(x)*n - sum(x))*log(1 - p);\n",
    "  }\n",
    "}\n",
    "data{\n",
    "    int<lower = 0> n;\n",
    "    int x_obs[n];\n",
    "    \n",
    "    real<lower = 0> alpha1;\n",
    "    real<lower = 0> beta1;\n",
    "    real<lower = 0> alpha2;\n",
    "    real<lower = 0> beta2;\n",
    "}\n",
    "parameters{ \n",
    "    real<lower = max(x_obs)> N;\n",
    "    real<lower = 0, upper = 1> theta;\n",
    "    real<lower = 0, upper = 1> nu;\n",
    "}\n",
    "model{\n",
    "    theta ~ beta(alpha2, beta2);\n",
    "    nu ~ beta(alpha1, beta1);\n",
    "    \n",
    "    N ~ geometric_real(nu);\n",
    "    \n",
    "    x_obs ~ binomial_real(N, theta);\n",
    "}\n",
    "generated quantities{\n",
    "    real MME1 = 1/N;\n",
    "    real MME2 = 1/N^2;\n",
    "}\n",
    "\"\"\""
   ]
  },
  {
   "cell_type": "code",
   "execution_count": 5,
   "id": "9790fc73-7f70-4342-8bb0-5e6c35d7fd0f",
   "metadata": {},
   "outputs": [
    {
     "name": "stderr",
     "output_type": "stream",
     "text": [
      "INFO:pystan:COMPILING THE C++ CODE FOR MODEL anon_model_3ba9cd05caf67271b6bbe300ba1e1d2a NOW.\n"
     ]
    }
   ],
   "source": [
    "sm_geom_id = ps.StanModel(model_code=model_geom)"
   ]
  },
  {
   "cell_type": "markdown",
   "id": "adfb547e-af64-46ba-8c64-ef3546c3c701",
   "metadata": {},
   "source": [
    "### Geometric correlated approach \n",
    "\n",
    "We define the model for the Geometric and correlatedreallen approach. "
   ]
  },
  {
   "cell_type": "code",
   "execution_count": 6,
   "id": "5bef5ef0-f1ea-4b7c-9e6e-7d0cc8f10bbd",
   "metadata": {
    "jupyter": {
     "source_hidden": true
    },
    "tags": []
   },
   "outputs": [],
   "source": [
    "model_geom_corr = \"\"\"\n",
    "functions {\n",
    "  real geometric_real_lpdf(real N, real p){\n",
    "      return N*log(1 - p) + log(p);\n",
    "  }\n",
    "  real binomial_real_lpmf(int[] x, real n, real p){\n",
    "      real lpbar = 0.0;\n",
    "      for(j in 1:size(x)) lpbar += lchoose(n, x[j]);\n",
    "      return lpbar + sum(x)*log(p) + (size(x)*n - sum(x))*log(1 - p);\n",
    "  }\n",
    "}\n",
    "data{\n",
    "    int<lower = 0> n;\n",
    "    int x_obs[n];\n",
    "    \n",
    "    vector[2] eta; \n",
    "    cov_matrix[2] Sigma;\n",
    "}\n",
    "parameters{ \n",
    "    real<lower = max(x_obs)> N;\n",
    "    vector[2] probs_logit;  \n",
    "}\n",
    "transformed parameters{\n",
    "    real theta = inv_logit(probs_logit[2]);\n",
    "    real nu = inv_logit(probs_logit[1]);\n",
    "}\n",
    "model{\n",
    "    probs_logit ~ multi_normal(eta, Sigma);\n",
    "    \n",
    "    N ~ geometric_real(nu);\n",
    "    \n",
    "    x_obs ~ binomial_real(N, theta);\n",
    "}\n",
    "generated quantities{\n",
    "    real MME1 = 1/N;\n",
    "    real MME2 = 1/N^2;\n",
    "}\n",
    "\"\"\""
   ]
  },
  {
   "cell_type": "code",
   "execution_count": 7,
   "id": "872a025b-956b-4bfa-ac64-cf2d17258491",
   "metadata": {},
   "outputs": [
    {
     "name": "stderr",
     "output_type": "stream",
     "text": [
      "INFO:pystan:COMPILING THE C++ CODE FOR MODEL anon_model_7c69c4fd31a6b1b0084467fc24a39099 NOW.\n"
     ]
    }
   ],
   "source": [
    "sm_geom_corr = ps.StanModel(model_code=model_geom_corr)"
   ]
  },
  {
   "cell_type": "markdown",
   "id": "222f4df2-5fe9-4a88-b139-943649dc45dd",
   "metadata": {},
   "source": [
    "## Experimenting after defining the models \n",
    "\n",
    "Now we use the data to test the models \n",
    "\n",
    "### Data"
   ]
  },
  {
   "cell_type": "code",
   "execution_count": 8,
   "id": "607c4837-b01d-48c3-a512-b5b1cb0e1681",
   "metadata": {},
   "outputs": [],
   "source": [
    "impala = np.array([15,20,21,23,26])\n",
    "waterbuck = np.array([53,57,66,67,72])"
   ]
  },
  {
   "cell_type": "markdown",
   "id": "c2af8035-acca-4ef5-9417-39772d0ada89",
   "metadata": {},
   "source": [
    "### Impala data\n",
    "\n",
    "First we use the impala data to deal with the problems. "
   ]
  },
  {
   "cell_type": "code",
   "execution_count": 9,
   "id": "84fd23ce-7c42-45fd-bea1-0be26363429e",
   "metadata": {},
   "outputs": [
    {
     "name": "stdout",
     "output_type": "stream",
     "text": [
      "Inference for Stan model: anon_model_696db612137e19e852243acc471e9eb6.\n",
      "5 chains, each with iter=50000; warmup=25000; thin=1; \n",
      "post-warmup draws per chain=25000, total post-warmup draws=125000.\n",
      "\n",
      "        mean se_mean     sd   2.5%    25%    50%    75%  97.5%  n_eff   Rhat\n",
      "theta   0.46  1.3e-3   0.18   0.08   0.34   0.48    0.6   0.75  19086    1.0\n",
      "N      177.7  100.34 9939.4  27.58  33.37  40.48  55.54 235.92   9812    1.0\n",
      "lPbar 144.37    0.61  74.69  60.61  96.12 126.53 170.58 340.45  15046    1.0\n",
      "MME1    0.02  6.2e-5 8.4e-3 4.2e-3   0.02   0.02   0.03   0.04  18701    1.0\n",
      "MME2  6.2e-4  2.5e-6 3.6e-4 1.8e-5 3.2e-4 6.1e-4 9.0e-4 1.3e-3  20444    1.0\n",
      "lp__  -31.08  8.3e-3   1.16 -34.16 -31.53 -30.72 -30.25 -29.95  19663    1.0\n",
      "\n",
      "Samples were drawn using NUTS at Mon Jun  7 23:25:52 2021.\n",
      "For each parameter, n_eff is a crude measure of effective sample size,\n",
      "and Rhat is the potential scale reduction factor on split chains (at \n",
      "convergence, Rhat=1).\n"
     ]
    }
   ],
   "source": [
    "raft_data = {\n",
    "    \"x_obs\": impala,\n",
    "    \"n\": impala.shape[0],\n",
    "    'a': 1, \n",
    "    'b': 1,\n",
    "    'alpha': 1.,\n",
    "    'beta': 1.,\n",
    "}\n",
    "\n",
    "fit_raftery = sm_raft.sampling(data=raft_data, iter=50000, chains=5,\n",
    "                               control=dict(adapt_delta=0.95))\n",
    "\n",
    "print(fit_raftery)"
   ]
  },
  {
   "cell_type": "markdown",
   "id": "6026e5df-67dc-4219-8846-6fdf03694679",
   "metadata": {},
   "source": [
    "### Marginal posterior of $N$"
   ]
  },
  {
   "cell_type": "code",
   "execution_count": 10,
   "id": "58ab7b93-33fa-4951-892b-7f9beb4f2ea8",
   "metadata": {},
   "outputs": [
    {
     "data": {
      "image/png": "[encoded data removed]",
      "text/plain": [
       "<Figure size 432x288 with 1 Axes>"
      ]
     },
     "metadata": {
      "needs_background": "light"
     },
     "output_type": "display_data"
    }
   ],
   "source": [
    "plt.hist(fit_raftery.extract()[\"N\"], bins = range(26, 200), density = True)\n",
    "plt.show()"
   ]
  },
  {
   "cell_type": "markdown",
   "id": "7fd1305e-2bd0-47c9-a04b-d99e5a1d1be1",
   "metadata": {
    "tags": []
   },
   "source": [
    "### Prior predictive checking"
   ]
  },
  {
   "cell_type": "code",
   "execution_count": 11,
   "id": "ec765786-cc84-42aa-a6ff-4aa5d533de71",
   "metadata": {
    "tags": []
   },
   "outputs": [
    {
     "data": {
      "image/png": "[encoded data removed]",
      "text/plain": [
       "<Figure size 1080x288 with 2 Axes>"
      ]
     },
     "metadata": {
      "needs_background": "light"
     },
     "output_type": "display_data"
    }
   ],
   "source": [
    "theta = np.random.beta(raft_data[\"a\"], raft_data[\"b\"], 100000)\n",
    "lambd = np.random.gamma(raft_data[\"alpha\"], raft_data[\"beta\"], 100000)\n",
    "mu = lambd/theta\n",
    "N = np.random.poisson(mu)\n",
    "\n",
    "fig, ax = plt.subplots(1,2,figsize = (15,4))\n",
    "ax[0].hist(mu, bins = np.arange(0,20,0.5), density = True, histtype = 'step')\n",
    "ax[1].hist(N, bins = range(26, 400, 5), density = True, histtype = 'step')\n",
    "\n",
    "ax[1].set_title(\"Prior distribution N\")\n",
    "ax[0].set_title(r\"Prior distribution $\\mu$\")\n",
    "plt.show()"
   ]
  },
  {
   "cell_type": "code",
   "execution_count": 12,
   "id": "93df57ef-ba4e-44f2-bcce-d1baba6759a7",
   "metadata": {},
   "outputs": [
    {
     "name": "stdout",
     "output_type": "stream",
     "text": [
      "Inference for Stan model: anon_model_696db612137e19e852243acc471e9eb6.\n",
      "5 chains, each with iter=50000; warmup=25000; thin=1; \n",
      "post-warmup draws per chain=25000, total post-warmup draws=125000.\n",
      "\n",
      "        mean se_mean     sd   2.5%    25%    50%    75%  97.5%  n_eff   Rhat\n",
      "theta   0.33  1.5e-3    0.2   0.02   0.16   0.31   0.48   0.71  17174    1.0\n",
      "N     356.16   39.49 5645.3  29.72  43.93  67.03 133.06 1357.3  20436    1.0\n",
      "lPbar  222.6    0.99 118.64  75.54 138.46 194.78 276.43 528.11  14272    1.0\n",
      "MME1    0.02  7.2e-5 9.4e-3 7.4e-4 7.5e-3   0.01   0.02   0.03  17087    1.0\n",
      "MME2  3.3e-4  2.4e-6 3.3e-4 5.4e-7 5.6e-5 2.2e-4 5.2e-4 1.1e-3  17699    1.0\n",
      "lp__  -16.73  8.0e-3   1.14 -19.79 -17.18 -16.38 -15.92 -15.63  19992    1.0\n",
      "\n",
      "Samples were drawn using NUTS at Mon Jun  7 23:26:07 2021.\n",
      "For each parameter, n_eff is a crude measure of effective sample size,\n",
      "and Rhat is the potential scale reduction factor on split chains (at \n",
      "convergence, Rhat=1).\n"
     ]
    }
   ],
   "source": [
    "uninf_data = {\n",
    "    \"x_obs\": impala,\n",
    "    \"n\": impala.shape[0],\n",
    "    'a': 1, \n",
    "    'b': 1,\n",
    "    'alpha': 0,\n",
    "    'beta': 0,\n",
    "}\n",
    "\n",
    "fit_uninf = sm_raft.sampling(data=uninf_data, iter=50000, chains=5,\n",
    "                             control=dict(adapt_delta=0.95))\n",
    "\n",
    "print(fit_uninf)"
   ]
  },
  {
   "cell_type": "markdown",
   "id": "569bf9f9-c80c-427d-b228-01693f3c0ec3",
   "metadata": {},
   "source": [
    "### Marginal posterior of $N$"
   ]
  },
  {
   "cell_type": "code",
   "execution_count": 13,
   "id": "29749661-d602-4f64-818e-63bc107c546c",
   "metadata": {},
   "outputs": [
    {
     "data": {
      "image/png": "[encoded data removed]",
      "text/plain": [
       "<Figure size 432x288 with 1 Axes>"
      ]
     },
     "metadata": {
      "needs_background": "light"
     },
     "output_type": "display_data"
    }
   ],
   "source": [
    "plt.hist(fit_uninf.extract()[\"N\"], bins = range(26, 500), density = True)\n",
    "plt.show()"
   ]
  },
  {
   "cell_type": "code",
   "execution_count": 14,
   "id": "756516aa-5545-403c-a8b6-571cb7157765",
   "metadata": {},
   "outputs": [
    {
     "name": "stdout",
     "output_type": "stream",
     "text": [
      "Inference for Stan model: anon_model_3ba9cd05caf67271b6bbe300ba1e1d2a.\n",
      "5 chains, each with iter=50000; warmup=25000; thin=1; \n",
      "post-warmup draws per chain=25000, total post-warmup draws=125000.\n",
      "\n",
      "        mean se_mean     sd   2.5%    25%    50%    75%  97.5%  n_eff   Rhat\n",
      "N      64.84     0.5  77.89  28.44  36.63  46.86  67.33  205.8  24499    1.0\n",
      "theta   0.44  1.1e-3   0.17    0.1   0.31   0.45   0.57   0.75  26183    1.0\n",
      "nu      0.04  1.7e-4   0.03 3.1e-3   0.02   0.03   0.05   0.12  35773    1.0\n",
      "MME1    0.02  5.1e-5 8.2e-3 4.9e-3   0.01   0.02   0.03   0.04  25865    1.0\n",
      "MME2  5.1e-4  2.1e-6 3.4e-4 2.4e-5 2.2e-4 4.6e-4 7.5e-4 1.2e-3  26885    1.0\n",
      "lp__  -21.95  8.0e-3   1.34 -25.43 -22.55  -21.6 -20.97 -20.43  27817    1.0\n",
      "\n",
      "Samples were drawn using NUTS at Mon Jun  7 23:26:32 2021.\n",
      "For each parameter, n_eff is a crude measure of effective sample size,\n",
      "and Rhat is the potential scale reduction factor on split chains (at \n",
      "convergence, Rhat=1).\n"
     ]
    }
   ],
   "source": [
    "geom_id_data = {\n",
    "    \"x_obs\": impala,\n",
    "    \"n\": impala.shape[0],\n",
    "    'alpha1': 1, \n",
    "    'alpha2': 1,\n",
    "    'beta1': 1,\n",
    "    'beta2': 1,\n",
    "}\n",
    "\n",
    "fit_geom_id = sm_geom_id.sampling(data=geom_id_data, iter=50000, chains=5,\n",
    "                                control=dict(adapt_delta=0.99))\n",
    "\n",
    "print(fit_geom_id)"
   ]
  },
  {
   "cell_type": "markdown",
   "id": "7a2c9b47-169f-462d-a8a9-9f13cbfd0f02",
   "metadata": {
    "tags": []
   },
   "source": [
    "### Prior predictive checking"
   ]
  },
  {
   "cell_type": "code",
   "execution_count": 15,
   "id": "510759b2-1c31-4ea5-92eb-47087789adca",
   "metadata": {
    "tags": []
   },
   "outputs": [
    {
     "data": {
      "image/png": "[encoded data removed]",
      "text/plain": [
       "<Figure size 1080x288 with 2 Axes>"
      ]
     },
     "metadata": {
      "needs_background": "light"
     },
     "output_type": "display_data"
    }
   ],
   "source": [
    "nu = np.random.beta(geom_id_data[\"alpha1\"], geom_id_data[\"beta1\"], 100000)\n",
    "N = np.random.geometric(nu)\n",
    "\n",
    "fig, ax = plt.subplots(1,2,figsize = (15,4))\n",
    "ax[0].hist(nu, bins = 100, density = True, histtype = 'step')\n",
    "ax[1].hist(N, bins = range(26, 400, 5), density = True, histtype = 'step')\n",
    "\n",
    "ax[1].set_title(\"Prior distribution N\")\n",
    "ax[0].set_title(r\"Prior distribution $\\nu$\")\n",
    "plt.show()"
   ]
  },
  {
   "cell_type": "markdown",
   "id": "f54b4511-361a-4b67-827f-2856f5d22a2a",
   "metadata": {},
   "source": [
    "### Marginal posterior of $N$"
   ]
  },
  {
   "cell_type": "code",
   "execution_count": 16,
   "id": "8ae6404a-2e20-4441-a78b-78671775c1af",
   "metadata": {},
   "outputs": [
    {
     "data": {
      "image/png": "[encoded data removed]",
      "text/plain": [
       "<Figure size 432x288 with 1 Axes>"
      ]
     },
     "metadata": {
      "needs_background": "light"
     },
     "output_type": "display_data"
    }
   ],
   "source": [
    "plt.hist(fit_geom_id.extract()[\"N\"], bins = range(26, 300), density = True)\n",
    "plt.show()"
   ]
  },
  {
   "cell_type": "code",
   "execution_count": 17,
   "id": "1d888fb0-89e3-405a-9728-cbdcfb7811b2",
   "metadata": {},
   "outputs": [
    {
     "name": "stdout",
     "output_type": "stream",
     "text": [
      "Inference for Stan model: anon_model_7c69c4fd31a6b1b0084467fc24a39099.\n",
      "5 chains, each with iter=50000; warmup=25000; thin=1; \n",
      "post-warmup draws per chain=25000, total post-warmup draws=125000.\n",
      "\n",
      "                 mean se_mean     sd   2.5%    25%    50%    75%  97.5%  n_eff   Rhat\n",
      "N               42.43     0.1  17.29  27.29   32.2  37.49  46.62  87.07  31012    1.0\n",
      "probs_logit[1]  -2.97  3.2e-3   0.68  -4.41   -3.4  -2.94   -2.5  -1.75  44473    1.0\n",
      "probs_logit[2]    0.2  3.4e-3   0.63  -1.16   -0.2   0.24   0.64   1.28  34734    1.0\n",
      "theta            0.55  7.6e-4   0.14   0.24   0.45   0.56   0.66   0.78  35252    1.0\n",
      "nu               0.06  1.6e-4   0.04   0.01   0.03   0.05   0.08   0.15  49635    1.0\n",
      "MME1             0.03  3.6e-5 6.7e-3   0.01   0.02   0.03   0.03   0.04  34915    1.0\n",
      "MME2           7.2e-4  1.7e-6 3.3e-4 1.3e-4 4.6e-4 7.1e-4 9.6e-4 1.3e-3  35575    1.0\n",
      "lp__           -19.66  7.4e-3   1.34 -23.12 -20.26 -19.32 -18.69 -18.15  32563    1.0\n",
      "\n",
      "Samples were drawn using NUTS at Mon Jun  7 23:26:47 2021.\n",
      "For each parameter, n_eff is a crude measure of effective sample size,\n",
      "and Rhat is the potential scale reduction factor on split chains (at \n",
      "convergence, Rhat=1).\n"
     ]
    }
   ],
   "source": [
    "geom_corr_data = {\n",
    "    \"x_obs\": impala,\n",
    "    \"n\": impala.shape[0],\n",
    "    'eta': np.array([0,0]), \n",
    "    'Sigma': np.array([[2.5,-1],[-1,2.5]]),\n",
    "}\n",
    "\n",
    "fit_geom_corr = sm_geom_corr.sampling(data=geom_corr_data, iter=50000, chains=5,\n",
    "                                 control=dict(adapt_delta=0.96))\n",
    "\n",
    "print(fit_geom_corr)"
   ]
  },
  {
   "cell_type": "markdown",
   "id": "64dc8eb9-69ff-4463-a0a5-6c0a7dedadec",
   "metadata": {
    "tags": []
   },
   "source": [
    "### Prior predictive checking"
   ]
  },
  {
   "cell_type": "code",
   "execution_count": 18,
   "id": "33c757c0-5bd6-4aec-82a2-36854c9369f5",
   "metadata": {
    "tags": []
   },
   "outputs": [
    {
     "data": {
      "image/png": "[encoded data removed]",
      "text/plain": [
       "<Figure size 1080x288 with 3 Axes>"
      ]
     },
     "metadata": {
      "needs_background": "light"
     },
     "output_type": "display_data"
    }
   ],
   "source": [
    "logit_par = np.random.multivariate_normal(geom_corr_data['eta'], geom_corr_data['Sigma'], 10000)\n",
    "\n",
    "theta = 1/(1 + np.exp(logit_par[:,0]))\n",
    "nu = 1/(1 + np.exp(logit_par[:,1]))\n",
    "N = np.random.geometric(nu)\n",
    "\n",
    "fig, ax = plt.subplots(1,3,figsize = (15,4))\n",
    "ax[0].hist(theta, bins = 100, density = True, histtype = 'step')\n",
    "ax[1].hist(nu, bins = 100, density = True, histtype = 'step')\n",
    "ax[2].hist(N, bins = range(0,20), density = True, histtype = 'step')\n",
    "\n",
    "ax[2].set_title(\"Prior distribution N\")\n",
    "ax[0].set_title(r\"Prior distribution $\\theta$\")\n",
    "ax[1].set_title(r\"Prior distribution $\\nu$\")\n",
    "plt.show()"
   ]
  },
  {
   "cell_type": "markdown",
   "id": "2b9324a4-bc8b-4193-a41a-cf93283a4fe2",
   "metadata": {},
   "source": [
    "### Marginal posterior of $N$"
   ]
  },
  {
   "cell_type": "code",
   "execution_count": 19,
   "id": "f8372160-284e-4e7f-9a68-cf0c427f280a",
   "metadata": {},
   "outputs": [
    {
     "data": {
      "image/png": "[encoded data removed]",
      "text/plain": [
       "<Figure size 432x288 with 1 Axes>"
      ]
     },
     "metadata": {
      "needs_background": "light"
     },
     "output_type": "display_data"
    }
   ],
   "source": [
    "plt.hist(fit_geom_corr.extract()[\"N\"], bins = range(26, 200), density = True)\n",
    "plt.show()"
   ]
  },
  {
   "cell_type": "markdown",
   "id": "118abcb9-095f-4e10-95fe-62a1fbbb06a7",
   "metadata": {},
   "source": [
    "Figure joining the posteriors of $N$"
   ]
  },
  {
   "cell_type": "code",
   "execution_count": 20,
   "id": "3b606def-7097-4b92-9530-97bb107ae162",
   "metadata": {},
   "outputs": [
    {
     "name": "stderr",
     "output_type": "stream",
     "text": [
      "INFO:numexpr.utils:NumExpr defaulting to 4 threads.\n"
     ]
    },
    {
     "data": {
      "image/png": "[encoded data removed]",
      "text/plain": [
       "<Figure size 1440x288 with 4 Axes>"
      ]
     },
     "metadata": {
      "needs_background": "light"
     },
     "output_type": "display_data"
    }
   ],
   "source": [
    "fig, ax = plt.subplots(1,4, figsize = (20,4))\n",
    "\n",
    "sns.histplot(fit_raftery.extract()[\"N\"], bins = range(26, 300), ax = ax[0], stat = 'density')\n",
    "sns.histplot(fit_uninf.extract()[\"N\"], bins = range(26, 300),ax = ax[1], stat = 'density')\n",
    "sns.histplot(fit_geom_id.extract()[\"N\"], bins = range(26, 300), ax = ax[2], stat = 'density')\n",
    "sns.histplot(fit_geom_corr.extract()[\"N\"], bins = range(26, 300), ax = ax[3], stat = 'density')\n",
    "\n",
    "for i in range(4):\n",
    "    ax[i].set_title(r\"$p_{}(N|x)$\".format(i+1), fontsize = 14)\n",
    "    ax[i].set_ylabel(\" \")\n",
    "\n",
    "plt.savefig(\"../images/marginal-distributions.png\", bbox_inches = 'tight')    \n",
    "plt.show()"
   ]
  },
  {
   "cell_type": "markdown",
   "id": "e302c3e9-d206-44c5-9ed0-669a6b9fc218",
   "metadata": {},
   "source": [
    "### Summary statistics"
   ]
  },
  {
   "cell_type": "code",
   "execution_count": 21,
   "id": "a2c013ee-7ee4-407c-aef3-15f8b319f285",
   "metadata": {},
   "outputs": [
    {
     "data": {
      "text/html": [
       "<div>\n",
       "<style scoped>\n",
       "    .dataframe tbody tr th:only-of-type {\n",
       "        vertical-align: middle;\n",
       "    }\n",
       "\n",
       "    .dataframe tbody tr th {\n",
       "        vertical-align: top;\n",
       "    }\n",
       "\n",
       "    .dataframe thead th {\n",
       "        text-align: right;\n",
       "    }\n",
       "</style>\n",
       "<table border=\"1\" class=\"dataframe\">\n",
       "  <thead>\n",
       "    <tr style=\"text-align: right;\">\n",
       "      <th></th>\n",
       "      <th>Mean</th>\n",
       "      <th>Median</th>\n",
       "      <th>MRSE</th>\n",
       "      <th>HDI</th>\n",
       "    </tr>\n",
       "  </thead>\n",
       "  <tbody>\n",
       "    <tr>\n",
       "      <th>0</th>\n",
       "      <td>177.70</td>\n",
       "      <td>40.48</td>\n",
       "      <td>37.78</td>\n",
       "      <td>[26.001448718908023, 123.70020249503489]</td>\n",
       "    </tr>\n",
       "    <tr>\n",
       "      <th>1</th>\n",
       "      <td>356.16</td>\n",
       "      <td>67.03</td>\n",
       "      <td>47.12</td>\n",
       "      <td>[26.036035627289746, 567.2658567928925]</td>\n",
       "    </tr>\n",
       "    <tr>\n",
       "      <th>2</th>\n",
       "      <td>64.84</td>\n",
       "      <td>46.86</td>\n",
       "      <td>41.41</td>\n",
       "      <td>[26.0029850961107, 135.66466675581643]</td>\n",
       "    </tr>\n",
       "    <tr>\n",
       "      <th>3</th>\n",
       "      <td>42.43</td>\n",
       "      <td>37.49</td>\n",
       "      <td>36.17</td>\n",
       "      <td>[26.000040335986057, 69.37022142501675]</td>\n",
       "    </tr>\n",
       "  </tbody>\n",
       "</table>\n",
       "</div>"
      ],
      "text/plain": [
       "     Mean  Median   MRSE                                       HDI\n",
       "0  177.70   40.48  37.78  [26.001448718908023, 123.70020249503489]\n",
       "1  356.16   67.03  47.12   [26.036035627289746, 567.2658567928925]\n",
       "2   64.84   46.86  41.41    [26.0029850961107, 135.66466675581643]\n",
       "3   42.43   37.49  36.17   [26.000040335986057, 69.37022142501675]"
      ]
     },
     "execution_count": 21,
     "metadata": {},
     "output_type": "execute_result"
    }
   ],
   "source": [
    "raft_N = fit_raftery.extract()[\"N\"]\n",
    "uninf_N = fit_uninf.extract()[\"N\"]\n",
    "geom_id_N = fit_geom_id.extract()[\"N\"]\n",
    "geom_corr_N = fit_geom_corr.extract()[\"N\"]\n",
    "\n",
    "se = {\n",
    "    'Mean': [raft_N.mean(), uninf_N.mean(), geom_id_N.mean(), geom_corr_N.mean()],\n",
    "    'Median': [np.median(raft_N), np.median(uninf_N), np.median(geom_id_N), np.median(geom_corr_N)],\n",
    "    'MRSE': [(1/raft_N).mean()/(1/raft_N**2).mean(), (1/uninf_N).mean()/(1/uninf_N**2).mean(),\n",
    "             (1/geom_id_N).mean()/(1/geom_id_N**2).mean(), (1/geom_corr_N).mean()/(1/geom_corr_N**2).mean()],\n",
    "    'HDI': [az.hdi(raft_N, hdi_prop = 0.95), az.hdi(uninf_N, hdi_prop = 0.95), \n",
    "            az.hdi(geom_id_N, hdi_prop = 0.95), az.hdi(geom_corr_N, hdi_prop = 0.95)]\n",
    "}\n",
    "\n",
    "summary_statistics = pd.DataFrame(se)\n",
    "summary_statistics"
   ]
  },
  {
   "cell_type": "markdown",
   "id": "cb095473-116b-457f-a009-81ec0ca81a75",
   "metadata": {},
   "source": [
    "### Waterbuck data"
   ]
  },
  {
   "cell_type": "code",
   "execution_count": 22,
   "id": "6dac0e6e-f24e-46ad-a1e5-843870fa7413",
   "metadata": {},
   "outputs": [
    {
     "name": "stdout",
     "output_type": "stream",
     "text": [
      "Inference for Stan model: anon_model_696db612137e19e852243acc471e9eb6.\n",
      "5 chains, each with iter=50000; warmup=25000; thin=1; \n",
      "post-warmup draws per chain=25000, total post-warmup draws=125000.\n",
      "\n",
      "        mean se_mean     sd   2.5%    25%    50%    75%  97.5%  n_eff   Rhat\n",
      "theta    0.6  8.1e-4   0.11   0.34   0.54   0.62   0.69   0.79  20259    1.0\n",
      "N     104.08    0.46  59.62  78.58  88.33  97.16 110.58  167.9  16506    1.0\n",
      "lPbar 312.16    0.69  94.28 175.12 246.17 297.23 360.55 538.63  18848    1.0\n",
      "MME1    0.01  1.2e-5 1.7e-3 6.0e-3 9.0e-3   0.01   0.01   0.01  19927    1.0\n",
      "MME2  1.0e-4  2.3e-7 3.3e-5 3.5e-5 8.2e-5 1.1e-4 1.3e-4 1.6e-4  21002    1.0\n",
      "lp__   -65.7  7.0e-3   1.07 -68.57 -66.12 -65.37 -64.94 -64.66  23519    1.0\n",
      "\n",
      "Samples were drawn using NUTS at Mon Jun  7 23:27:02 2021.\n",
      "For each parameter, n_eff is a crude measure of effective sample size,\n",
      "and Rhat is the potential scale reduction factor on split chains (at \n",
      "convergence, Rhat=1).\n"
     ]
    }
   ],
   "source": [
    "raft_data = {\n",
    "    \"x_obs\": waterbuck,\n",
    "    \"n\": waterbuck.shape[0],\n",
    "    'a': 1, \n",
    "    'b': 1,\n",
    "    'alpha': 1.,\n",
    "    'beta': 1.,\n",
    "}\n",
    "\n",
    "fit_raftery = sm_raft.sampling(data=raft_data, iter=50000, chains=5,\n",
    "                               control=dict(adapt_delta=0.95))\n",
    "\n",
    "print(fit_raftery)"
   ]
  },
  {
   "cell_type": "markdown",
   "id": "6c03b214-3ae9-4e33-9f98-b7307993d56b",
   "metadata": {},
   "source": [
    "### Marginal posterior of $N$"
   ]
  },
  {
   "cell_type": "code",
   "execution_count": 23,
   "id": "f77b8c73-15d9-4da6-9935-15525283f931",
   "metadata": {},
   "outputs": [
    {
     "data": {
      "image/png": "[encoded data removed]",
      "text/plain": [
       "<Figure size 432x288 with 1 Axes>"
      ]
     },
     "metadata": {
      "needs_background": "light"
     },
     "output_type": "display_data"
    }
   ],
   "source": [
    "plt.hist(fit_raftery.extract()[\"N\"], bins = range(73, 200), density = True, edgecolor = \"none\")\n",
    "plt.show()"
   ]
  },
  {
   "cell_type": "code",
   "execution_count": 24,
   "id": "2a5e2ba8-9336-4b8b-ad26-768442b1f9ac",
   "metadata": {},
   "outputs": [
    {
     "name": "stdout",
     "output_type": "stream",
     "text": [
      "Inference for Stan model: anon_model_696db612137e19e852243acc471e9eb6.\n",
      "5 chains, each with iter=50000; warmup=25000; thin=1; \n",
      "post-warmup draws per chain=25000, total post-warmup draws=125000.\n",
      "\n",
      "        mean se_mean     sd   2.5%    25%    50%    75%  97.5%  n_eff   Rhat\n",
      "theta   0.29  1.5e-3   0.18   0.01   0.13   0.27   0.42   0.66  14721    1.0\n",
      "N     1224.8  154.28  1.8e4  95.17 148.87 235.34 476.21 4948.9  14337    1.0\n",
      "lPbar 747.16    3.29 361.76 286.57 490.23  666.8 913.52 1670.7  12122    1.0\n",
      "MME1  4.5e-3  2.4e-5 2.9e-3 2.0e-4 2.1e-3 4.2e-3 6.7e-3   0.01  14736    1.0\n",
      "MME2  2.9e-5  2.5e-7 3.1e-5 4.1e-8 4.4e-6 1.8e-5 4.5e-5 1.1e-4  15215    1.0\n",
      "lp__  -19.88  8.1e-3   1.09 -22.83  -20.3 -19.54 -19.11 -18.82  18303    1.0\n",
      "\n",
      "Samples were drawn using NUTS at Mon Jun  7 23:27:25 2021.\n",
      "For each parameter, n_eff is a crude measure of effective sample size,\n",
      "and Rhat is the potential scale reduction factor on split chains (at \n",
      "convergence, Rhat=1).\n"
     ]
    }
   ],
   "source": [
    "uninf_data = {\n",
    "    \"x_obs\": waterbuck,\n",
    "    \"n\": waterbuck.shape[0],\n",
    "    'a': 1, \n",
    "    'b': 1,\n",
    "    'alpha': 0,\n",
    "    'beta': 0,\n",
    "}\n",
    "\n",
    "fit_uninf = sm_raft.sampling(data=uninf_data, iter=50000, chains=5,\n",
    "                             control=dict(adapt_delta=0.95))\n",
    "\n",
    "print(fit_uninf)"
   ]
  },
  {
   "cell_type": "markdown",
   "id": "91a45a02-4d31-4874-9d2f-98127d800b91",
   "metadata": {},
   "source": [
    "### Marginal posterior of $N$"
   ]
  },
  {
   "cell_type": "code",
   "execution_count": 25,
   "id": "2928aef3-6460-4b8c-bc33-bbad3983c198",
   "metadata": {},
   "outputs": [
    {
     "data": {
      "image/png": "[encoded data removed]",
      "text/plain": [
       "<Figure size 432x288 with 1 Axes>"
      ]
     },
     "metadata": {
      "needs_background": "light"
     },
     "output_type": "display_data"
    }
   ],
   "source": [
    "plt.hist(fit_uninf.extract()[\"N\"], bins = range(76, 1000,5), density = True, edgecolor = \"none\")\n",
    "plt.show()"
   ]
  },
  {
   "cell_type": "code",
   "execution_count": 26,
   "id": "72376751-9458-42e1-915f-333efff7f5de",
   "metadata": {},
   "outputs": [
    {
     "name": "stdout",
     "output_type": "stream",
     "text": [
      "Inference for Stan model: anon_model_3ba9cd05caf67271b6bbe300ba1e1d2a.\n",
      "5 chains, each with iter=50000; warmup=25000; thin=1; \n",
      "post-warmup draws per chain=25000, total post-warmup draws=125000.\n",
      "\n",
      "        mean se_mean     sd   2.5%    25%    50%    75%  97.5%  n_eff   Rhat\n",
      "N     214.33    1.76 253.26  88.74 118.12 153.38  224.3 709.59  20781    1.0\n",
      "theta   0.41  1.1e-3   0.17   0.09   0.28   0.41   0.53   0.71  22367    1.0\n",
      "nu      0.01  6.0e-5   0.01 9.8e-4 4.9e-3 9.6e-3   0.02   0.04  31994    1.0\n",
      "MME1  6.4e-3  1.8e-5 2.7e-3 1.4e-3 4.5e-3 6.5e-3 8.5e-3   0.01  22341    1.0\n",
      "MME2  4.9e-5  2.2e-7 3.5e-5 2.0e-6 2.0e-5 4.3e-5 7.2e-5 1.3e-4  24230    1.0\n",
      "lp__  -26.21  7.6e-3   1.29 -29.57  -26.8 -25.88 -25.27 -24.73  28755    1.0\n",
      "\n",
      "Samples were drawn using NUTS at Mon Jun  7 23:28:00 2021.\n",
      "For each parameter, n_eff is a crude measure of effective sample size,\n",
      "and Rhat is the potential scale reduction factor on split chains (at \n",
      "convergence, Rhat=1).\n"
     ]
    }
   ],
   "source": [
    "geom_id_data = {\n",
    "    \"x_obs\": waterbuck,\n",
    "    \"n\": waterbuck.shape[0],\n",
    "    'alpha1': 1, \n",
    "    'alpha2': 1,\n",
    "    'beta1': 1,\n",
    "    'beta2': 1,\n",
    "}\n",
    "\n",
    "fit_geom_id = sm_geom_id.sampling(data=geom_id_data, iter=50000, chains=5,\n",
    "                                control=dict(adapt_delta=0.99))\n",
    "\n",
    "print(fit_geom_id)"
   ]
  },
  {
   "cell_type": "markdown",
   "id": "c12075de-6105-409b-a9c3-eeb1dbcd65da",
   "metadata": {},
   "source": [
    "### Marginal posterior of $N$"
   ]
  },
  {
   "cell_type": "code",
   "execution_count": 27,
   "id": "bf918b44-fd4d-4b9c-bccd-66cf71b19cf7",
   "metadata": {},
   "outputs": [
    {
     "data": {
      "image/png": "[encoded data removed]",
      "text/plain": [
       "<Figure size 432x288 with 1 Axes>"
      ]
     },
     "metadata": {
      "needs_background": "light"
     },
     "output_type": "display_data"
    }
   ],
   "source": [
    "plt.hist(fit_geom_id.extract()[\"N\"], bins = range(70, 500), density = True, edgecolor = \"none\")\n",
    "plt.show()"
   ]
  },
  {
   "cell_type": "code",
   "execution_count": 28,
   "id": "8b7cbfa8-daca-4853-9a54-0dcebc65fb5f",
   "metadata": {},
   "outputs": [
    {
     "name": "stdout",
     "output_type": "stream",
     "text": [
      "Inference for Stan model: anon_model_7c69c4fd31a6b1b0084467fc24a39099.\n",
      "5 chains, each with iter=50000; warmup=25000; thin=1; \n",
      "post-warmup draws per chain=25000, total post-warmup draws=125000.\n",
      "\n",
      "                 mean se_mean     sd   2.5%    25%    50%    75%  97.5%  n_eff   Rhat\n",
      "N              125.98    0.29  44.85   82.3  98.31  113.9 138.89 241.54  24588    1.0\n",
      "probs_logit[1]  -3.89  3.1e-3   0.62  -5.23  -4.29  -3.85  -3.46  -2.78  39321    1.0\n",
      "probs_logit[2]   0.18  3.5e-3   0.58  -1.04  -0.19   0.22   0.59   1.21  26805    1.0\n",
      "theta            0.54  8.1e-4   0.13   0.26   0.45   0.55   0.64   0.77  27018    1.0\n",
      "nu               0.02  6.6e-5   0.01 5.4e-3   0.01   0.02   0.03   0.06  43284    1.0\n",
      "MME1           8.6e-3  1.3e-5 2.1e-3 4.1e-3 7.2e-3 8.8e-3   0.01   0.01  26907    1.0\n",
      "MME2           7.8e-5  2.1e-7 3.5e-5 1.7e-5 5.2e-5 7.7e-5 1.0e-4 1.5e-4  27932    1.0\n",
      "lp__           -24.65  7.0e-3   1.29  -28.0 -25.22 -24.31 -23.71  -23.2  34127    1.0\n",
      "\n",
      "Samples were drawn using NUTS at Mon Jun  7 23:28:22 2021.\n",
      "For each parameter, n_eff is a crude measure of effective sample size,\n",
      "and Rhat is the potential scale reduction factor on split chains (at \n",
      "convergence, Rhat=1).\n"
     ]
    }
   ],
   "source": [
    "geom_corr_data = {\n",
    "    \"x_obs\": waterbuck,\n",
    "    \"n\": waterbuck.shape[0],\n",
    "    'eta': np.array([0,0]), \n",
    "    'Sigma': np.array([[2.5,-1],[-1,2.5]]),\n",
    "}\n",
    "\n",
    "fit_geom_corr = sm_geom_corr.sampling(data=geom_corr_data, iter=50000, chains=5,\n",
    "                                 control=dict(adapt_delta=0.96))\n",
    "\n",
    "print(fit_geom_corr)"
   ]
  },
  {
   "cell_type": "markdown",
   "id": "495ebfb8-84ef-488a-9dc2-22ed689fd2a5",
   "metadata": {},
   "source": [
    "### Marginal posterior of $N$"
   ]
  },
  {
   "cell_type": "code",
   "execution_count": 29,
   "id": "24879d62-a401-4d9d-9646-74c8b0128c4b",
   "metadata": {},
   "outputs": [
    {
     "data": {
      "image/png": "[encoded data removed]",
      "text/plain": [
       "<Figure size 432x288 with 1 Axes>"
      ]
     },
     "metadata": {
      "needs_background": "light"
     },
     "output_type": "display_data"
    }
   ],
   "source": [
    "plt.hist(fit_geom_corr.extract()[\"N\"], bins = range(75, 300), density = True, edgecolor = \"none\")\n",
    "plt.show()"
   ]
  },
  {
   "cell_type": "markdown",
   "id": "466f83a2-387c-411c-8ef1-8dfc39f06c00",
   "metadata": {},
   "source": [
    "Figure joining the posteriors of $N$"
   ]
  },
  {
   "cell_type": "code",
   "execution_count": 30,
   "id": "8a6286b1-fa56-4ba3-b196-3d7df5168fca",
   "metadata": {},
   "outputs": [
    {
     "data": {
      "image/png": "[encoded data removed]",
      "text/plain": [
       "<Figure size 1440x288 with 4 Axes>"
      ]
     },
     "metadata": {
      "needs_background": "light"
     },
     "output_type": "display_data"
    }
   ],
   "source": [
    "fig, ax = plt.subplots(1,4, figsize = (20,4))\n",
    "\n",
    "sns.histplot(fit_raftery.extract()[\"N\"], bins = range(70, 500), ax = ax[0], stat = 'density')\n",
    "sns.histplot(fit_uninf.extract()[\"N\"], bins = range(70, 1000),ax = ax[1], stat = 'density')\n",
    "sns.histplot(fit_geom_id.extract()[\"N\"], bins = range(70, 500), ax = ax[2], stat = 'density')\n",
    "sns.histplot(fit_geom_corr.extract()[\"N\"], bins = range(70, 500), ax = ax[3], stat = 'density')\n",
    "\n",
    "for i in range(4):\n",
    "    ax[i].set_title(r\"$p_{}(N|x)$\".format(i+1), fontsize = 14)\n",
    "    ax[i].set_ylabel(\" \")\n",
    "\n",
    "plt.savefig(\"../images/marginal-distributions-waterbuck.png\", bbox_inches = 'tight')    \n",
    "plt.show()"
   ]
  },
  {
   "cell_type": "markdown",
   "id": "59650c64-ed9d-4a08-9be4-2b77f5e89985",
   "metadata": {},
   "source": [
    "### Summary statistics"
   ]
  },
  {
   "cell_type": "code",
   "execution_count": 33,
   "id": "f8c9d742-eb47-40f4-bd2a-e00e298f4694",
   "metadata": {},
   "outputs": [
    {
     "data": {
      "text/html": [
       "<div>\n",
       "<style scoped>\n",
       "    .dataframe tbody tr th:only-of-type {\n",
       "        vertical-align: middle;\n",
       "    }\n",
       "\n",
       "    .dataframe tbody tr th {\n",
       "        vertical-align: top;\n",
       "    }\n",
       "\n",
       "    .dataframe thead th {\n",
       "        text-align: right;\n",
       "    }\n",
       "</style>\n",
       "<table border=\"1\" class=\"dataframe\">\n",
       "  <thead>\n",
       "    <tr style=\"text-align: right;\">\n",
       "      <th></th>\n",
       "      <th>Mean</th>\n",
       "      <th>Median</th>\n",
       "      <th>MRSE</th>\n",
       "      <th>HDI</th>\n",
       "    </tr>\n",
       "  </thead>\n",
       "  <tbody>\n",
       "    <tr>\n",
       "      <th>0</th>\n",
       "      <td>104.08</td>\n",
       "      <td>97.16</td>\n",
       "      <td>96.62</td>\n",
       "      <td>[75.29, 143.63]</td>\n",
       "    </tr>\n",
       "    <tr>\n",
       "      <th>1</th>\n",
       "      <td>1224.80</td>\n",
       "      <td>235.34</td>\n",
       "      <td>155.68</td>\n",
       "      <td>[76.01, 2072.85]</td>\n",
       "    </tr>\n",
       "    <tr>\n",
       "      <th>2</th>\n",
       "      <td>214.33</td>\n",
       "      <td>153.38</td>\n",
       "      <td>132.56</td>\n",
       "      <td>[76.31, 456.49]</td>\n",
       "    </tr>\n",
       "    <tr>\n",
       "      <th>3</th>\n",
       "      <td>125.98</td>\n",
       "      <td>113.90</td>\n",
       "      <td>109.71</td>\n",
       "      <td>[76.43, 199.42]</td>\n",
       "    </tr>\n",
       "  </tbody>\n",
       "</table>\n",
       "</div>"
      ],
      "text/plain": [
       "      Mean  Median    MRSE               HDI\n",
       "0   104.08   97.16   96.62   [75.29, 143.63]\n",
       "1  1224.80  235.34  155.68  [76.01, 2072.85]\n",
       "2   214.33  153.38  132.56   [76.31, 456.49]\n",
       "3   125.98  113.90  109.71   [76.43, 199.42]"
      ]
     },
     "execution_count": 33,
     "metadata": {},
     "output_type": "execute_result"
    }
   ],
   "source": [
    "raft_N = fit_raftery.extract()[\"N\"]\n",
    "uninf_N = fit_uninf.extract()[\"N\"]\n",
    "geom_id_N = fit_geom_id.extract()[\"N\"]\n",
    "geom_corr_N = fit_geom_corr.extract()[\"N\"]\n",
    "\n",
    "se = {\n",
    "    'Mean': [raft_N.mean(), uninf_N.mean(), geom_id_N.mean(), geom_corr_N.mean()],\n",
    "    'Median': [np.median(raft_N), np.median(uninf_N), np.median(geom_id_N), np.median(geom_corr_N)],\n",
    "    'MRSE': [(1/raft_N).mean()/(1/raft_N**2).mean(), (1/uninf_N).mean()/(1/uninf_N**2).mean(),\n",
    "             (1/geom_id_N).mean()/(1/geom_id_N**2).mean(), (1/geom_corr_N).mean()/(1/geom_corr_N**2).mean()],\n",
    "    'HDI': [az.hdi(raft_N, hdi_prop = 0.95), az.hdi(uninf_N, hdi_prop = 0.95), \n",
    "            az.hdi(geom_id_N, hdi_prop = 0.95), az.hdi(geom_corr_N, hdi_prop = 0.95)]\n",
    "}\n",
    "\n",
    "summary_statistics = pd.DataFrame(se)\n",
    "summary_statistics.HDI = summary_statistics.HDI.apply(lambda x: [round(x[0],2), round(x[1],2)])\n",
    "summary_statistics"
   ]
  },
  {
   "cell_type": "markdown",
   "id": "19255c90-cfa0-42af-83e8-147a3eae0ed1",
   "metadata": {},
   "source": [
    "## Comparing the simulation to the closed-form distributions"
   ]
  },
  {
   "cell_type": "code",
   "execution_count": 85,
   "id": "319f0a50-0952-4983-8475-cd48fa9f9aae",
   "metadata": {},
   "outputs": [],
   "source": [
    "geom_id_data = {\n",
    "    \"x_obs\": impala,\n",
    "    \"n\": impala.shape[0],\n",
    "    'alpha1': 1, \n",
    "    'alpha2': 1,\n",
    "    'beta1': 1,\n",
    "    'beta2': 1,\n",
    "}\n",
    "\n",
    "fit_geom_id = sm_geom_id.sampling(data=geom_id_data, iter=50000, chains=5,\n",
    "                                control=dict(adapt_delta=0.99))\n",
    "\n",
    "uninf_data = {\n",
    "    \"x_obs\": impala,\n",
    "    \"n\": impala.shape[0],\n",
    "    'a': 1, \n",
    "    'b': 1,\n",
    "    'alpha': 0,\n",
    "    'beta': 0,\n",
    "}\n",
    "\n",
    "fit_uninf = sm_raft.sampling(data=uninf_data, iter=50000, chains=5,\n",
    "                             control=dict(adapt_delta=0.95))"
   ]
  },
  {
   "cell_type": "markdown",
   "id": "443a844a-160f-4a5b-a4a6-69b8eb9872ba",
   "metadata": {},
   "source": [
    "### Geometric distribution"
   ]
  },
  {
   "cell_type": "code",
   "execution_count": 126,
   "id": "2d531f12-e10d-42f2-92eb-fb87f54075d6",
   "metadata": {},
   "outputs": [],
   "source": [
    "S = sum(impala)\n",
    "n = len(impala)\n",
    "xmax = max(impala)\n",
    "\n",
    "def p1_geom_unnorm(N, x_obs): \n",
    "    \n",
    "    result = np.prod([comb(N,i) for i in x_obs])\n",
    "    result *= beta(geom_id_data[\"alpha1\"] + 1, N + geom_id_data[\"beta1\"])\n",
    "    result *= beta(S+geom_id_data[\"alpha2\"], n*N - S + geom_id_data[\"beta2\"])\n",
    "    return result\n",
    "\n",
    "constant_geom = 0 \n",
    "N = xmax\n",
    "eps = 1\n",
    "while eps > 1e-16: \n",
    "    eps = p1_geom_unnorm(N, impala)\n",
    "    constant_geom += eps\n",
    "    N += 1\n",
    "    \n",
    "def p1_geom(N, x_obs): \n",
    "    \n",
    "    return p1_geom_unnorm(N, x_obs)/constant_geom"
   ]
  },
  {
   "cell_type": "markdown",
   "id": "1575ee9a-2dcf-463b-83fb-4a13e5f8a0f8",
   "metadata": {},
   "source": [
    "### Raftery uninformative"
   ]
  },
  {
   "cell_type": "code",
   "execution_count": 127,
   "id": "22cc6ecb-1195-4228-8df5-20f272daf88c",
   "metadata": {},
   "outputs": [],
   "source": [
    "def p2_uninf_unnorm(N, x_obs): \n",
    "    \n",
    "    result = np.prod([comb(N,i) for i in x_obs])\n",
    "    d = n*N+1\n",
    "    while d > n*N - S: \n",
    "        result /= d\n",
    "        d -= 1\n",
    "    result /= N\n",
    "    return result*1e179\n",
    "\n",
    "constant_uninf = 0 \n",
    "N = xmax\n",
    "eps = 1\n",
    "while eps > 0.01: \n",
    "    eps = p2_uninf_unnorm(N, impala)\n",
    "    constant_uninf += eps\n",
    "    N += 1\n",
    "    \n",
    "def p2_uninf(N, x_obs): \n",
    "    \n",
    "    return p2_uninf_unnorm(N, x_obs)/constant_uninf"
   ]
  },
  {
   "cell_type": "code",
   "execution_count": 134,
   "id": "01971730-2522-499c-b632-b5b67cbe72f7",
   "metadata": {},
   "outputs": [
    {
     "data": {
      "image/png": "[encoded data removed]",
      "text/plain": [
       "<Figure size 1008x288 with 2 Axes>"
      ]
     },
     "metadata": {},
     "output_type": "display_data"
    }
   ],
   "source": [
    "fig, ax = plt.subplots(1,2, figsize = (14,4))\n",
    "\n",
    "ax[0].hist(fit_geom_id.extract()[\"N\"], bins= range(xmax, 200), density = True, linewidth=0.4, label = \"Sampling\")\n",
    "ax[0].plot(range(xmax,200), [p1_geom(N,impala) for N in range(xmax,200)], linewidth = 4, label = \"Closed-form\")\n",
    "ax[1].hist(fit_uninf.extract()[\"N\"], bins= range(xmax, 400), density = True, linewidth=0.2, label = \"Sampling\")\n",
    "ax[1].plot(range(xmax,400), [p2_uninf(N,impala) for N in range(xmax,400)], linewidth = 4, label = \"Closed-form\")\n",
    "\n",
    "ax[0].legend()\n",
    "ax[1].legend()\n",
    "ax[0].set_title(\"Geometric independent model\")\n",
    "ax[1].set_title(\"Raftery uninformative model\")\n",
    "\n",
    "plt.savefig(\"../images/approximation-analysis-stan.png\")\n",
    "plt.show()"
   ]
  },
  {
   "cell_type": "code",
   "execution_count": null,
   "id": "00ecd299-7ca8-4377-a683-8c695821d3e5",
   "metadata": {},
   "outputs": [],
   "source": []
  }
 ],
 "metadata": {
  "kernelspec": {
   "display_name": "Python 3.7.3 64-bit ('base')",
   "language": "python",
   "name": "python37364bitbase6782713bed674ed7a26121bd52530782"
  },
  "language_info": {
   "codemirror_mode": {
    "name": "ipython",
    "version": 3
   },
   "file_extension": ".py",
   "mimetype": "text/x-python",
   "name": "python",
   "nbconvert_exporter": "python",
   "pygments_lexer": "ipython3",
   "version": "3.7.1"
  }
 },
 "nbformat": 4,
 "nbformat_minor": 5
}
